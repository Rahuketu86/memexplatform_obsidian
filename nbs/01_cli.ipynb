{
 "cells": [
  {
   "cell_type": "markdown",
   "metadata": {},
   "source": [
    "# cli\n",
    "\n",
    "> This module contains implementation for all the command line apps"
   ]
  },
  {
   "cell_type": "code",
   "execution_count": null,
   "metadata": {},
   "outputs": [],
   "source": [
    "#| default_exp cli"
   ]
  },
  {
   "cell_type": "code",
   "execution_count": null,
   "metadata": {},
   "outputs": [],
   "source": [
    "#|hide\n",
    "from nbdev.showdoc import *\n",
    "from dotenv import *"
   ]
  },
  {
   "cell_type": "code",
   "execution_count": null,
   "metadata": {},
   "outputs": [],
   "source": [
    "%load_ext dotenv\n",
    "%dotenv"
   ]
  },
  {
   "cell_type": "code",
   "execution_count": null,
   "metadata": {},
   "outputs": [],
   "source": [
    "#|export\n",
    "from fastcore.script import call_parse\n",
    "import pathlib\n",
    "import os\n",
    "from fastlite import *\n",
    "from rich.console import Console\n",
    "from starlette.routing import Mount, Route\n",
    "from watchdog.observers import Observer\n",
    "from watchdog.events import FileSystemEventHandler\n",
    "import time"
   ]
  },
  {
   "cell_type": "code",
   "execution_count": null,
   "metadata": {},
   "outputs": [],
   "source": [
    "#| export\n",
    "console = Console()"
   ]
  },
  {
   "cell_type": "code",
   "execution_count": null,
   "metadata": {},
   "outputs": [],
   "source": [
    "#| export\n",
    "#| notest\n",
    "@call_parse\n",
    "def chelp():\n",
    "    \"Show help for all console scripts\"\n",
    "    from fastcore.xtras import console_help\n",
    "    console_help('memexplatform_obsidian')"
   ]
  },
  {
   "cell_type": "code",
   "execution_count": null,
   "metadata": {},
   "outputs": [],
   "source": [
    "# #| notest\n",
    "# chelp()"
   ]
  },
  {
   "cell_type": "code",
   "execution_count": null,
   "metadata": {},
   "outputs": [],
   "source": [
    "#| export\n",
    "\n",
    "@call_parse\n",
    "def sync_vault(reindex=False):\n",
    "    \"Initialize the databasee\"\n",
    "    from memexplatform_obsidian.datastore import DBStore\n",
    "    from memexplatform_obsidian.commons import config\n",
    "    store = DBStore(config)\n",
    "    store.initdb()\n",
    "    store.sync_vault(reindex=reindex)"
   ]
  },
  {
   "cell_type": "code",
   "execution_count": null,
   "metadata": {},
   "outputs": [],
   "source": [
    "#| export\n",
    "class VaultEventHandler(FileSystemEventHandler):\n",
    "    def __init__(self, debounce: float = 2.0):\n",
    "        super().__init__()\n",
    "        self.debounce = debounce\n",
    "        self.last_sync = 0\n",
    "\n",
    "    def on_any_event(self, event):\n",
    "        now = time.time()\n",
    "        if now - self.last_sync > self.debounce:\n",
    "            print(f\"🔄 Detected changes in vault, syncing...\")\n",
    "            sync_vault()\n",
    "            self.last_sync = now\n",
    "\n",
    "\n",
    "@call_parse\n",
    "def watch_vault(vault_path: str = None, debounce: float = 2.0):\n",
    "    \"\"\"\n",
    "    Watch a vault directory for changes and run sync_vault() automatically.\n",
    "    \n",
    "    - vault_path: Path to Obsidian vault (default from config.vault_path if not provided).\n",
    "    - debounce: Seconds to wait before re-triggering sync after a change.\n",
    "    \"\"\"\n",
    "\n",
    "    from memexplatform_obsidian.datastore import DBStore\n",
    "    from memexplatform_obsidian.commons import config\n",
    "    if vault_path is None:\n",
    "        vault_path = config.OBSIDIAN_VAULT\n",
    "\n",
    "    vault_path = pathlib.Path(vault_path).expanduser().resolve()\n",
    "    if not vault_path.exists():\n",
    "        raise FileNotFoundError(f\"Vault path does not exist: {vault_path}\")\n",
    "\n",
    "    event_handler = VaultEventHandler(debounce=debounce)\n",
    "    observer = Observer()\n",
    "    observer.schedule(event_handler, str(vault_path), recursive=True)\n",
    "\n",
    "    print(f\"👀 Watching vault at {vault_path}\")\n",
    "    observer.start()\n",
    "    try:\n",
    "        while True:\n",
    "            time.sleep(1)\n",
    "    except KeyboardInterrupt:\n",
    "        print(\"🛑 Stopping vault watcher...\")\n",
    "        observer.stop()\n",
    "    observer.join()"
   ]
  },
  {
   "cell_type": "code",
   "execution_count": null,
   "metadata": {},
   "outputs": [],
   "source": []
  },
  {
   "cell_type": "code",
   "execution_count": null,
   "metadata": {},
   "outputs": [],
   "source": [
    "#|hide\n",
    "import nbdev; nbdev.nbdev_export()"
   ]
  },
  {
   "cell_type": "code",
   "execution_count": null,
   "metadata": {},
   "outputs": [],
   "source": []
  },
  {
   "cell_type": "code",
   "execution_count": null,
   "metadata": {},
   "outputs": [],
   "source": []
  },
  {
   "cell_type": "code",
   "execution_count": null,
   "metadata": {},
   "outputs": [],
   "source": []
  },
  {
   "cell_type": "code",
   "execution_count": null,
   "metadata": {},
   "outputs": [],
   "source": []
  }
 ],
 "metadata": {
  "kernelspec": {
   "display_name": "python3",
   "language": "python",
   "name": "python3"
  }
 },
 "nbformat": 4,
 "nbformat_minor": 4
}
