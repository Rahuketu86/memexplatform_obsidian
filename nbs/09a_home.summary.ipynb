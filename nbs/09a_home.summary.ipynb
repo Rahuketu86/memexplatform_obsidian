{
 "cells": [
  {
   "cell_type": "markdown",
   "id": "6796d26d",
   "metadata": {},
   "source": [
    "# Summary\n",
    "\n",
    "> Obsidian App Summary Dashboard"
   ]
  },
  {
   "cell_type": "code",
   "execution_count": null,
   "id": "0161d446",
   "metadata": {},
   "outputs": [],
   "source": [
    "#| default_exp home.summary"
   ]
  },
  {
   "cell_type": "code",
   "execution_count": null,
   "id": "c370c23f",
   "metadata": {},
   "outputs": [],
   "source": [
    "#| export\n",
    "from fasthtml.common import *\n",
    "from monsterui.all import *\n",
    "from memexplatform_obsidian.datastore import FileStore, NoteStore, DBStore, iter_files\n",
    "from memexplatform_obsidian.commons import config, ExtensionTypes\n",
    "import pandas as pd"
   ]
  },
  {
   "cell_type": "code",
   "execution_count": null,
   "id": "1b7cf71d",
   "metadata": {},
   "outputs": [
    {
     "name": "stdout",
     "output_type": "stream",
     "text": [
      "os.stat_result(st_mode=33188, st_ino=171505886, st_dev=16777230, st_nlink=1, st_uid=1803992684, st_gid=826136866, st_size=57683, st_atime=1756674677, st_mtime=1756562895, st_ctime=1756562895)\n"
     ]
    }
   ],
   "source": [
    "#| notest\n",
    "fstore = FileStore(config)\n",
    "dirs = fstore.subdirs; dirs\n",
    "for f in iter_files(dirs): \n",
    "    infos = f.lstat(); print(infos)\n",
    "    break"
   ]
  },
  {
   "cell_type": "code",
   "execution_count": null,
   "id": "7d8637b3",
   "metadata": {},
   "outputs": [],
   "source": [
    "#| export\n",
    "def get_df(config, fldrs = ['pages', 'journals'], extensions = ExtensionTypes.TEXTLIKE_EXTS):\n",
    "    store =  DBStore(config) if config.ENABLE_DB_MODE else FileStore(config)\n",
    "    flds = \",\".join(f\"'{e}'\" for e in fldrs)\n",
    "    exts = \",\".join(f\"'{e.lstrip('.')}'\"for e in  extensions); exts\n",
    "    a = list(store.db.query(f\"\"\"\n",
    "        select title, url, created_time, modified_time from node \n",
    "        where is_folder=0 \n",
    "        and parent in ({flds})\n",
    "        and ext in ({exts})\n",
    "        \"\"\")); a\n",
    "    # ); a\n",
    "\n",
    "    if a:\n",
    "        df = pd.DataFrame.from_records(a); df\n",
    "        df['created_time'] = pd.to_datetime(df['created_time'],  unit='s', utc=True).dt.date\n",
    "        df['modified_time'] = pd.to_datetime(df['modified_time'], unit='s', utc=True).dt.date\n",
    "        return df\n",
    "    else: return None"
   ]
  },
  {
   "cell_type": "code",
   "execution_count": null,
   "id": "8df72608",
   "metadata": {},
   "outputs": [],
   "source": []
  },
  {
   "cell_type": "code",
   "execution_count": null,
   "id": "f6300792",
   "metadata": {},
   "outputs": [],
   "source": [
    "#| export\n",
    "def chart_tags():\n",
    "    store =  DBStore(config) if config.ENABLE_DB_MODE else FileStore(config)\n",
    "    query = f\"\"\"\n",
    "    select distinct n.title, n.url, p.value as tag\n",
    "    from node n\n",
    "    join properties p on n.lockey = p.lockey\n",
    "    where p.type = 'TagLink'\n",
    "    and n.parent in ('pages', 'journals', 'Clippings')\n",
    "    \"\"\"\n",
    "    a = list(store.db.query(query)); a\n",
    "    df = pd.DataFrame.from_records(a); df\n",
    "    # df.groupby('tag')['title'].count().sort_values(ascending=False)\n",
    "    # Aggregate counts\n",
    "    tag_counts = (\n",
    "        df.groupby(\"tag\")[\"title\"]\n",
    "        .count()\n",
    "        .sort_values(ascending=False)\n",
    "    )\n",
    "\n",
    "    series_data = tag_counts.values.tolist()\n",
    "    categories = tag_counts.index.tolist()\n",
    "\n",
    "    return ApexChart(\n",
    "        opts={\n",
    "            \"series\": [\n",
    "                {\"name\": \"Notes\", \"data\": series_data}\n",
    "            ],\n",
    "            \"chart\": {\n",
    "                \"type\": \"bar\",\n",
    "                \"height\": 400\n",
    "            },\n",
    "            \"plotOptions\": {\n",
    "                \"bar\": {\n",
    "                    \"borderRadius\": 4,\n",
    "                    \"horizontal\": True\n",
    "                }\n",
    "            },\n",
    "            \"dataLabels\": {\"enabled\": False},\n",
    "            \"xaxis\": {\n",
    "                \"categories\": categories,\n",
    "                \"title\": {\"text\": \"Count\"}\n",
    "            },\n",
    "            \"yaxis\": {\n",
    "                \"title\": {\"text\": \"Tag\"}\n",
    "            },\n",
    "            \"legend\": {\"show\": False}\n",
    "        },\n",
    "        cls=\"max-w-3xl max-h-lg\"\n",
    "    )"
   ]
  },
  {
   "cell_type": "code",
   "execution_count": null,
   "id": "0e2de324",
   "metadata": {},
   "outputs": [
    {
     "data": {
      "text/markdown": [
       "```html\n",
       "<div class=\"max-w-3xl max-h-lg\">\n",
       "<uk-chart><script type='application/json'>{\"series\": [{\"name\": \"Notes\", \"data\": [13, 12, 9, 6, 4, 4, 2, 1, 1, 1, 1, 1, 1, 1, 1, 1]}], \"chart\": {\"type\": \"bar\", \"height\": 400}, \"plotOptions\": {\"bar\": {\"borderRadius\": 4, \"horizontal\": true}}, \"dataLabels\": {\"enabled\": false}, \"xaxis\": {\"categories\": [\"#clippings\", \"#inbox\", \"#Vault\", \"#Project\", \"#Person\", \"#excalidraw\", \"#Pillar\", \"#Thought\", \"#banker\", \"#conservative\", \"#democrat\", \"#endregion\", \"#female\", \"#impression\", \"#liberal\", \"#region\"], \"title\": {\"text\": \"Count\"}}, \"yaxis\": {\"title\": {\"text\": \"Tag\"}}, \"legend\": {\"show\": false}}</script></uk-chart></div>\n",
       "\n",
       "```"
      ],
      "text/plain": [
       "div((uk-chart(('<script type=\\'application/json\\'>{\"series\": [{\"name\": \"Notes\", \"data\": [13, 12, 9, 6, 4, 4, 2, 1, 1, 1, 1, 1, 1, 1, 1, 1]}], \"chart\": {\"type\": \"bar\", \"height\": 400}, \"plotOptions\": {\"bar\": {\"borderRadius\": 4, \"horizontal\": true}}, \"dataLabels\": {\"enabled\": false}, \"xaxis\": {\"categories\": [\"#clippings\", \"#inbox\", \"#Vault\", \"#Project\", \"#Person\", \"#excalidraw\", \"#Pillar\", \"#Thought\", \"#banker\", \"#conservative\", \"#democrat\", \"#endregion\", \"#female\", \"#impression\", \"#liberal\", \"#region\"], \"title\": {\"text\": \"Count\"}}, \"yaxis\": {\"title\": {\"text\": \"Tag\"}}, \"legend\": {\"show\": false}}</script>',),{}),),{'class': 'max-w-3xl max-h-lg'})"
      ]
     },
     "execution_count": null,
     "metadata": {},
     "output_type": "execute_result"
    }
   ],
   "source": [
    "chart_tags()"
   ]
  },
  {
   "cell_type": "code",
   "execution_count": null,
   "id": "b21572e3",
   "metadata": {},
   "outputs": [
    {
     "data": {
      "text/plain": [
       "[{'x': '2025-08-30', 'y': 2},\n",
       " {'x': '2025-08-31', 'y': 10},\n",
       " {'x': '2025-09-01', 'y': 4},\n",
       " {'x': '2025-09-02', 'y': 7},\n",
       " {'x': '2025-09-04', 'y': 7},\n",
       " {'x': '2025-09-06', 'y': 4},\n",
       " {'x': '2025-09-07', 'y': 1},\n",
       " {'x': '2025-09-08', 'y': 2},\n",
       " {'x': '2025-09-09', 'y': 1},\n",
       " {'x': '2025-09-10', 'y': 3},\n",
       " {'x': '2025-09-12', 'y': 6},\n",
       " {'x': '2025-09-13', 'y': 2},\n",
       " {'x': '2025-09-14', 'y': 3},\n",
       " {'x': '2025-09-18', 'y': 1},\n",
       " {'x': '2025-09-21', 'y': 4},\n",
       " {'x': '2025-09-22', 'y': 7},\n",
       " {'x': '2025-09-23', 'y': 1},\n",
       " {'x': '2025-09-25', 'y': 3},\n",
       " {'x': '2025-09-27', 'y': 2},\n",
       " {'x': '2025-09-28', 'y': 2}]"
      ]
     },
     "execution_count": null,
     "metadata": {},
     "output_type": "execute_result"
    }
   ],
   "source": [
    "\n",
    "#| notest\n",
    "df = get_df(config)\n",
    "df_created = df.groupby('created_time')['title'].count()\n",
    "df_modified = df.groupby('modified_time')['title'].count()\n",
    "\n",
    "\n",
    "created_series = [\n",
    "    {\"x\": d.strftime(\"%Y-%m-%d\"), \"y\": int(v)}\n",
    "    for d, v in df_created.items()\n",
    "]; created_series\n",
    "\n",
    "\n",
    "modified_series = [\n",
    "    {\"x\": d.strftime(\"%Y-%m-%d\"), \"y\": int(v)}\n",
    "    for d, v in df_modified.items()\n",
    "]; modified_series"
   ]
  },
  {
   "cell_type": "code",
   "execution_count": null,
   "id": "aede89b7",
   "metadata": {},
   "outputs": [],
   "source": [
    "#| export\n",
    "def InfoCard(title, value, change): \n",
    "    return Card(H3(value), footer=P(change, cls=TextPresets.muted_sm), header = H4(title))"
   ]
  },
  {
   "cell_type": "code",
   "execution_count": null,
   "id": "27a18a52",
   "metadata": {},
   "outputs": [],
   "source": [
    "#| notest\n",
    "df = get_df(config, fldrs=['pages', 'journals'], extensions=ExtensionTypes.TEXTLIKE_EXTS)\n",
    "s = df.groupby('created_time')['title'].count()\n"
   ]
  },
  {
   "cell_type": "code",
   "execution_count": null,
   "id": "c90f2097",
   "metadata": {},
   "outputs": [],
   "source": [
    "#| export\n",
    "def get_infocard(df, header='Notes'):\n",
    "    if df is not None:\n",
    "        count = df.count()['title']\n",
    "        s = df.groupby('created_time')['title'].count()\n",
    "        m = f\"+{s[s.index.max()]} last on  {s.index.max()}\";m\n",
    "    else:\n",
    "        count = 0\n",
    "        s = 0\n",
    "        m = \"No additional info\"\n",
    "    return InfoCard(header, count, m)"
   ]
  },
  {
   "cell_type": "code",
   "execution_count": null,
   "id": "28f9f014",
   "metadata": {},
   "outputs": [],
   "source": [
    "#| export\n",
    "def chart_timeseries(df):\n",
    "    # Convert dataframe into Apex format\n",
    "    df_created = df.groupby('created_time')['title'].count()\n",
    "    df_modified = df.groupby('modified_time')['title'].count()\n",
    "    created_series = [\n",
    "        {\"x\": d.strftime(\"%Y-%m-%d\"), \"y\": int(v)}\n",
    "        for d, v in df_created.items()\n",
    "    ]; created_series\n",
    "\n",
    "\n",
    "    modified_series = [\n",
    "        {\"x\": d.strftime(\"%Y-%m-%d\"), \"y\": int(v)}\n",
    "        for d, v in df_modified.items()\n",
    "    ]; modified_series\n",
    "\n",
    "    return ApexChart(\n",
    "        opts={\n",
    "            \"chart\": {\n",
    "                \"type\": \"line\",\n",
    "                \"zoom\": {\"enabled\": True},\n",
    "                \"toolbar\": {\"show\": True}\n",
    "            },\n",
    "            \"stroke\": {\"curve\": \"smooth\"},\n",
    "            \"series\": [\n",
    "                {\"name\": \"Created\",  \"data\": created_series},\n",
    "                {\"name\": \"Modified\", \"data\": modified_series}\n",
    "            ],\n",
    "            \"xaxis\": {\n",
    "                \"type\": \"datetime\",\n",
    "                \"title\": {\"text\": \"Date\"}\n",
    "            },\n",
    "            \"yaxis\": {\n",
    "                \"title\": {\"text\": \"Count\"}\n",
    "            },\n",
    "            \"markers\": {\"size\": 4},\n",
    "            \"tooltip\": {\"shared\": True, \"intersect\": False},\n",
    "            \"legend\": {\"position\": \"top\"}\n",
    "        },\n",
    "        cls=\"max-w-3xl max-h-lg\"\n",
    "    )"
   ]
  },
  {
   "cell_type": "code",
   "execution_count": null,
   "id": "42509dfb",
   "metadata": {},
   "outputs": [],
   "source": [
    "#| hide\n",
    "import nbdev; nbdev.nbdev_export()"
   ]
  },
  {
   "cell_type": "raw",
   "id": "c67ac010",
   "metadata": {},
   "source": []
  },
  {
   "cell_type": "raw",
   "id": "19e2f830",
   "metadata": {},
   "source": []
  },
  {
   "cell_type": "raw",
   "id": "7281e5f9",
   "metadata": {},
   "source": []
  },
  {
   "cell_type": "raw",
   "id": "5315cc8d",
   "metadata": {},
   "source": []
  }
 ],
 "metadata": {
  "kernelspec": {
   "display_name": "python3",
   "language": "python",
   "name": "python3"
  }
 },
 "nbformat": 4,
 "nbformat_minor": 5
}
