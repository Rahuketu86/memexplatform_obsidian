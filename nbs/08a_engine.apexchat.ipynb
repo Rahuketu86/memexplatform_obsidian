{
 "cells": [
  {
   "cell_type": "markdown",
   "id": "6796d26d",
   "metadata": {},
   "source": [
    "# Apexchart\n",
    "\n",
    "> Obsidian App Apexchart Rendering support"
   ]
  },
  {
   "cell_type": "code",
   "execution_count": null,
   "id": "0161d446",
   "metadata": {},
   "outputs": [],
   "source": [
    "#| default_exp engine.apexchart"
   ]
  },
  {
   "cell_type": "code",
   "execution_count": null,
   "id": "c370c23f",
   "metadata": {},
   "outputs": [],
   "source": [
    "#| export\n",
    "from fasthtml.common import *\n",
    "from monsterui.all import *\n",
    "import json"
   ]
  },
  {
   "cell_type": "code",
   "execution_count": null,
   "id": "dffbb0b3",
   "metadata": {},
   "outputs": [
    {
     "data": {
      "text/plain": [
       "'<div class=\"max-w-md max-h-md\">\\n<uk-chart><script type=\\'application/json\\'>{\"chart\": {\"type\": \"line\", \"zoom\": {\"enabled\": false}, \"toolbar\": {\"show\": false}}, \"series\": [{\"name\": \"Desktops\", \"data\": [186, 305, 237, 73, 209, 214, 355]}], \"xaxis\": {\"categories\": [\"Jan\", \"Feb\", \"Mar\", \"Apr\", \"May\", \"Jun\", \"Jul\"]}}</script></uk-chart></div>\\n'"
      ]
     },
     "execution_count": null,
     "metadata": {},
     "output_type": "execute_result"
    }
   ],
   "source": [
    "def ex_line_chart():\n",
    "    return ApexChart(\n",
    "        opts={\n",
    "            \"chart\": {\"type\":\"line\", \"zoom\":{\"enabled\": False}, \"toolbar\":{\"show\":False}},\n",
    "            \"series\": [{\"name\":\"Desktops\", \"data\": [186, 305, 237, 73, 209, 214, 355]}],\n",
    "            \"xaxis\": {\"categories\":[\"Jan\", \"Feb\", \"Mar\", \"Apr\", \"May\", \"Jun\", \"Jul\"]}\n",
    "        },\n",
    "        cls='max-w-md max-h-md'\n",
    "    )\n",
    "\n",
    "to_xml(ex_line_chart())"
   ]
  },
  {
   "cell_type": "code",
   "execution_count": null,
   "id": "b82dc69c",
   "metadata": {},
   "outputs": [],
   "source": [
    "#| export\n",
    "class ApexChartEngine(object):\n",
    "\n",
    "    def __init__(self, token):\n",
    "        self._token = token\n",
    "        try:\n",
    "            raw = json.loads(self._token.children[0].content)\n",
    "        except json.JSONDecodeError:\n",
    "            return f\"<pre><code>{self._token.children[0].content}</code></pre>\"\n",
    "\n",
    "        # If user provides {\"cls\": \"...\", \"opts\": {...}}\n",
    "        if isinstance(raw, dict) and \"opts\" in raw:\n",
    "            self.cls = raw.get(\"cls\", \"max-w-md max-h-md\")\n",
    "            self.opts = raw[\"opts\"]\n",
    "        else:\n",
    "            # otherwise treat the whole thing as the spec\n",
    "            self.cls = \"max-w-md max-h-md\"\n",
    "            self.opts = raw\n",
    "\n",
    "    def render_html(self):\n",
    "        return to_xml(ApexChart(opts=self.opts, cls=self.cls))"
   ]
  },
  {
   "cell_type": "code",
   "execution_count": null,
   "id": "42509dfb",
   "metadata": {},
   "outputs": [],
   "source": [
    "#| hide\n",
    "import nbdev; nbdev.nbdev_export()"
   ]
  },
  {
   "cell_type": "raw",
   "id": "d29231ac",
   "metadata": {},
   "source": []
  },
  {
   "cell_type": "raw",
   "id": "95198b06",
   "metadata": {},
   "source": []
  },
  {
   "cell_type": "raw",
   "id": "c67ac010",
   "metadata": {},
   "source": []
  }
 ],
 "metadata": {
  "kernelspec": {
   "display_name": "python3",
   "language": "python",
   "name": "python3"
  }
 },
 "nbformat": 4,
 "nbformat_minor": 5
}
