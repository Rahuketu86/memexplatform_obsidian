{
 "cells": [
  {
   "cell_type": "markdown",
   "id": "6796d26d",
   "metadata": {},
   "source": [
    "# Home\n",
    "\n",
    "> Obsidian App Apexchart Rendering support for home"
   ]
  },
  {
   "cell_type": "code",
   "execution_count": null,
   "id": "0161d446",
   "metadata": {},
   "outputs": [],
   "source": [
    "#| default_exp home.__init__"
   ]
  },
  {
   "cell_type": "code",
   "execution_count": null,
   "id": "c370c23f",
   "metadata": {},
   "outputs": [],
   "source": [
    "#| export\n",
    "from fasthtml.common import *\n",
    "from monsterui.all import *\n",
    "from memexplatform_obsidian.home.summary import chart_timeseries, get_infocard, get_df, chart_tags\n",
    "from memexplatform_obsidian.commons import config, ExtensionTypes\n",
    "from memexplatform_obsidian.home.graph import get_graph"
   ]
  },
  {
   "cell_type": "code",
   "execution_count": null,
   "id": "88af5cc6",
   "metadata": {},
   "outputs": [],
   "source": [
    "#| export\n",
    "def make_card(c, header='Card'):\n",
    "    return Card(\n",
    "        H4(header),\n",
    "        c\n",
    "    )"
   ]
  },
  {
   "cell_type": "code",
   "execution_count": null,
   "id": "dffbb0b3",
   "metadata": {},
   "outputs": [],
   "source": [
    "#| export\n",
    "def summary(config):\n",
    "\n",
    "    df_notes = get_df(config, fldrs=['pages', 'journals'], extensions=ExtensionTypes.TEXTLIKE_EXTS)\n",
    "    notes = get_infocard(df_notes, header='Notes')\n",
    "\n",
    "    df_templates = get_df(config, fldrs=['templates'], extensions=ExtensionTypes.TEXTLIKE_EXTS)\n",
    "    templates = get_infocard(df_templates, header='Templates')\n",
    "\n",
    "    df_clippings = get_df(config, fldrs=['Clippings'], extensions=ExtensionTypes.TEXTLIKE_EXTS)\n",
    "    clippings = get_infocard(df_clippings, header='Clippings')\n",
    "\n",
    "    df_images= get_df(config, fldrs=['pages', 'journals', 'assets'], extensions=ExtensionTypes.IMAGE_EXTS)\n",
    "    images = get_infocard(df_images, header='Images')\n",
    "\n",
    "    df_audios= get_df(config, fldrs=['pages', 'journals', 'assets'], extensions=ExtensionTypes.AUDIO_EXTS)\n",
    "    audios = get_infocard(df_audios, header='Audios')\n",
    "\n",
    "    df_videos= get_df(config, fldrs=['pages', 'journals', 'assets'], extensions=ExtensionTypes.VIDEO_EXTS)\n",
    "    videos = get_infocard(df_videos, header='Videos')\n",
    "\n",
    "    top_row = Grid(*[notes, clippings, templates, images, audios, videos], cols_max=6)\n",
    "    ts = make_card(chart_timeseries(df_notes), header='History')\n",
    "    tagbars = make_card(chart_tags(), header='Tags')\n",
    "    mid_row = Grid(*[ts, tagbars], cols_max=2)\n",
    "    # \n",
    "    return Grid(*[top_row, mid_row], cols_max=1, lg=2)"
   ]
  },
  {
   "cell_type": "code",
   "execution_count": null,
   "id": "80383b71",
   "metadata": {},
   "outputs": [],
   "source": [
    "#| export\n",
    "def homepage(config):\n",
    "    summary_comp = summary(config)\n",
    "    graph = get_graph()\n",
    "    comp = Div(\n",
    "            TabContainer(\n",
    "                Li(A(\"Summary\",href='#', cls='uk-active')),\n",
    "                Li(A(\"Graph\",href='#')),\n",
    "                uk_switcher=f'connect: #tab-obsidian; animation: uk-animation-fade',\n",
    "                alt=True),\n",
    "            Ul(id=f\"tab-obsidian\", cls=\"uk-switcher\")(\n",
    "                Li(summary_comp),\n",
    "                Li(graph), # 'customapps.qmd'\n",
    "            ),\n",
    "        id=\"home-obsidian\",\n",
    "    )\n",
    "    return comp"
   ]
  },
  {
   "cell_type": "code",
   "execution_count": null,
   "id": "42509dfb",
   "metadata": {},
   "outputs": [],
   "source": [
    "#| hide\n",
    "import nbdev; nbdev.nbdev_export()"
   ]
  },
  {
   "cell_type": "raw",
   "id": "d29231ac",
   "metadata": {},
   "source": []
  },
  {
   "cell_type": "raw",
   "id": "95198b06",
   "metadata": {},
   "source": []
  },
  {
   "cell_type": "raw",
   "id": "c67ac010",
   "metadata": {},
   "source": []
  },
  {
   "cell_type": "raw",
   "id": "54c2b6bd",
   "metadata": {},
   "source": []
  },
  {
   "cell_type": "raw",
   "id": "a16b385d",
   "metadata": {},
   "source": []
  }
 ],
 "metadata": {
  "kernelspec": {
   "display_name": "python3",
   "language": "python",
   "name": "python3"
  }
 },
 "nbformat": 4,
 "nbformat_minor": 5
}
