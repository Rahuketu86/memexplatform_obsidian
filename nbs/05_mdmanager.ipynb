{
 "cells": [
  {
   "cell_type": "markdown",
   "metadata": {},
   "source": [
    "# mdmanager\n",
    "\n",
    "> Obsidian App Compatible Markdown reader"
   ]
  },
  {
   "cell_type": "code",
   "execution_count": null,
   "metadata": {},
   "outputs": [],
   "source": [
    "#| default_exp mdmanager"
   ]
  },
  {
   "cell_type": "code",
   "execution_count": null,
   "metadata": {},
   "outputs": [],
   "source": [
    "#| hide\n",
    "from nbdev.showdoc import *"
   ]
  },
  {
   "cell_type": "code",
   "execution_count": null,
   "metadata": {},
   "outputs": [],
   "source": [
    "#| export\n",
    "from memexplatform_obsidian.settings import ObsidianConfig\n",
    "from enum import Enum\n",
    "import urllib\n",
    "import mistletoe\n",
    "from pathlib import Path\n",
    "from mistletoe.ast_renderer import ASTRenderer\n",
    "from mistletoe import Document\n",
    "import yaml\n",
    "import re\n",
    "from typing import List\n",
    "from mistletoe.block_token import BlockToken\n",
    "from mistletoe import Document, HTMLRenderer\n",
    "from mistletoe.ast_renderer import AstRenderer\n",
    "from mistletoe import span_token, block_token, token\n",
    "from mistletoe.span_token import Link, RawText, EscapeSequence, AutoLink\n",
    "from mistletoe.span_tokenizer import tokenize\n",
    "from mistletoe.token import Token\n",
    "from memexplatform_obsidian.commons import MountPaths\n"
   ]
  },
  {
   "cell_type": "code",
   "execution_count": null,
   "metadata": {},
   "outputs": [],
   "source": [
    "from mistletoe import markdown"
   ]
  },
  {
   "cell_type": "code",
   "execution_count": null,
   "metadata": {},
   "outputs": [
    {
     "data": {
      "text/plain": [
       "ObsidianConfig(PREFIX='/obsidian', OBSIDIAN_VAULT=Path('/Users/rahul1.saraf/rahuketu/programming/notesobs'))"
      ]
     },
     "execution_count": null,
     "metadata": {},
     "output_type": "execute_result"
    }
   ],
   "source": [
    "#| export\n",
    "config = ObsidianConfig(); config\n",
    "# (config.PORTAL/'index.qmd').exists()"
   ]
  },
  {
   "cell_type": "code",
   "execution_count": null,
   "metadata": {},
   "outputs": [],
   "source": [
    "#| export\n",
    "def get_subdirs(vault: Path):\n",
    "    subdirs = []\n",
    "    for p in vault.rglob(\"*\"):\n",
    "        if p.is_dir():\n",
    "            # Check if any parent directory (including self) should be skipped\n",
    "            if any(part.startswith((\".\", \"_\")) or part.startswith(\"logseq\") for part in p.parts): continue\n",
    "            subdirs.append(p)\n",
    "    return subdirs"
   ]
  },
  {
   "cell_type": "code",
   "execution_count": null,
   "metadata": {},
   "outputs": [
    {
     "data": {
      "text/plain": [
       "'---\\ntitle: Product Mindset for RAG\\ntags:\\ncollection:\\n  - \"[[pages/RAG|RAG]]\"\\n---\\n## Introduction\\n\\nDoing correct things involves approaching the problem with the right mindset. Approaching RAG as a project with technical metrics like choosing vector embeddings, llm , chunk size often misses the point of building a RAG product in the first place, providing correct information to the user in shortest possible time. \\n\\nTo get things right we need to think of RAG as recommendation system and identify the ways to continuously and iteratively improve our system as we systematically collect and receive user feedback. Our main objective should be customer delight, retention and increased engagement. \\n\\nSo how do we get started. In a project mindset, most of the time people face issues with chicken and egg problem.  Without domain knowledge, without knowing anything about the users and their experience with your product; How do you get started? Should we spend huge amount of money in collecting and annotating the data? What LLM / embedding model you should try? What chunking strategy should you leverage? What prompt tuning you should do ? How do you setup the entire system? How do you streamline user feedback collection ? What should you do first? And the list of potential entries go on and on....\\n\\nIn a product mindset, we focus on what is our value proposition to the user and what  mechanisms we can introduce to measure system performance? Ultimate idea is to start with something, test and iterate based on the feedback.  How we can simulate real life system where the system would provide response, and prompt user to provide a feedback on quality of response which we can then use to identify segments, understand user behaviour and as seed for next set of experimentation we can try. With LLM being so powerful, knowledgeable and realistic we can perhaps now simulate the above loop by prompting them to generate some synthetic data and starting from there. \\n\\n## Synthetic Data Generation\\n\\nSome things to know from experiments\\n- Not all models are created equal , larger model are more successful in generating structured output . GPTOSS have been bad at it. My tests succeeded with qwen3:32b, gemma:12b, 27b, 27b-it-fp16, smollm2(1.7b) but failed with gptoss, gemma3:270, smollm2:135b #impression \\n\\n### Some Notes on Lancedb\\n- Possible to run in local and in s3 mode. S3 mode can be simulated locally by using minio(stick with April version to get optimum admin features)\\n```python\\n# Setting up Embeddings\\nr = get_registry(); r\\n\\n# func = r.get(\\'ollama\\').create(name=\"nomic-embed-text:v1.5\",\\n\\n# host=\"https://ollama.beast.local/\",\\n\\n# ollama_client_kwargs={\"verify\": False})\\n\\nfunc = r.get(\\'ollama\\').create(name=\"nomic-embed-text:v1.5\")\\n\\n# Setting up s3\\n\\ndb_uri = f\"s3://{minio_bucket_name}/\"\\n\\ndb = lancedb.connect(db_uri,\\n\\nstorage_options={\\n\\n\"endpoint_override\": \"http://127.0.0.1:9000\",\\n\\n\"aws_access_key_id\": \"rahuketu86\",\\n\\n\"aws_secret_access_key\": \"Krishiv@86\",\\n\\n\"region\": \"ap-south-2\", # Change from \"ap-south-2\" to \"us-east-1\"\\n\\n\"allow_http\": \"true\", # ADD THIS: Allow HTTP instead of HTTPS\\n\\n\"aws_s3_allow_unsafe_rename\": \"true\" # ADD THIS: For MinIO compatibility\\n\\n}\\n\\n)\\n```\\n\\n\\n'"
      ]
     },
     "execution_count": null,
     "metadata": {},
     "output_type": "execute_result"
    }
   ],
   "source": [
    "# config.OBSIDIAN_VAULT.ls()\n",
    "vault_path = Path(config.OBSIDIAN_VAULT)\n",
    "subdirs = get_subdirs(vault_path); subdirs\n",
    "pages_dir = config.OBSIDIAN_VAULT/\"pages\"; pages_dir.ls()[-1]\n",
    "\n",
    "doc_real = pages_dir/\"Product Mindset for RAG.md\"; doc_real.read_text()"
   ]
  },
  {
   "cell_type": "code",
   "execution_count": null,
   "metadata": {},
   "outputs": [
    {
     "name": "stdout",
     "output_type": "stream",
     "text": [
      "<mistletoe.block_token.Document with 1 child line_number=1>\n"
     ]
    }
   ],
   "source": [
    "doc = Document([\"Hello *world*!\"])\n",
    "print(doc)  # token tree"
   ]
  },
  {
   "cell_type": "code",
   "execution_count": null,
   "metadata": {},
   "outputs": [
    {
     "name": "stdout",
     "output_type": "stream",
     "text": [
      "\u001b[0;31mInit signature:\u001b[0m \u001b[0mEscapeSequence\u001b[0m\u001b[0;34m(\u001b[0m\u001b[0mmatch\u001b[0m\u001b[0;34m)\u001b[0m\u001b[0;34m\u001b[0m\u001b[0;34m\u001b[0m\u001b[0m\n",
      "\u001b[0;31mDocstring:\u001b[0m     \n",
      "Escape sequence token. (\"\\\\*\")\n",
      "This is an inline token with a single child of type RawText.\n",
      "\n",
      "Attributes:\n",
      "    children (iterator): a single RawText node containing the escaped character.\n",
      "\u001b[0;31mFile:\u001b[0m           /opt/homebrew/Caskroom/miniforge/base/envs/automlops/lib/python3.11/site-packages/mistletoe/span_token.py\n",
      "\u001b[0;31mType:\u001b[0m           type\n",
      "\u001b[0;31mSubclasses:\u001b[0m     "
     ]
    }
   ],
   "source": [
    "f = '[Trial by Fire](Trial%20by%20Fire.md)'\n",
    "EscapeSequence?"
   ]
  },
  {
   "cell_type": "code",
   "execution_count": null,
   "metadata": {},
   "outputs": [],
   "source": [
    "#| export\n",
    "class ObsidianLink(Link):\n",
    "    \"\"\"\n",
    "    Obsidian-style markdown link [Alias](target).\n",
    "    - If target is an http(s) URL, render as normal.\n",
    "    - Otherwise, rewrite to open?file=<escaped target>.\n",
    "    \"\"\"\n",
    "\n",
    "    # Matches [Alias](target)\n",
    "    pattern = re.compile(r\"\\[([^\\]]+)\\]\\(([^)]+)\\)\")\n",
    "    parse_inner = False\n",
    "    parse_group = 0\n",
    "\n",
    "    def __init__(self, match):\n",
    "        # Extract alias (visible text) and raw target (destination)\n",
    "        alias = match.group(1).strip()\n",
    "        \n",
    "        raw_target = EscapeSequence.strip(urllib.parse.unquote(match.group(2).strip()))\n",
    "\n",
    "        # If http/https, keep original target\n",
    "        if raw_target.startswith((\"http://\", \"https://\")):\n",
    "            self.target = raw_target\n",
    "        else:\n",
    "            # Otherwise, map to \"open?file=<quoted target>\"\n",
    "            self.target = MountPaths.open.to(file=raw_target)\n",
    "\n",
    "        # No title attribute by default\n",
    "        self.title = \"\"\n",
    "        self.label = None\n",
    "        self.dest_type = \"obsidianlink\"\n",
    "        self.title_delimiter = None\n",
    "\n",
    "        # Render children as the alias text\n",
    "        self.children = [RawText(alias)]"
   ]
  },
  {
   "cell_type": "code",
   "execution_count": null,
   "metadata": {},
   "outputs": [],
   "source": [
    "#| export\n",
    "class WikiLink(Link):\n",
    "    \"\"\"\n",
    "    Obsidian-style wikilink [[Note|Alias]] that behaves like mistletoe.Link.\n",
    "    \"\"\"\n",
    "    pattern = re.compile(r\"\\[\\[([^\\]|]+)(?:\\|([^\\]]+))?\\]\\]\")\n",
    "    parse_inner = False\n",
    "    parse_group = 0\n",
    "\n",
    "    def __init__(self, match):\n",
    "        # The \"target\" (like a URL)\n",
    "        raw_target = EscapeSequence.strip(match.group(1).strip())\n",
    "        self.target = MountPaths.open.to(file=raw_target)\n",
    "        # Use alias if present, otherwise same as target\n",
    "        self.alias = match.group(2) or raw_target\n",
    "\n",
    "        # Fill in Link attributes\n",
    "        self.title = \"\"     # Obsidian links don’t have a title\n",
    "        self.label = None   # No label\n",
    "        self.dest_type = \"wikilink\"\n",
    "        self.title_delimiter = None\n",
    "\n",
    "        # children: inline text tokens for the alias (like how Link holds link text)\n",
    "        self.children = [RawText(self.alias)]"
   ]
  },
  {
   "cell_type": "code",
   "execution_count": null,
   "metadata": {},
   "outputs": [],
   "source": [
    "#| export\n",
    "class AnyLink(span_token.SpanToken):\n",
    "    \"\"\"\n",
    "    Match any URI scheme like obsidian://, logseq://, code://, http://, https:// etc.\n",
    "    Does NOT match markdown links [text](...) or wikilinks [[Note]].\n",
    "    \"\"\"\n",
    "    # Must capture the whole URL in group 1\n",
    "    pattern = re.compile(r'(?<![\\]\\)\"])(([a-zA-Z][a-zA-Z0-9+.-]*://[^\\s]+))')\n",
    "    parse_group = 1\n",
    "\n",
    "    def __init__(self, match):\n",
    "        url = match.group(1)\n",
    "        self.children = (RawText(url),)\n",
    "        self.target = url\n",
    "        self.title = \"\""
   ]
  },
  {
   "cell_type": "code",
   "execution_count": null,
   "metadata": {},
   "outputs": [],
   "source": [
    "#| export\n",
    "\n",
    "class Properties(Token):\n",
    "    repr_attributes = (\"key\", \"children\")\n",
    "\n",
    "    def __init__(self, key, value):\n",
    "        self.key = key\n",
    "        # Parse value recursively into proper span tokens\n",
    "        self.children = self._parse_value(value)\n",
    "\n",
    "    def _parse_value(self, value):\n",
    "        \"\"\"Recursively parse value into a flat list of span tokens.\"\"\"\n",
    "        if isinstance(value, str):\n",
    "            stripped = value.strip()\n",
    "            # Detect plain URLs and convert to AutoLink\n",
    "            m = AnyLink.pattern.match(stripped)\n",
    "            if m: return [AnyLink(m)]\n",
    "\n",
    "            # Otherwise parse as regular inline markdown\n",
    "            return span_token.tokenize_inner(stripped)\n",
    "            # return span_token.tokenize_inner(value)\n",
    "\n",
    "        elif isinstance(value, list):\n",
    "            tokens = []\n",
    "            for v in value:\n",
    "                tokens.extend(self._parse_value(v))\n",
    "            return tokens\n",
    "\n",
    "        elif isinstance(value, dict):\n",
    "            tokens = []\n",
    "            for k, v in value.items():\n",
    "                tokens.extend(self._parse_value(v))\n",
    "            return tokens\n",
    "\n",
    "        else:\n",
    "            # Fallback for non-string values\n",
    "            return [RawText(str(value))]"
   ]
  },
  {
   "cell_type": "code",
   "execution_count": null,
   "metadata": {},
   "outputs": [],
   "source": [
    "#| export\n",
    "class TagLink(Link):\n",
    "    \"\"\"\n",
    "    Obsidian-style tag link #tag that behaves like a mistletoe.Link.\n",
    "    Renders to <a href=\"/tags/tag\">#tag</a> or similar.\n",
    "    \"\"\"\n",
    "    # Matches hashtags at word boundaries: # followed by word characters/dashes\n",
    "    pattern = re.compile(r'(?<!\\w)#([\\w\\-]+)')\n",
    "    parse_group = 0\n",
    "    parse_inner = False\n",
    "\n",
    "    def __init__(self, match):\n",
    "        tag_name = match.group(1)\n",
    "\n",
    "        # URL target (you can change the prefix to match your app)\n",
    "        self.target = MountPaths.tag.to(tag=tag_name)\n",
    "        self.title = \"\"\n",
    "        self.label = None\n",
    "        self.dest_type = \"taglink\"\n",
    "        self.title_delimiter = None\n",
    "\n",
    "        # Displayed text is \"#tag\"\n",
    "        self.children = [RawText(f\"#{tag_name}\")]"
   ]
  },
  {
   "cell_type": "code",
   "execution_count": null,
   "metadata": {},
   "outputs": [],
   "source": [
    "#| export\n",
    "class Frontmatter(BlockToken):\n",
    "    \"\"\"\n",
    "    YAML Frontmatter token.\n",
    "    This is a leaf block token that captures metadata enclosed by --- ... ---.\n",
    "    \"\"\"\n",
    "\n",
    "    repr_attributes = BlockToken.repr_attributes + (\"data\",)\n",
    "\n",
    "    # Match `---` followed by anything until the next `---` on its own line\n",
    "    pattern = re.compile(\n",
    "        r'(?ms)^(?:---)\\s*\\n(.*?)(?:\\n---\\s*$)'\n",
    "    )\n",
    "\n",
    "    def __init__(self, content: str):\n",
    "        self.content = content.strip()\n",
    "        try:\n",
    "            self.data = yaml.safe_load(self.content) or {}\n",
    "        except yaml.YAMLError as e:\n",
    "            self.data = {\"error\": str(e)}\n",
    "        \n",
    "        # Process the YAML data into children, parsing each value as markdown\n",
    "        self.children = []\n",
    "        \n",
    "        self.children = []\n",
    "\n",
    "        for k, v in self.data.items():\n",
    "            if k.lower() == \"tags\":\n",
    "                tags = v if isinstance(v, list) else [v]\n",
    "                            # Prepend \"#\" so later inline parsing makes TagLinks\n",
    "                processed = [f\"#{t}\" for t in tags if isinstance(t, str)]\n",
    "                self.children.append(Properties(k, processed))\n",
    "            else: self.children.append(Properties(k, v))\n",
    "\n",
    "    @classmethod\n",
    "    def start(cls, line: str) -> bool:\n",
    "        # Only starts if line is `---`\n",
    "        return line.strip() == \"---\"\n",
    "\n",
    "    @classmethod\n",
    "    def check_interrupts_paragraph(cls, lines):\n",
    "        return cls.start(lines.peek())\n",
    "\n",
    "    @classmethod\n",
    "    def read(cls, lines):\n",
    "        # Consume first line (`---`)\n",
    "        next(lines)\n",
    "        buffer = []\n",
    "        for line in lines:\n",
    "            if line.strip() == \"---\":\n",
    "                break\n",
    "            buffer.append(line)\n",
    "        return \"\".join(buffer)"
   ]
  },
  {
   "cell_type": "code",
   "execution_count": null,
   "metadata": {},
   "outputs": [],
   "source": [
    "#| export\n",
    "class ObsidianAstRenderer(AstRenderer):\n",
    "    def __init__(self,  **kwargs):\n",
    "        super().__init__(Frontmatter, WikiLink, TagLink, AnyLink, ObsidianLink,  **kwargs)  # register custom token\n",
    "    \n",
    "    def render_obsidian_link(self, token):\n",
    "        return self.render_link(token)\n",
    "\n",
    "    def render_wiki_link(self, token):\n",
    "        return self.render_link(token)\n",
    "\n",
    "    def render_any_link(self, token):\n",
    "        return self.render_link(token)\n",
    "\n",
    "    def render_tag_link(self, token):\n",
    "        return self.render_link(token)\n",
    "    \n",
    "    def render_frontmatter(self, token: Frontmatter) -> dict:\n",
    "        # Just return dict so AST expansion shows structured metadata\n",
    "        return token.children"
   ]
  },
  {
   "cell_type": "code",
   "execution_count": null,
   "metadata": {},
   "outputs": [],
   "source": [
    "#| export\n",
    "\n",
    "class ObsidianHTMLRenderer(HTMLRenderer):\n",
    "    def __init__(self, **kwargs):\n",
    "        super().__init__(Frontmatter, WikiLink, TagLink, AnyLink, ObsidianLink, **kwargs)  # register custom tokens\n",
    "    \n",
    "    def render_obsidian_link(self, token):\n",
    "        return self.render_link(token)\n",
    "        \n",
    "    def render_wiki_link(self, token):\n",
    "        return self.render_link(token)\n",
    "\n",
    "    def render_any_link(self, token):\n",
    "        return self.render_link(token)\n",
    "    \n",
    "    def render_tag_link(self, token):\n",
    "        \"\"\"Render TagLink as a span with tag styling.\"\"\"\n",
    "        return self.render_link(token)\n",
    "\n",
    "    def render_frontmatter(self, token: Frontmatter) -> str:\n",
    "        if not token.children:\n",
    "            return '<div class=\"frontmatter\"></div>'\n",
    "\n",
    "        rows = []\n",
    "        for prop in token.children:  # each is a Properties token\n",
    "            key_html = f\"<th>{prop.key}</th>\"\n",
    "            value_html = \", \".join(self.render(child) for child in prop.children)\n",
    "            rows.append(f\"<tr>{key_html}<td>{value_html}</td></tr>\")\n",
    "\n",
    "        return (\n",
    "            '<div class=\"frontmatter\">\\n'\n",
    "            '<table>\\n'\n",
    "            + \"\\n\".join(rows)\n",
    "            + \"\\n</table>\\n</div>\"\n",
    "        )"
   ]
  },
  {
   "cell_type": "code",
   "execution_count": null,
   "metadata": {},
   "outputs": [],
   "source": [
    "text = \"\"\"\n",
    "---\n",
    "title: Product Mindset for RAG\n",
    "tags:\n",
    "collection:\n",
    "  - \"[[RAG]]\"\n",
    "---\n",
    "\n",
    "This is fun. #impression\n",
    "Test markdown [markdown](/markdown)\n",
    "Check this \"[[Note|My Alias]]\".\n",
    "2nd link ![Alias2](https://www.google.com/)\n",
    "\n",
    "> This is a test\n",
    "> my test\n",
    "\"\"\""
   ]
  },
  {
   "cell_type": "code",
   "execution_count": null,
   "metadata": {},
   "outputs": [],
   "source": [
    "#| export\n",
    "def get_obsidianmd_ast(text):\n",
    "    # span_token.add_token(Link)       # [text](url)\n",
    "    # span_token.add_token(AutoLink)   # <http://example.com>\n",
    "    span_token.add_token(ObsidianLink)\n",
    "    span_token.add_token(WikiLink)\n",
    "    block_token.add_token(Frontmatter)\n",
    "    span_token.add_token(TagLink)\n",
    "    return Document(text)"
   ]
  },
  {
   "cell_type": "code",
   "execution_count": null,
   "metadata": {},
   "outputs": [
    {
     "data": {
      "text/plain": [
       "[<__main__.WikiLink with 1 child target='/obsidian/open?file=RAG' title=''>]"
      ]
     },
     "execution_count": null,
     "metadata": {},
     "output_type": "execute_result"
    }
   ],
   "source": [
    "o = get_obsidianmd_ast(text); o.children[0].children[2].children\n",
    "# fm = o.children[1]\n",
    "# fm.children"
   ]
  },
  {
   "cell_type": "code",
   "execution_count": null,
   "metadata": {},
   "outputs": [],
   "source": [
    "# with ObsidianHTMLRenderer() as renderer:\n",
    "#     html = renderer.render(Document(lines))\n",
    "    # html = renderer.render(Document(doc_real.read_text()))"
   ]
  },
  {
   "cell_type": "code",
   "execution_count": null,
   "metadata": {},
   "outputs": [],
   "source": [
    "#| notest\n",
    "# text = 'Check this \"[[Note|My Alias]]\".'\n",
    "# html = markdown(text, renderer=ObsidianHTMLRenderer)\n",
    "# print(html)"
   ]
  },
  {
   "cell_type": "code",
   "execution_count": null,
   "metadata": {},
   "outputs": [
    {
     "name": "stdout",
     "output_type": "stream",
     "text": [
      "<div class=\"frontmatter\">\n",
      "<table>\n",
      "<tr><th>title</th><td>Product Mindset for RAG</td></tr>\n",
      "<tr><th>tags</th><td></td></tr>\n",
      "<tr><th>collection</th><td><a href=\"/obsidian/open?file=RAG\">RAG</a></td></tr>\n",
      "</table>\n",
      "</div>\n",
      "<p>This is fun. <a href=\"/obsidian/tag?tag=impression\">#impression</a>\n",
      "Test markdown <a href=\"/obsidian/open?file=/markdown\">markdown</a>\n",
      "Check this \"<a href=\"/obsidian/open?file=Note\">My Alias</a>\".\n",
      "2nd link !<a href=\"https://www.google.com/\">Alias2</a></p>\n",
      "<blockquote>\n",
      "<p>This is a test\n",
      "my test</p>\n",
      "</blockquote>\n",
      "\n"
     ]
    },
    {
     "data": {
      "text/plain": [
       "(None,\n",
       " '<div class=\"frontmatter\">\\n<table>\\n<tr><th>title</th><td>Product Mindset for RAG</td></tr>\\n<tr><th>tags</th><td></td></tr>\\n<tr><th>collection</th><td><a href=\"/obsidian/open?file=RAG\">RAG</a></td></tr>\\n</table>\\n</div>\\n<p>This is fun. <a href=\"/obsidian/tag?tag=impression\">#impression</a>\\nTest markdown <a href=\"/obsidian/open?file=/markdown\">markdown</a>\\nCheck this \"<a href=\"/obsidian/open?file=Note\">My Alias</a>\".\\n2nd link !<a href=\"https://www.google.com/\">Alias2</a></p>\\n<blockquote>\\n<p>This is a test\\nmy test</p>\\n</blockquote>\\n')"
      ]
     },
     "execution_count": null,
     "metadata": {},
     "output_type": "execute_result"
    }
   ],
   "source": [
    "\n",
    "lines = [line for line in text.splitlines() if line.strip()]; lines\n",
    "with ObsidianHTMLRenderer() as renderer:\n",
    "    # html = renderer.render(Document(lines))\n",
    "    html = renderer.render(get_obsidianmd_ast(text))\n",
    "\n",
    "print(html), html"
   ]
  },
  {
   "cell_type": "code",
   "execution_count": null,
   "metadata": {},
   "outputs": [
    {
     "data": {
      "text/plain": [
       "[<mistletoe.block_token.Paragraph with 5 children line_number=2>]"
      ]
     },
     "execution_count": null,
     "metadata": {},
     "output_type": "execute_result"
    }
   ],
   "source": [
    "#| notest\n",
    "text = \"\"\"\n",
    "This is fun\n",
    "Check this [[Note|My Alias]].\n",
    "\"\"\"\n",
    "ast = get_obsidianmd_ast(text); ast.children"
   ]
  },
  {
   "cell_type": "code",
   "execution_count": null,
   "metadata": {},
   "outputs": [],
   "source": [
    "#| export\n",
    "\n",
    "def print_ast(token, indent=0):\n",
    "    pad = \"  \" * indent\n",
    "    data = {k: v for k, v in getattr(token, \"__dict__\", {}).items() if not k.startswith(\"_\")}\n",
    "    print(f\"{pad}{token.__class__.__name__}: {data}\")\n",
    "    \n",
    "    # Safely iterate over children if present and iterable\n",
    "    children = getattr(token, \"children\", None)\n",
    "    if children:\n",
    "        for child in children:\n",
    "            print_ast(child, indent + 1)"
   ]
  },
  {
   "cell_type": "code",
   "execution_count": null,
   "metadata": {},
   "outputs": [],
   "source": [
    "#| export\n",
    "def get_frontmatter(doc):\n",
    "    for o in doc.children:\n",
    "        if type(o).__name__ == 'Frontmatter': return o\n",
    "    return None"
   ]
  },
  {
   "cell_type": "code",
   "execution_count": null,
   "metadata": {},
   "outputs": [],
   "source": [
    "#| export\n",
    "def get_property(doc, key='title'):\n",
    "    fm = get_frontmatter(doc)\n",
    "    if fm:\n",
    "        for p in fm.children:\n",
    "            if p.key ==key: return p\n",
    "    return None"
   ]
  },
  {
   "cell_type": "code",
   "execution_count": null,
   "metadata": {},
   "outputs": [],
   "source": [
    "#| export\n",
    "def get_title(doc):\n",
    "    p = get_property(doc, key='title'); \n",
    "    if p:\n",
    "        o = p.children[0]\n",
    "        return o.content\n",
    "    return None"
   ]
  },
  {
   "cell_type": "code",
   "execution_count": null,
   "metadata": {},
   "outputs": [],
   "source": [
    "text = \"\"\"\n",
    "---\n",
    "# title: Product Mindset for RAG\n",
    "tags:\n",
    "source: https://www.youtube.com/\n",
    "collection:\n",
    "  - \"[[RAG]]\"\n",
    "---\n",
    "This is fun #some\n",
    "Check this [[Note|My Alias]].\n",
    "My link [Alias](note)\n",
    "2nd link ![Alias2](https://www.google.com/)\n",
    "\n",
    "> This is a test\n",
    "> my test\n",
    "\"\"\"\n",
    "doc = get_obsidianmd_ast(text)\n",
    "# print_ast(doc)\n",
    "# o = doc.children[0]\n",
    "\n",
    "# get_frontmatter(doc)\n"
   ]
  },
  {
   "cell_type": "code",
   "execution_count": null,
   "metadata": {},
   "outputs": [
    {
     "name": "stdout",
     "output_type": "stream",
     "text": [
      "<mistletoe.block_token.Document with 3 children line_number=1>\n",
      "None\n"
     ]
    }
   ],
   "source": [
    "#| notest\n",
    "from IPython.core.display import display_html\n",
    "\n",
    "\n",
    "# doc = Document(doc_real.read_text().splitlines())\n",
    "html = None\n",
    "with ObsidianAstRenderer() as renderer:\n",
    "    doc = get_obsidianmd_ast(text); print(doc)\n",
    "    # doc = get_obsidianmd_ast(text); print(doc.children[0].children)\n",
    "    # html = renderer.render(doc)\n",
    "\n",
    "print(html)"
   ]
  },
  {
   "cell_type": "code",
   "execution_count": null,
   "metadata": {},
   "outputs": [],
   "source": [
    "# doc = Document(text.splitlines())\n",
    "# html = None\n",
    "# a = Document(text.splitlines()).children[0]; a.children[0]"
   ]
  },
  {
   "cell_type": "code",
   "execution_count": null,
   "metadata": {},
   "outputs": [],
   "source": [
    "#| hide\n",
    "import nbdev; nbdev.nbdev_export()"
   ]
  },
  {
   "cell_type": "code",
   "execution_count": null,
   "metadata": {},
   "outputs": [],
   "source": [
    "\n"
   ]
  },
  {
   "cell_type": "code",
   "execution_count": null,
   "metadata": {},
   "outputs": [],
   "source": []
  },
  {
   "cell_type": "code",
   "execution_count": null,
   "metadata": {},
   "outputs": [],
   "source": []
  }
 ],
 "metadata": {
  "kernelspec": {
   "display_name": "python3",
   "language": "python",
   "name": "python3"
  }
 },
 "nbformat": 4,
 "nbformat_minor": 4
}
