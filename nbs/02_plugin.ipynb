{
 "cells": [
  {
   "cell_type": "markdown",
   "metadata": {},
   "source": [
    "# plugin\n",
    "\n",
    "> Embedding with host app"
   ]
  },
  {
   "cell_type": "code",
   "execution_count": null,
   "metadata": {},
   "outputs": [],
   "source": [
    "#| default_exp plugin"
   ]
  },
  {
   "cell_type": "code",
   "execution_count": null,
   "metadata": {},
   "outputs": [],
   "source": [
    "#| hide\n",
    "from nbdev.showdoc import *"
   ]
  },
  {
   "cell_type": "code",
   "execution_count": null,
   "metadata": {},
   "outputs": [
    {
     "name": "stdout",
     "output_type": "stream",
     "text": [
      "The dotenv extension is already loaded. To reload it, use:\n",
      "  %reload_ext dotenv\n"
     ]
    }
   ],
   "source": [
    "#| hide\n",
    "from dotenv import *\n",
    "%load_ext dotenv\n",
    "%dotenv"
   ]
  },
  {
   "cell_type": "code",
   "execution_count": null,
   "metadata": {},
   "outputs": [],
   "source": [
    "#| export\n",
    "\n",
    "from fasthtml.common import *\n",
    "from monsterui.all import *\n",
    "from memexplatform_obsidian.core import app\n",
    "from memexplatform.pluginspec import hookimpl\n",
    "from memexplatform.ui.structure import  add_prefix_to_routes\n",
    "from memexplatform_obsidian.commons import config, MountPaths\n",
    "from memexplatform_obsidian.mdmanager import get_subdirs\n",
    "from memexplatform_obsidian.commons import MountPaths\n",
    "from memexplatform_obsidian.datastore import FileStore, DBStore\n",
    "import pathlib"
   ]
  },
  {
   "cell_type": "code",
   "execution_count": null,
   "metadata": {},
   "outputs": [
    {
     "data": {
      "text/plain": [
       "<MountPaths.open: '/open'>"
      ]
     },
     "execution_count": null,
     "metadata": {},
     "output_type": "execute_result"
    }
   ],
   "source": [
    "MountPaths.open"
   ]
  },
  {
   "cell_type": "code",
   "execution_count": null,
   "metadata": {},
   "outputs": [
    {
     "data": {
      "text/plain": [
       "[Path('/Users/rahul1.saraf/rahuketu/programming/notesobs/Clippings'),\n",
       " Path('/Users/rahul1.saraf/rahuketu/programming/notesobs/Excalidraw'),\n",
       " Path('/Users/rahul1.saraf/rahuketu/programming/notesobs/journals'),\n",
       " Path('/Users/rahul1.saraf/rahuketu/programming/notesobs/lifeos'),\n",
       " Path('/Users/rahul1.saraf/rahuketu/programming/notesobs/templates'),\n",
       " Path('/Users/rahul1.saraf/rahuketu/programming/notesobs/assets'),\n",
       " Path('/Users/rahul1.saraf/rahuketu/programming/notesobs/pages'),\n",
       " Path('/Users/rahul1.saraf/rahuketu/programming/notesobs/Excalidraw/Scripts'),\n",
       " Path('/Users/rahul1.saraf/rahuketu/programming/notesobs/Excalidraw/Scripts/Downloaded'),\n",
       " Path('/Users/rahul1.saraf/rahuketu/programming/notesobs/lifeos/Reviews')]"
      ]
     },
     "execution_count": null,
     "metadata": {},
     "output_type": "execute_result"
    }
   ],
   "source": [
    "FileStore(config).subdirs"
   ]
  },
  {
   "cell_type": "code",
   "execution_count": null,
   "metadata": {},
   "outputs": [],
   "source": [
    "\n",
    "#| export\n",
    "\n",
    "def get_obsidian_fldrs(config):\n",
    "\n",
    "    store = DBStore(config) if config.ENABLE_DB_MODE else FileStore(config)\n",
    "    # print(store.subdirs)\n",
    "    obsidian_fldrs = [(p.name.capitalize(), \n",
    "    MountPaths.open.to(file=str(pathlib.Path(p).relative_to(config.OBSIDIAN_VAULT)))) \n",
    "    for p in store.subdirs]; obsidian_fldrs\n",
    "    return obsidian_fldrs"
   ]
  },
  {
   "cell_type": "code",
   "execution_count": null,
   "metadata": {},
   "outputs": [
    {
     "data": {
      "text/plain": [
       "[('Clippings', '/obsidian/open?file=Clippings'),\n",
       " ('Excalidraw', '/obsidian/open?file=Excalidraw'),\n",
       " ('Journals', '/obsidian/open?file=journals'),\n",
       " ('Lifeos', '/obsidian/open?file=lifeos'),\n",
       " ('Templates', '/obsidian/open?file=templates'),\n",
       " ('Assets', '/obsidian/open?file=assets'),\n",
       " ('Pages', '/obsidian/open?file=pages'),\n",
       " ('Scripts', '/obsidian/open?file=Excalidraw/Scripts'),\n",
       " ('Downloaded', '/obsidian/open?file=Excalidraw/Scripts/Downloaded'),\n",
       " ('Reviews', '/obsidian/open?file=lifeos/Reviews')]"
      ]
     },
     "execution_count": null,
     "metadata": {},
     "output_type": "execute_result"
    }
   ],
   "source": [
    "#| export\n",
    "obsidian_fldrs = get_obsidian_fldrs(config); obsidian_fldrs"
   ]
  },
  {
   "cell_type": "code",
   "execution_count": null,
   "metadata": {},
   "outputs": [],
   "source": [
    "#| export\n",
    "def EditComponent():\n",
    "    return A(UkIcon('square-pen' ), cls=\"btn\", id='obsidian-button', href=MountPaths.edit.to()),"
   ]
  },
  {
   "cell_type": "code",
   "execution_count": null,
   "metadata": {},
   "outputs": [],
   "source": [
    "# Hidden??"
   ]
  },
  {
   "cell_type": "code",
   "execution_count": null,
   "metadata": {},
   "outputs": [],
   "source": [
    "# | export\n",
    "def BacklinkComponent():\n",
    "    return Div(\n",
    "        Hidden(id='current-lockey', value=\"\", name='current-lockey'),\n",
    "        Input(id='backlink-drawer', type='checkbox', cls='drawer-toggle'),\n",
    "        Div(\n",
    "            Label(UkIcon('link'), fr='backlink-drawer', cls='drawer-button btn'),\n",
    "            cls='drawer-content'\n",
    "        ),\n",
    "        Div(\n",
    "            Label(fr='backlink-drawer', aria_label='close sidebar', cls='drawer-overlay'),\n",
    "            Ul(\n",
    "                Li('Backlinks'), \n",
    "                id='backlink_list', \n",
    "                cls='menu bg-base-200 text-base-content min-h-full w-80 p-4',\n",
    "                # hx_post=MountPaths.backlinks.to(),\n",
    "                # hx_include='#current-lockey',\n",
    "                # hx_target='#backlink_list',\n",
    "                # hx_swap='innerHTML',\n",
    "                # hx_trigger='load, click',\n",
    "                # hx_boost='false'\n",
    "            ),\n",
    "            id='backlink-drawer-content',\n",
    "            cls='drawer-side z-50',\n",
    "        ),\n",
    "        cls='drawer drawer-end'\n",
    "    )"
   ]
  },
  {
   "cell_type": "code",
   "execution_count": null,
   "metadata": {},
   "outputs": [],
   "source": [
    "#| export\n",
    "prefix = config.PREFIX\n",
    "\n",
    "@hookimpl\n",
    "def mount_apps():\n",
    "    return (prefix, app, \"obsidian\")\n",
    "\n",
    "@hookimpl\n",
    "def get_nav_items():\n",
    "    nav_dict = {\n",
    "        \"Obsidian\": [\n",
    "            (\"Home\", config.PREFIX),\n",
    "        ]+obsidian_fldrs,\n",
    "    }\n",
    "    return nav_dict\n",
    "\n",
    "@hookimpl\n",
    "def get_toolbar_items():\n",
    "    # Return a list of heading components (e.g., buttons, icons, etc.)\n",
    "    return { \n",
    "        MountPaths.open.get_app_url(): [EditComponent(), BacklinkComponent()]\n",
    "            }"
   ]
  },
  {
   "cell_type": "code",
   "execution_count": null,
   "metadata": {},
   "outputs": [
    {
     "data": {
      "text/plain": [
       "'/obsidian/open'"
      ]
     },
     "execution_count": null,
     "metadata": {},
     "output_type": "execute_result"
    }
   ],
   "source": [
    "MountPaths.open.get_app_url()"
   ]
  },
  {
   "cell_type": "code",
   "execution_count": null,
   "metadata": {},
   "outputs": [],
   "source": [
    "#| hide\n",
    "import nbdev; nbdev.nbdev_export()\n"
   ]
  },
  {
   "cell_type": "code",
   "execution_count": null,
   "metadata": {},
   "outputs": [],
   "source": []
  },
  {
   "cell_type": "code",
   "execution_count": null,
   "metadata": {},
   "outputs": [],
   "source": []
  },
  {
   "cell_type": "code",
   "execution_count": null,
   "metadata": {},
   "outputs": [],
   "source": []
  }
 ],
 "metadata": {
  "kernelspec": {
   "display_name": "python3",
   "language": "python",
   "name": "python3"
  }
 },
 "nbformat": 4,
 "nbformat_minor": 4
}
