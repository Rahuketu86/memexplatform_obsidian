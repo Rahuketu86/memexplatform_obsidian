{
 "cells": [
  {
   "cell_type": "markdown",
   "metadata": {},
   "source": [
    "# plugin\n",
    "\n",
    "> Embedding with host app"
   ]
  },
  {
   "cell_type": "code",
   "execution_count": null,
   "metadata": {},
   "outputs": [],
   "source": [
    "#| default_exp plugin"
   ]
  },
  {
   "cell_type": "code",
   "execution_count": null,
   "metadata": {},
   "outputs": [],
   "source": [
    "#| hide\n",
    "from nbdev.showdoc import *"
   ]
  },
  {
   "cell_type": "code",
   "execution_count": null,
   "metadata": {},
   "outputs": [],
   "source": [
    "#| hide\n",
    "from dotenv import *\n",
    "%load_ext dotenv\n",
    "%dotenv"
   ]
  },
  {
   "cell_type": "code",
   "execution_count": null,
   "metadata": {},
   "outputs": [],
   "source": [
    "#| export\n",
    "\n",
    "from fasthtml.common import *\n",
    "from monsterui.all import *\n",
    "from memexplatform_obsidian.core import app\n",
    "from memexplatform.pluginspec import hookimpl\n",
    "from memexplatform.ui.structure import  add_prefix_to_routes\n",
    "from memexplatform_obsidian.commons import config, MountPaths\n",
    "from memexplatform_obsidian.mdmanager import get_subdirs\n",
    "from memexplatform_obsidian.commons import MountPaths"
   ]
  },
  {
   "cell_type": "code",
   "execution_count": null,
   "metadata": {},
   "outputs": [
    {
     "data": {
      "text/plain": [
       "<MountPaths.open: '/open'>"
      ]
     },
     "execution_count": null,
     "metadata": {},
     "output_type": "execute_result"
    }
   ],
   "source": [
    "MountPaths.open"
   ]
  },
  {
   "cell_type": "code",
   "execution_count": null,
   "metadata": {},
   "outputs": [
    {
     "data": {
      "text/plain": [
       "[('Clippings', '/obsidian/open?file=Clippings'),\n",
       " ('Journals', '/obsidian/open?file=journals'),\n",
       " ('Lifeos', '/obsidian/open?file=lifeos'),\n",
       " ('Templates', '/obsidian/open?file=templates'),\n",
       " ('Assets', '/obsidian/open?file=assets'),\n",
       " ('Pages', '/obsidian/open?file=pages'),\n",
       " ('Reviews', '/obsidian/open?file=lifeos/Reviews')]"
      ]
     },
     "execution_count": null,
     "metadata": {},
     "output_type": "execute_result"
    }
   ],
   "source": [
    "\n",
    "#| export\n",
    "obsidian_fldrs = [(p.name.capitalize(), MountPaths.open.to(file=str(p.relative_to(config.OBSIDIAN_VAULT)))) \n",
    "for p in get_subdirs(config.OBSIDIAN_VAULT)]; obsidian_fldrs\n"
   ]
  },
  {
   "cell_type": "code",
   "execution_count": null,
   "metadata": {},
   "outputs": [],
   "source": [
    "#| export\n",
    "prefix = config.PREFIX\n",
    "\n",
    "@hookimpl\n",
    "def mount_apps():\n",
    "    return (prefix, app, \"obsidian\")\n",
    "\n",
    "@hookimpl\n",
    "def get_nav_items():\n",
    "    nav_dict = {\n",
    "        \"Obsidian\": [\n",
    "            (\"Home\", config.PREFIX),\n",
    "        ]+obsidian_fldrs,\n",
    "    }\n",
    "    return nav_dict"
   ]
  },
  {
   "cell_type": "code",
   "execution_count": null,
   "metadata": {},
   "outputs": [],
   "source": [
    "#| hide\n",
    "import nbdev; nbdev.nbdev_export()\n"
   ]
  },
  {
   "cell_type": "code",
   "execution_count": null,
   "metadata": {},
   "outputs": [],
   "source": []
  },
  {
   "cell_type": "markdown",
   "metadata": {},
   "source": []
  }
 ],
 "metadata": {
  "kernelspec": {
   "display_name": "python3",
   "language": "python",
   "name": "python3"
  }
 },
 "nbformat": 4,
 "nbformat_minor": 4
}
