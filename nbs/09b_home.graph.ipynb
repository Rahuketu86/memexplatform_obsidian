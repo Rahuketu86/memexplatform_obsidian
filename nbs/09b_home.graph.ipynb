{
 "cells": [
  {
   "cell_type": "markdown",
   "id": "6796d26d",
   "metadata": {},
   "source": [
    "# Graph\n",
    "\n",
    "> Obsidian App Graph Dashboard"
   ]
  },
  {
   "cell_type": "code",
   "execution_count": null,
   "id": "0161d446",
   "metadata": {},
   "outputs": [],
   "source": [
    "#| default_exp home.graph"
   ]
  },
  {
   "cell_type": "code",
   "execution_count": null,
   "id": "c370c23f",
   "metadata": {},
   "outputs": [],
   "source": [
    "#| export\n",
    "from fasthtml.common import *\n",
    "from monsterui.all import *\n",
    "from fasthtml.svg import *\n",
    "from memexplatform_obsidian.datastore import FileStore, NoteStore, DBStore, iter_files\n",
    "from memexplatform_obsidian.commons import config, ExtensionTypes\n",
    "import pandas as pd\n",
    "import networkx as nx\n",
    "from pyvis.network import Network\n",
    "import re\n",
    "from collections import Counter\n",
    "from io import StringIO"
   ]
  },
  {
   "cell_type": "code",
   "execution_count": null,
   "id": "d6277c70",
   "metadata": {},
   "outputs": [],
   "source": [
    "\n",
    "# node = nodes[0]"
   ]
  },
  {
   "cell_type": "code",
   "execution_count": null,
   "id": "3e395cb6",
   "metadata": {},
   "outputs": [],
   "source": [
    "\n",
    "#| export\n",
    "def fetch_nodes_and_links(store, folders, extensions):\n",
    "    \"\"\"Fetch nodes and internal links from the database.\"\"\"\n",
    "    flds = \",\".join(f\"'{e}'\" for e in folders)\n",
    "    exts = \",\".join(f\"'{e.lstrip('.')}'\" for e in extensions)\n",
    "\n",
    "    db_nodes = list(store.db.query(f\"\"\"\n",
    "        SELECT title, url, lockey FROM node\n",
    "        WHERE is_folder=0\n",
    "          AND parent IN ({flds})\n",
    "          AND ext IN ({exts})\n",
    "    \"\"\"))\n",
    "\n",
    "    db_links = list(store.db.query(f\"\"\"\n",
    "        SELECT l.lockey, l.linked_lockey\n",
    "        FROM links l\n",
    "        JOIN node n1 ON l.lockey = n1.lockey\n",
    "        JOIN node n2 ON l.linked_lockey = n2.lockey\n",
    "        WHERE l.is_internal = 1\n",
    "          AND n1.is_folder = 0\n",
    "          AND n2.is_folder = 0\n",
    "          AND n1.parent IN ({flds})\n",
    "          AND n2.parent IN ({flds})\n",
    "          AND n1.ext IN ({exts})\n",
    "          AND n2.ext IN ({exts})\n",
    "    \"\"\"))\n",
    "\n",
    "    return db_nodes, db_links"
   ]
  },
  {
   "cell_type": "code",
   "execution_count": null,
   "id": "5d2a1f6f",
   "metadata": {},
   "outputs": [],
   "source": [
    "#| export\n",
    "def compute_degrees(db_links):\n",
    "    \"\"\"Compute directed in/out degrees and total degree.\"\"\"\n",
    "    out_degree = Counter()\n",
    "    in_degree = Counter()\n",
    "\n",
    "    for row in db_links:\n",
    "        src = row.get('lockey')\n",
    "        dst = row.get('linked_lockey')\n",
    "        if not src or not dst:\n",
    "            continue\n",
    "        src, dst = str(src), str(dst)\n",
    "        out_degree[src] += 1\n",
    "        in_degree[dst] += 1\n",
    "\n",
    "    total_degree = Counter()\n",
    "    all_nodes = set(out_degree.keys()) | set(in_degree.keys())\n",
    "    for node in all_nodes:\n",
    "        total_degree[node] = out_degree[node] + in_degree[node]\n",
    "\n",
    "    return in_degree, out_degree, total_degree"
   ]
  },
  {
   "cell_type": "code",
   "execution_count": null,
   "id": "840cc730",
   "metadata": {},
   "outputs": [],
   "source": [
    "#| export\n",
    "def size_from_degree(deg, max_deg, min_size=10, max_size=50):\n",
    "    \"\"\"Scale node size linearly based on degree.\"\"\"\n",
    "    if max_deg <= 0:\n",
    "        return min_size\n",
    "    scaled = min_size + (deg / max_deg) * (max_size - min_size)\n",
    "    return int(max(min_size, min(int(scaled), max_size)))"
   ]
  },
  {
   "cell_type": "code",
   "execution_count": null,
   "id": "2c7da55e",
   "metadata": {},
   "outputs": [],
   "source": [
    "#| export\n",
    "def color_from_ratio(node_id, in_degree, out_degree):\n",
    "    \"\"\"Return color based on in/out ratio (red=in, blue=out).\"\"\"\n",
    "    indeg = in_degree.get(node_id, 0)\n",
    "    outdeg = out_degree.get(node_id, 0)\n",
    "    total = indeg + outdeg\n",
    "    if total == 0:\n",
    "        return \"#888888\"  # grey for isolates\n",
    "\n",
    "    ratio = indeg / total\n",
    "    r = int(255 * ratio)\n",
    "    g = 50\n",
    "    b = int(255 * (1 - ratio))\n",
    "    return f\"rgb({r},{g},{b})\""
   ]
  },
  {
   "cell_type": "code",
   "execution_count": null,
   "id": "8aeb0d16",
   "metadata": {},
   "outputs": [],
   "source": [
    "#| export\n",
    "def build_network(db_nodes, db_links, in_degree, out_degree, total_degree):\n",
    "    \"\"\"Construct the pyvis Network object.\"\"\"\n",
    "    net = Network(\n",
    "        height=\"1000px\",\n",
    "        width=\"100%\",\n",
    "        bgcolor=\"#1e1e1e\",\n",
    "        font_color=\"white\",\n",
    "        directed=True,\n",
    "        notebook=False\n",
    "    )\n",
    "\n",
    "    net.barnes_hut(\n",
    "        gravity=-20000,\n",
    "        central_gravity=0.3,\n",
    "        spring_length=120,\n",
    "        spring_strength=0.05,\n",
    "        damping=0.9\n",
    "    )\n",
    "\n",
    "    max_deg = max(total_degree.values()) if total_degree else 0\n",
    "\n",
    "    # Add nodes\n",
    "    for node in db_nodes:\n",
    "        node_id = str(node.get('lockey'))\n",
    "        if not node_id:\n",
    "            continue\n",
    "        deg = total_degree.get(node_id, 0)\n",
    "        size = size_from_degree(deg, max_deg)\n",
    "        color = color_from_ratio(node_id, in_degree, out_degree)\n",
    "\n",
    "        net.add_node(\n",
    "            node_id,\n",
    "            label=node.get('title', ''),\n",
    "            title=f\"{node.get('title','')}\\nIn: {in_degree.get(node_id,0)} Out: {out_degree.get(node_id,0)}\",\n",
    "            href=node.get('url', ''),\n",
    "            url=node.get('url', ''),\n",
    "            shape=\"dot\",\n",
    "            size=size,\n",
    "            color={\"background\": color, \"border\": \"#2f7acc\"}\n",
    "        )\n",
    "\n",
    "    # Add edges\n",
    "    for row in db_links:\n",
    "        src = row.get('lockey')\n",
    "        dst = row.get('linked_lockey')\n",
    "        if src and dst:\n",
    "            net.add_edge(str(src), str(dst), arrows=\"to\")\n",
    "\n",
    "    return net"
   ]
  },
  {
   "cell_type": "code",
   "execution_count": null,
   "id": "4ac53125",
   "metadata": {},
   "outputs": [],
   "source": [
    "#| export\n",
    "def inject_click_handlers(html_str):\n",
    "    \"\"\"Inject click & hover handlers into pyvis HTML string.\"\"\"\n",
    "    pattern = r'(network = new vis\\.Network\\(container, data, options\\);)'\n",
    "\n",
    "    click_code = r'''\\1\n",
    "\n",
    "                  // Add click event handlers\n",
    "                  network.on(\"click\", function (params) {\n",
    "                      if (params.nodes.length > 0) {\n",
    "                          var nodeId = params.nodes[0];\n",
    "                          var clickedNode = nodes.get(nodeId);\n",
    "                          \n",
    "                          if (clickedNode.url || clickedNode.href) {\n",
    "                              var targetUrl = clickedNode.url || clickedNode.href;\n",
    "                              window.open(targetUrl);\n",
    "                          }\n",
    "                      }\n",
    "                  });\n",
    "                  \n",
    "                  network.on(\"hoverNode\", function (params) {\n",
    "                      document.getElementById('mynetwork').style.cursor = 'pointer';\n",
    "                  });\n",
    "                  \n",
    "                  network.on(\"blurNode\", function (params) {\n",
    "                      document.getElementById('mynetwork').style.cursor = 'default';\n",
    "                  });'''\n",
    "\n",
    "    html_str = re.sub(pattern, click_code, html_str)\n",
    "    return html_str"
   ]
  },
  {
   "cell_type": "code",
   "execution_count": null,
   "id": "0b642491",
   "metadata": {},
   "outputs": [],
   "source": [
    "#| export\n",
    "def export_network_to_buffer(net):\n",
    "    \"\"\"Export network HTML to a string (for NotStr).\"\"\"\n",
    "    html_content = net.generate_html()  # <- returns HTML as string\n",
    "    html_content = inject_click_handlers(html_content)\n",
    "    return html_content"
   ]
  },
  {
   "cell_type": "code",
   "execution_count": null,
   "id": "c0c9d61d",
   "metadata": {},
   "outputs": [],
   "source": [
    "#| export\n",
    "def get_graph():\n",
    "    fldrs = ('pages', 'journals', 'Clippings')\n",
    "    extensions = ExtensionTypes.TEXTLIKE_EXTS\n",
    "    store = DBStore(config) if config.ENABLE_DB_MODE else FileStore(config)\n",
    "\n",
    "    db_nodes, db_links = fetch_nodes_and_links(store, fldrs, extensions)\n",
    "    in_deg, out_deg, total_deg = compute_degrees(db_links)\n",
    "    net = build_network(db_nodes, db_links, in_deg, out_deg, total_deg)\n",
    "    graph_html_str = export_network_to_buffer(net)  # <- ready for ft.NotStr(graph_html_str)\n",
    "    # graph_html_str\n",
    "    return NotStr(graph_html_str)\n"
   ]
  },
  {
   "cell_type": "code",
   "execution_count": null,
   "id": "42509dfb",
   "metadata": {},
   "outputs": [],
   "source": [
    "#| hide\n",
    "import nbdev; nbdev.nbdev_export()"
   ]
  },
  {
   "cell_type": "raw",
   "id": "c67ac010",
   "metadata": {},
   "source": []
  },
  {
   "cell_type": "raw",
   "id": "19e2f830",
   "metadata": {},
   "source": []
  },
  {
   "cell_type": "raw",
   "id": "7281e5f9",
   "metadata": {},
   "source": []
  },
  {
   "cell_type": "raw",
   "id": "5315cc8d",
   "metadata": {},
   "source": []
  }
 ],
 "metadata": {
  "kernelspec": {
   "display_name": "python3",
   "language": "python",
   "name": "python3"
  }
 },
 "nbformat": 4,
 "nbformat_minor": 5
}
