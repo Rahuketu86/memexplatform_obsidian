{
 "cells": [
  {
   "cell_type": "markdown",
   "metadata": {},
   "source": [
    "# core\n",
    "\n",
    "> Fill in a module description here"
   ]
  },
  {
   "cell_type": "code",
   "execution_count": null,
   "metadata": {},
   "outputs": [],
   "source": [
    "#| default_exp core"
   ]
  },
  {
   "cell_type": "code",
   "execution_count": null,
   "metadata": {},
   "outputs": [],
   "source": [
    "#| hide\n",
    "from nbdev.showdoc import *"
   ]
  },
  {
   "cell_type": "code",
   "execution_count": null,
   "metadata": {},
   "outputs": [],
   "source": [
    "#| export\n",
    "from fasthtml.common import *\n",
    "from monsterui.all import *\n",
    "from memexplatform_obsidian.commons import config, MountPaths\n",
    "from memexplatform.ui.structure import ifhtmx\n",
    "from memexplatform_obsidian.mdmanager import ObsidianHTMLRenderer, get_obsidianmd_ast\n",
    "from mistletoe import Document\n",
    "import urllib"
   ]
  },
  {
   "cell_type": "code",
   "execution_count": null,
   "metadata": {},
   "outputs": [],
   "source": [
    "#| export\n",
    "def create_app():\n",
    "    hdrs = Theme.neutral.headers(highlightjs=True)\n",
    "    script = Script(src=\"https://unpkg.com/@superset-ui/embedded-sdk\")\n",
    "    newhdrs = hdrs  + [script]\n",
    "    mount_routes = []\n",
    "\n",
    "    app = FastHTML(hdrs=newhdrs, live=True, exts='ws', routes=mount_routes)\n",
    "    # app.add_middleware(SessionSyncMiddleware)\n",
    "    rt = app.route\n",
    "    return app, rt\n",
    "\n",
    "app, rt = create_app()"
   ]
  },
  {
   "cell_type": "code",
   "execution_count": null,
   "metadata": {},
   "outputs": [
    {
     "data": {
      "text/plain": [
       "'/obsidian_gradio'"
      ]
     },
     "execution_count": null,
     "metadata": {},
     "output_type": "execute_result"
    }
   ],
   "source": [
    "MountPaths.gradio_url.value"
   ]
  },
  {
   "cell_type": "code",
   "execution_count": null,
   "metadata": {},
   "outputs": [],
   "source": [
    "#| export\n",
    "@rt\n",
    "def index(request:Request):\n",
    "\n",
    "    # listteam_comp = Container(Div('Team'), hx_get=f'/portal/list_team', hx_target='#listteam', id='listteam', hx_swap='innerHTML',hx_vals=json.dumps({\"folder\": str(config.NBPATH)}),  hx_trigger='load')\n",
    "    comp = Div(\"Obsidian Companion\")\n",
    "    \n",
    "    return ifhtmx(request, comp)"
   ]
  },
  {
   "cell_type": "code",
   "execution_count": null,
   "metadata": {},
   "outputs": [],
   "source": [
    "#| export\n",
    "@app.get('/open')\n",
    "def app_route(request:Request, file: str = \"\"):\n",
    "    vault_path = config.OBSIDIAN_VAULT\n",
    "    file_path = vault_path / urllib.parse.unquote(file)\n",
    "\n",
    "    if not file_path.exists():\n",
    "        return Div(f\"Path not found: {file_path}\")\n",
    "\n",
    "    # If it's a directory → list contents\n",
    "    if file_path.is_dir():\n",
    "        items = []\n",
    "        for p in sorted(file_path.iterdir()):\n",
    "            rel_path = p.relative_to(vault_path)\n",
    "            href = MountPaths.open.to(file=rel_path)\n",
    "            items.append(Li(A(p.name, href=href)))\n",
    "        return ifhtmx(request,Div(\n",
    "            f\"Listing for {file_path}:\", \n",
    "            Ul(*items)\n",
    "        ))\n",
    "\n",
    "    # If it's a file → show content (assuming text)\n",
    "    if file_path.is_file():\n",
    "        doc = None\n",
    "        try:\n",
    "            text = file_path.read_text(encoding=\"utf-8\")\n",
    "        except Exception:\n",
    "            text = \"[Unable to read file]\"\n",
    "\n",
    "        html = None\n",
    "        with ObsidianHTMLRenderer() as renderer:\n",
    "            doc = get_obsidianmd_ast(text); print(doc)\n",
    "            html = renderer.render(doc)\n",
    "            # print(html)\n",
    "        return ifhtmx(request, \n",
    "            Container( H1(file_path.stem, cls='uk-h1 text-4xl font-bold mt-12 mb-6'), \n",
    "            NotStr(apply_classes(html)) \n",
    "        ))\n",
    "        # return ifhtmx(request,\n",
    "        #         Container(\n",
    "        #             f\"File: {file_path}\",\n",
    "        #             NotStr(apply_classes(html)),\n",
    "        #             classes=\"max-w-screen overflow-x-auto break-words p-6 pr-12 bg-base-100 rounded-md shadow-sm\"\n",
    "        #         )\n",
    "        #     )\n",
    "        # return ifhtmx(request,\n",
    "        #             DivHStacked(\n",
    "        #                 Div(classes=\"w-1/12\"),  # left 10%\n",
    "        #                 Div(\n",
    "        #                     NotStr(apply_classes(html)) ,\n",
    "        #                     classes=\"w-10/12 break-words p-6 bg-base-100 rounded-md shadow-sm\"\n",
    "        #                 ),\n",
    "        #                 Div(classes=\"w-1/12\"),  # right 10%\n",
    "        #                 cls=\"flex\"\n",
    "        #             )\n",
    "        #         )"
   ]
  },
  {
   "cell_type": "code",
   "execution_count": null,
   "metadata": {},
   "outputs": [],
   "source": [
    "# apply_classes??\n",
    "# franken_class_map?"
   ]
  },
  {
   "cell_type": "code",
   "execution_count": null,
   "metadata": {},
   "outputs": [
    {
     "data": {
      "text/markdown": [
       "```html\n",
       "<h1 class=\"uk-h1 \">Product ss</h1>\n",
       "\n",
       "```"
      ],
      "text/plain": [
       "h1(('Product ss',),{'class': 'uk-h1 '})"
      ]
     },
     "execution_count": null,
     "metadata": {},
     "output_type": "execute_result"
    }
   ],
   "source": [
    "H1(Path(\"test/Product ss.md\").stem)"
   ]
  },
  {
   "cell_type": "code",
   "execution_count": null,
   "metadata": {},
   "outputs": [],
   "source": [
    "#| hide\n",
    "import nbdev; nbdev.nbdev_export()"
   ]
  },
  {
   "cell_type": "code",
   "execution_count": null,
   "metadata": {},
   "outputs": [],
   "source": []
  },
  {
   "cell_type": "code",
   "execution_count": null,
   "metadata": {},
   "outputs": [],
   "source": []
  },
  {
   "cell_type": "code",
   "execution_count": null,
   "metadata": {},
   "outputs": [],
   "source": []
  }
 ],
 "metadata": {
  "kernelspec": {
   "display_name": "python3",
   "language": "python",
   "name": "python3"
  }
 },
 "nbformat": 4,
 "nbformat_minor": 4
}
