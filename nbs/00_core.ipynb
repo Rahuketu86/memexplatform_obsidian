{
 "cells": [
  {
   "cell_type": "markdown",
   "metadata": {},
   "source": [
    "# core\n",
    "\n",
    "> Fill in a module description here"
   ]
  },
  {
   "cell_type": "code",
   "execution_count": null,
   "metadata": {},
   "outputs": [],
   "source": [
    "#| default_exp core"
   ]
  },
  {
   "cell_type": "code",
   "execution_count": null,
   "metadata": {},
   "outputs": [],
   "source": [
    "#| hide\n",
    "from nbdev.showdoc import *"
   ]
  },
  {
   "cell_type": "code",
   "execution_count": null,
   "metadata": {},
   "outputs": [],
   "source": [
    "#| export\n",
    "\n",
    "from fasthtml.common import *\n",
    "from monsterui.all import *\n",
    "from memexplatform_obsidian.commons import config, MountPaths\n",
    "from memexplatform.ui.structure import ifhtmx\n",
    "from memexplatform_obsidian.mdmanager import ObsidianHTMLRenderer, get_obsidianmd_ast, get_subdirs\n",
    "from mistletoe import Document\n",
    "import urllib\n",
    "from memexplatform_obsidian.jupyter import render_nb\n",
    "from memexplatform_obsidian.mdmanager import get_title\n",
    "from typing import Optional\n",
    "import pathlib\n",
    "import mimetypes"
   ]
  },
  {
   "cell_type": "code",
   "execution_count": null,
   "metadata": {},
   "outputs": [],
   "source": [
    "# StreamingResponse??"
   ]
  },
  {
   "cell_type": "code",
   "execution_count": null,
   "metadata": {},
   "outputs": [],
   "source": [
    "#| export\n",
    "def create_app():\n",
    "    hdrs = Theme.neutral.headers(highlightjs=True)\n",
    "    Mermaid = MermaidJS()\n",
    "    Katex = KatexMarkdownJS()\n",
    "    D3 = Script(src=\"https://cdn.jsdelivr.net/npm/d3@7\")\n",
    "    PyscriptCSS=Link(rel=\"stylesheet\", href=\"https://pyscript.net/releases/2025.3.1/core.css\", type=\"text/css\"),\n",
    "    PyscriptJS=Script(src=\"https://pyscript.net/releases/2025.3.1/core.js\", type='module')\n",
    "    SurrealGlobalAdd = Script(\"surreal.globalsAdd());\");\n",
    "    Plotly = Script(src=\"https://cdn.plot.ly/plotly-3.0.1.min.js\")\n",
    "    add_hdrs = [Mermaid, Katex, D3, PyscriptCSS, PyscriptJS, SurrealGlobalAdd, Plotly]\n",
    "    newhdrs = hdrs +add_hdrs\n",
    "    mount_routes = []\n",
    "\n",
    "    app = FastHTML(hdrs=newhdrs, live=True, exts='ws', routes=mount_routes)\n",
    "    # app.add_middleware(SessionSyncMiddleware)\n",
    "    rt = app.route\n",
    "    return app, rt\n",
    "\n",
    "app, rt = create_app()"
   ]
  },
  {
   "cell_type": "code",
   "execution_count": null,
   "metadata": {},
   "outputs": [
    {
     "data": {
      "text/plain": [
       "'/obsidian_gradio'"
      ]
     },
     "execution_count": null,
     "metadata": {},
     "output_type": "execute_result"
    }
   ],
   "source": [
    "MountPaths.gradio_url.value"
   ]
  },
  {
   "cell_type": "code",
   "execution_count": null,
   "metadata": {},
   "outputs": [],
   "source": [
    "#| export\n",
    "@rt\n",
    "def index(request:Request):\n",
    "\n",
    "    # listteam_comp = Container(Div('Team'), hx_get=f'/portal/list_team', hx_target='#listteam', id='listteam', hx_swap='innerHTML',hx_vals=json.dumps({\"folder\": str(config.NBPATH)}),  hx_trigger='load')\n",
    "    comp = Div(\"Obsidian Companion\")\n",
    "    \n",
    "    return ifhtmx(request, comp)"
   ]
  },
  {
   "cell_type": "code",
   "execution_count": null,
   "metadata": {},
   "outputs": [
    {
     "name": "stdout",
     "output_type": "stream",
     "text": [
      "Clippings/Fuck You, Show Me The Prompt. – 2.md\n",
      "[Path('/Users/rahul1.saraf/rahuketu/programming/notesobs/Clippings/Frequently Asked Questions (And Answers) About AI Evals – Hamel’s Blog.md'), Path('/Users/rahul1.saraf/rahuketu/programming/notesobs/Clippings/How I Built a Learning Machine.md'), Path('/Users/rahul1.saraf/rahuketu/programming/notesobs/Clippings/ContextCite Attributing Model Generation to Context.md'), Path('/Users/rahul1.saraf/rahuketu/programming/notesobs/Clippings/Apertus a fully open, transparent, multilingual language model.md'), Path('/Users/rahul1.saraf/rahuketu/programming/notesobs/Clippings/How to solve any problem? - supermemo.guru.md'), Path('/Users/rahul1.saraf/rahuketu/programming/notesobs/Clippings/From GPT-2 to gpt-oss Analyzing the Architectural Advances.md'), Path('/Users/rahul1.saraf/rahuketu/programming/notesobs/Clippings/Fuck You, Show Me The Prompt. – 2.md')]\n"
     ]
    }
   ],
   "source": [
    "vault_path = config.OBSIDIAN_VAULT\n",
    "file = \"Clippings/Fuck%20You%2C%20Show%20Me%20The%20Prompt.%20%E2%80%93%202.md\"\n",
    "# file = \"Fuck%20You%2C%20Show%20Me%20The%20Prompt.%20%E2%80%93%202.md\"\n",
    "search_term = urllib.parse.unquote(file); print(search_term)\n",
    "file_path = vault_path / search_term; file_path\n",
    "base = get_subdirs(vault_path)[0]; base\n",
    "# next(base.rglob(search_term), None)\n",
    "# list(base.rglob(\"*\"))\n",
    "# list(base.rglob(\"*\"))\n",
    "print(list(base.rglob(\"*\")))\n",
    "next(base.rglob(search_term), None)\n",
    "file = \"Clippings\""
   ]
  },
  {
   "cell_type": "code",
   "execution_count": null,
   "metadata": {},
   "outputs": [],
   "source": [
    "#| export\n",
    "def resolve_note_path(vault:Path, file:str) -> Path | None:\n",
    "    search_term = urllib.parse.unquote(file); search_term\n",
    "    rel_path = Path(search_term); rel_path\n",
    "    fname = rel_path.name\n",
    "    fldr = rel_path.parent; fldr\n",
    "    pfname = None\n",
    "    extensions = ('.png', '.jpg', '.jpeg', '.gif', '.bmp', '.svg', '.webp', '.tiff', '.ico',\n",
    "                    '.base', '.canvas', '.md', '.qmd', '.ipynb'\n",
    "                )\n",
    "    if fldr.name == \"\":\n",
    "        if fname.lower().endswith(extensions):\n",
    "            for sub in get_subdirs(vault):\n",
    "                pfname = next(sub.rglob(fname), None)\n",
    "                if pfname: break\n",
    "        else:\n",
    "            mdfname = fname +\".md\"\n",
    "            for sub in get_subdirs(vault):\n",
    "                pfname = next(sub.rglob(mdfname), None)\n",
    "                if pfname: break\n",
    "    else:\n",
    "        if fname.lower().endswith(extensions):\n",
    "            pfname = next((vault/fldr).rglob(fname), None)\n",
    "        else:\n",
    "            mdfname = fname +\".md\"\n",
    "            pfname = next((vault/fldr).rglob(mdfname), None)\n",
    "    if pfname: return pfname\n",
    "    else: \n",
    "        lsfldr = vault/search_term\n",
    "        if lsfldr.is_dir(): return lsfldr\n",
    "        else: return None"
   ]
  },
  {
   "cell_type": "code",
   "execution_count": null,
   "metadata": {},
   "outputs": [],
   "source": [
    "#| export\n",
    "@rt\n",
    "def open(request: Request, file: str = \"\", title: Optional[str]=None):\n",
    "    vault_path = config.OBSIDIAN_VAULT\n",
    "    file_path = resolve_note_path(vault_path, file)\n",
    "    if file_path is None: return Div(f\"Path not found: {urllib.parse.unquote(file)}\")\n",
    "\n",
    "    # If it's a directory → list contents\n",
    "    if file_path.is_dir():\n",
    "        items = []\n",
    "        for p in sorted(file_path.iterdir()):\n",
    "            rel_path = p.relative_to(vault_path)\n",
    "            href = MountPaths.open.to(file=rel_path)\n",
    "            items.append(Li(A(p.name, href=href)))\n",
    "        return ifhtmx(request,\n",
    "            Div(\n",
    "                f\"Listing for {file_path}:\",\n",
    "                Ul(*items)\n",
    "            )\n",
    "        )\n",
    "    # If it's a file → show content (assuming text)\n",
    "    if file_path.is_file():\n",
    "        if file_path.name.lower().endswith(\".ipynb\"):\n",
    "            return ifhtmx(\n",
    "                    request,\n",
    "                    Container(\n",
    "                        H1(file_path.stem, cls='uk-h1 text-4xl font-bold mt-12 mb-6'),\n",
    "                        render_nb(file_path)\n",
    "                ))\n",
    "        try:\n",
    "            text = file_path.read_text(encoding=\"utf-8\")\n",
    "        except Exception:\n",
    "            text = \"[Unable to read file]\"\n",
    "\n",
    "        with ObsidianHTMLRenderer() as renderer:\n",
    "            doc = get_obsidianmd_ast(text)\n",
    "            html = renderer.render(doc)\n",
    "            title = get_title(doc)\n",
    "            \n",
    "\n",
    "        return ifhtmx(\n",
    "            request,\n",
    "            Container(\n",
    "                H1(title if title else file_path.stem, cls='uk-h1 text-4xl font-bold mt-12 mb-6'),\n",
    "                Card(NotStr(apply_classes(html)))\n",
    "            )\n",
    "        )"
   ]
  },
  {
   "cell_type": "code",
   "execution_count": null,
   "metadata": {},
   "outputs": [],
   "source": [
    "#| export\n",
    "def iter_file(path, chunk_size=8192):\n",
    "    with open(path, \"rb\") as f:\n",
    "        while chunk := f.read(chunk_size):\n",
    "            yield chunk"
   ]
  },
  {
   "cell_type": "code",
   "execution_count": null,
   "metadata": {},
   "outputs": [
    {
     "name": "stdout",
     "output_type": "stream",
     "text": [
      "\u001b[0;31mInit signature:\u001b[0m\n",
      "\u001b[0mFileResponse\u001b[0m\u001b[0;34m(\u001b[0m\u001b[0;34m\u001b[0m\n",
      "\u001b[0;34m\u001b[0m    \u001b[0mpath\u001b[0m\u001b[0;34m:\u001b[0m \u001b[0;34m'str | os.PathLike[str]'\u001b[0m\u001b[0;34m,\u001b[0m\u001b[0;34m\u001b[0m\n",
      "\u001b[0;34m\u001b[0m    \u001b[0mstatus_code\u001b[0m\u001b[0;34m:\u001b[0m \u001b[0;34m'int'\u001b[0m \u001b[0;34m=\u001b[0m \u001b[0;36m200\u001b[0m\u001b[0;34m,\u001b[0m\u001b[0;34m\u001b[0m\n",
      "\u001b[0;34m\u001b[0m    \u001b[0mheaders\u001b[0m\u001b[0;34m:\u001b[0m \u001b[0;34m'typing.Mapping[str, str] | None'\u001b[0m \u001b[0;34m=\u001b[0m \u001b[0;32mNone\u001b[0m\u001b[0;34m,\u001b[0m\u001b[0;34m\u001b[0m\n",
      "\u001b[0;34m\u001b[0m    \u001b[0mmedia_type\u001b[0m\u001b[0;34m:\u001b[0m \u001b[0;34m'str | None'\u001b[0m \u001b[0;34m=\u001b[0m \u001b[0;32mNone\u001b[0m\u001b[0;34m,\u001b[0m\u001b[0;34m\u001b[0m\n",
      "\u001b[0;34m\u001b[0m    \u001b[0mbackground\u001b[0m\u001b[0;34m:\u001b[0m \u001b[0;34m'BackgroundTask | None'\u001b[0m \u001b[0;34m=\u001b[0m \u001b[0;32mNone\u001b[0m\u001b[0;34m,\u001b[0m\u001b[0;34m\u001b[0m\n",
      "\u001b[0;34m\u001b[0m    \u001b[0mfilename\u001b[0m\u001b[0;34m:\u001b[0m \u001b[0;34m'str | None'\u001b[0m \u001b[0;34m=\u001b[0m \u001b[0;32mNone\u001b[0m\u001b[0;34m,\u001b[0m\u001b[0;34m\u001b[0m\n",
      "\u001b[0;34m\u001b[0m    \u001b[0mstat_result\u001b[0m\u001b[0;34m:\u001b[0m \u001b[0;34m'os.stat_result | None'\u001b[0m \u001b[0;34m=\u001b[0m \u001b[0;32mNone\u001b[0m\u001b[0;34m,\u001b[0m\u001b[0;34m\u001b[0m\n",
      "\u001b[0;34m\u001b[0m    \u001b[0mmethod\u001b[0m\u001b[0;34m:\u001b[0m \u001b[0;34m'str | None'\u001b[0m \u001b[0;34m=\u001b[0m \u001b[0;32mNone\u001b[0m\u001b[0;34m,\u001b[0m\u001b[0;34m\u001b[0m\n",
      "\u001b[0;34m\u001b[0m    \u001b[0mcontent_disposition_type\u001b[0m\u001b[0;34m:\u001b[0m \u001b[0;34m'str'\u001b[0m \u001b[0;34m=\u001b[0m \u001b[0;34m'attachment'\u001b[0m\u001b[0;34m,\u001b[0m\u001b[0;34m\u001b[0m\n",
      "\u001b[0;34m\u001b[0m\u001b[0;34m)\u001b[0m \u001b[0;34m->\u001b[0m \u001b[0;34m'None'\u001b[0m\u001b[0;34m\u001b[0m\u001b[0;34m\u001b[0m\u001b[0m\n",
      "\u001b[0;31mDocstring:\u001b[0m      <no docstring>\n",
      "\u001b[0;31mFile:\u001b[0m           /opt/homebrew/Caskroom/miniforge/base/envs/automlops/lib/python3.11/site-packages/starlette/responses.py\n",
      "\u001b[0;31mType:\u001b[0m           type\n",
      "\u001b[0;31mSubclasses:\u001b[0m     "
     ]
    }
   ],
   "source": [
    "fname = 'Test.m4a'\n",
    "mime = mimetypes.guess_type(fname); mime[0]\n",
    "FileResponse?"
   ]
  },
  {
   "cell_type": "code",
   "execution_count": null,
   "metadata": {},
   "outputs": [],
   "source": [
    "#| export\n",
    "def CollapsibleBlocks(title, comp):\n",
    "    return Div(\n",
    "            Input(type='checkbox'),\n",
    "            Div(title, cls='collapse-title font-semibold'),\n",
    "            Div(comp, cls='collapse-content text-sm'),\n",
    "            cls='collapse collapse-plus border'\n",
    "        )\n",
    "\n",
    "        "
   ]
  },
  {
   "cell_type": "code",
   "execution_count": null,
   "metadata": {},
   "outputs": [
    {
     "data": {
      "text/plain": [
       "'<div class=\"collapse collapse-plus border\">\\n  <input type=\"checkbox\" class=\"uk-input \">\\n  <div class=\"collapse-title font-semibold\">T</div>\\n  <div class=\"collapse-content text-sm\">c</div>\\n</div>\\n'"
      ]
     },
     "execution_count": null,
     "metadata": {},
     "output_type": "execute_result"
    }
   ],
   "source": [
    "to_xml(CollapsibleBlocks('T', 'c'))"
   ]
  },
  {
   "cell_type": "code",
   "execution_count": null,
   "metadata": {},
   "outputs": [],
   "source": [
    "#| export\n",
    "@rt\n",
    "def embed(request: Request, file: str = \"\", ext:Optional[str]=None, title:Optional[str]=None):\n",
    "    VIDEO_EXTS = {\".mp4\", \".webm\", \".ogg\", \".mov\", \".mkv\"}\n",
    "    AUDIO_EXTS = {\".mp3\", \".wav\", \".ogg\", \".m4a\", \".flac\"}\n",
    "    IMAGE_EXTS = {\".png\", \".jpg\", \".jpeg\", \".gif\", \".svg\", \".webp\"}\n",
    "    TEXTLIKE_EXTS = {\".md\", \".qmd\", \".canvas\", \".base\"}\n",
    "    vault_path = config.OBSIDIAN_VAULT\n",
    "    file_path = resolve_note_path(vault_path, file)\n",
    "    if file_path is None: return Div(f\"Path not found: {urllib.parse.unquote(file)}\")\n",
    "\n",
    "    # If it's a directory → list contents\n",
    "    if file_path.is_dir():\n",
    "        items = []\n",
    "        for p in sorted(file_path.iterdir()):\n",
    "            rel_path = p.relative_to(vault_path)\n",
    "            href = MountPaths.open.to(file=rel_path)\n",
    "            items.append(Li(A(p.name, href=href)))\n",
    "        return ifhtmx(request,\n",
    "            Div(\n",
    "                f\"Listing for {file_path}:\",\n",
    "                Ul(*items)\n",
    "            )\n",
    "        )\n",
    "    # If it's a file → show content (assuming text)\n",
    "    if file_path.is_file():\n",
    "        if ext in IMAGE_EXTS:\n",
    "            headers = {'Content-Type': f\"image/{ext[1:]}\"}\n",
    "            \n",
    "            # Add alt and title to headers if available/derivable\n",
    "            # 'title' is passed as a parameter to the embed function\n",
    "            if title:\n",
    "                headers['X-Image-Title'] = title\n",
    "            \n",
    "            # 'alt' is not passed directly to the embed function, so derive it from the file name\n",
    "            # This 'alt' would typically be used by the HTML <img> tag that references this image.\n",
    "            # Adding it as a custom header here provides it in the response, as per instruction.\n",
    "            alt_text = pathlib.Path(file).stem\n",
    "            headers['X-Image-Alt'] = alt_text\n",
    "            \n",
    "            return Response(file_path.read_bytes(), headers=headers)\n",
    "\n",
    "        # --- Video files ---\n",
    "        if ext in VIDEO_EXTS:\n",
    "            # mime = f\"video/{ext[1:]}\" if ext else \"video/mp4\"\n",
    "            mime = mimetypes.guess_type(file_path.name, strict=False)\n",
    "            headers = {\"Accept-Ranges\": \"bytes\"}  # Important for seeking\n",
    "            # return Response(file_path.read_bytes(), headers=headers)\n",
    "            return FileResponse(file_path, media_type=mime[0], headers=headers)\n",
    "\n",
    "        # --- Audio files ---\n",
    "        if ext in AUDIO_EXTS:\n",
    "            # mime = f\"audio/{ext[1:]}\" if ext else \"audio/mpeg\"\n",
    "            mime = mimetypes.guess_type(file_path.name, strict=False)\n",
    "            headers = {\"Accept-Ranges\": \"bytes\"}  # Important for seeking\n",
    "            # return Response(file_path.read_bytes(), headers=headers)\n",
    "            return FileResponse(file_path, media_type=mime[0], headers=headers)\n",
    "\n",
    "        if file_path.name.lower().endswith(\".ipynb\"):\n",
    "            return ifhtmx(\n",
    "                    request,\n",
    "                    Container(\n",
    "                        H1(file_path.stem, cls='uk-h1 text-4xl font-bold mt-12 mb-6'),\n",
    "                        render_nb(file_path)\n",
    "                ))\n",
    "        try:\n",
    "            text = file_path.read_text(encoding=\"utf-8\")\n",
    "        except Exception:\n",
    "            text = \"[Unable to read file]\"\n",
    "\n",
    "        with ObsidianHTMLRenderer() as renderer:\n",
    "            doc = get_obsidianmd_ast(text)\n",
    "            html = renderer.render(doc)\n",
    "            title = get_title(doc)\n",
    "\n",
    "        # return Response(html, media_type=\"text/html\")\n",
    "        return CollapsibleBlocks(\n",
    "           Div(title if title else file_path.stem), \n",
    "           NotStr(apply_classes(html))\n",
    "        )"
   ]
  },
  {
   "cell_type": "code",
   "execution_count": null,
   "metadata": {},
   "outputs": [],
   "source": [
    "#| hide\n",
    "import nbdev; nbdev.nbdev_export()"
   ]
  },
  {
   "cell_type": "code",
   "execution_count": null,
   "metadata": {},
   "outputs": [],
   "source": []
  },
  {
   "cell_type": "code",
   "execution_count": null,
   "metadata": {},
   "outputs": [],
   "source": []
  },
  {
   "cell_type": "code",
   "execution_count": null,
   "metadata": {},
   "outputs": [],
   "source": []
  },
  {
   "cell_type": "code",
   "execution_count": null,
   "metadata": {},
   "outputs": [],
   "source": []
  },
  {
   "cell_type": "code",
   "execution_count": null,
   "metadata": {},
   "outputs": [],
   "source": []
  }
 ],
 "metadata": {
  "kernelspec": {
   "display_name": "python3",
   "language": "python",
   "name": "python3"
  }
 },
 "nbformat": 4,
 "nbformat_minor": 4
}
