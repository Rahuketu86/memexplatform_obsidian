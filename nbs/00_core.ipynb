{
 "cells": [
  {
   "cell_type": "markdown",
   "metadata": {},
   "source": [
    "# core\n",
    "\n",
    "> Fill in a module description here"
   ]
  },
  {
   "cell_type": "code",
   "execution_count": null,
   "metadata": {},
   "outputs": [],
   "source": [
    "#| default_exp core"
   ]
  },
  {
   "cell_type": "code",
   "execution_count": null,
   "metadata": {},
   "outputs": [],
   "source": [
    "#| hide\n",
    "from nbdev.showdoc import *"
   ]
  },
  {
   "cell_type": "code",
   "execution_count": null,
   "metadata": {},
   "outputs": [],
   "source": [
    "#| export\n",
    "\n",
    "from fasthtml.common import *\n",
    "from monsterui.all import *\n",
    "from memexplatform_obsidian.commons import config, MountPaths, ResponseTypes, ExtensionTypes\n",
    "from memexplatform.ui.structure import ifhtmx\n",
    "from memexplatform_obsidian.mdmanager import ObsidianHTMLRenderer, get_subdirs, resolve_note_path\n",
    "from mistletoe import Document\n",
    "import urllib\n",
    "from typing import Optional\n",
    "import pathlib\n",
    "from pathlib import Path\n",
    "from memexplatform_obsidian.mdmanager import ObsidianPage, guess_mime\n",
    "from memexplatform_obsidian.datastore import DBStore, FileStore\n",
    "from io import BytesIO\n",
    "import uuid\n",
    "from memexplatform_obsidian.home import homepage"
   ]
  },
  {
   "cell_type": "code",
   "execution_count": null,
   "metadata": {},
   "outputs": [],
   "source": [
    "# Theme.neutral.headers?"
   ]
  },
  {
   "cell_type": "code",
   "execution_count": null,
   "metadata": {},
   "outputs": [],
   "source": [
    "#| export\n",
    "def create_app():\n",
    "    hdrs = Theme.neutral.headers(highlightjs=True, apex_charts=True, katex=True)\n",
    "    Mermaid = MermaidJS()\n",
    "    Katex = KatexMarkdownJS()\n",
    "    D3 = Script(src=\"https://cdn.jsdelivr.net/npm/d3@7\")\n",
    "    PyscriptCSS=Link(rel=\"stylesheet\", href=\"https://pyscript.net/releases/2025.8.1/core.css\", type=\"text/css\"),\n",
    "    PyscriptJS=Script(src=\"https://pyscript.net/releases/2025.8.1/core.js\", type='module')\n",
    "    SurrealGlobalAdd = Script(\"surreal.globalsAdd());\");\n",
    "    Plotly = Script(src=\"https://cdn.plot.ly/plotly-3.0.1.min.js\")\n",
    "     # Observable (OJS) runtime + stdlib\n",
    "    # ObservableJS runtime with HTMX support\n",
    "    OJSRuntime = Script(type=\"module\", content=\"\"\"\n",
    "import {Runtime, Inspector} from \"https://cdn.jsdelivr.net/npm/@observablehq/runtime@5/dist/runtime.js\";\n",
    "import {Library} from \"https://cdn.jsdelivr.net/npm/@observablehq/stdlib@5/dist/stdlib.js\";\n",
    "import {parser} from \"https://cdn.jsdelivr.net/npm/@observablehq/parser@5/dist/parser.min.js\";\n",
    "\n",
    "// Wait for DOM to be ready\n",
    "document.addEventListener('DOMContentLoaded', function() {\n",
    "    // Find all <script type=\"ojs\"> and process them\n",
    "    document.querySelectorAll(\"script[type='ojs']\").forEach(script => {\n",
    "        const containerId = script.dataset.container;\n",
    "        const container = document.getElementById(containerId);\n",
    "        const code = script.textContent;\n",
    "        \n",
    "        if (!container) {\n",
    "            console.error('Container not found:', containerId);\n",
    "            return;\n",
    "        }\n",
    "        \n",
    "        try {\n",
    "            // Parse OJS source into cells\n",
    "            const parsed = parser.parseModule(code);\n",
    "            const runtime = new Runtime(new Library());\n",
    "            const main = runtime.module(parsed);\n",
    "            \n",
    "            // Create inspector for the container\n",
    "            const inspector = new Inspector(container);\n",
    "            \n",
    "            // For each cell in the module, create a variable\n",
    "            for (const cell of parsed.cells) {\n",
    "                if (cell.id && cell.id.name) {\n",
    "                    main.variable(inspector).define(cell.id.name, cell.body);\n",
    "                } else {\n",
    "                    // Anonymous cells\n",
    "                    main.variable(inspector).define(null, cell.body);\n",
    "                }\n",
    "            }\n",
    "        } catch (error) {\n",
    "            console.error('Error parsing OJS code:', error);\n",
    "            container.innerHTML = `<div style=\"color: red;\">Error rendering OJS: ${error.message}</div>`;\n",
    "        }\n",
    "    });\n",
    "});\n",
    "\"\"\")\n",
    "    \n",
    "\n",
    "    GradioLiteCSS = Link(rel=\"stylesheet\", href=\"https://cdn.jsdelivr.net/npm/@gradio/lite/dist/lite.css\")\n",
    "    GradioLiteJS = Script(type=\"module\", crossorigin=True, src=\"https://cdn.jsdelivr.net/npm/@gradio/lite/dist/lite.js\")\n",
    "    add_hdrs = [Mermaid, Katex, D3, PyscriptCSS, PyscriptJS, SurrealGlobalAdd, Plotly, OJSRuntime, GradioLiteCSS, GradioLiteJS]\n",
    "    newhdrs = hdrs +add_hdrs\n",
    "    mount_routes = []\n",
    "\n",
    "    app = FastHTML(hdrs=newhdrs, live=True, exts='ws', routes=mount_routes, highlightjs=True)\n",
    "    # app.add_middleware(SessionSyncMiddleware)\n",
    "    rt = app.route\n",
    "    return app, rt\n",
    "\n",
    "app, rt = create_app()"
   ]
  },
  {
   "cell_type": "code",
   "execution_count": null,
   "metadata": {},
   "outputs": [
    {
     "data": {
      "text/plain": [
       "'/obsidian_gradio'"
      ]
     },
     "execution_count": null,
     "metadata": {},
     "output_type": "execute_result"
    }
   ],
   "source": [
    "MountPaths.gradio_url.value"
   ]
  },
  {
   "cell_type": "code",
   "execution_count": null,
   "metadata": {},
   "outputs": [],
   "source": [
    "#| export\n",
    "@rt\n",
    "def index(request:Request):\n",
    "    comp = homepage(config)\n",
    "    return ifhtmx(request, comp)"
   ]
  },
  {
   "cell_type": "code",
   "execution_count": null,
   "metadata": {},
   "outputs": [],
   "source": [
    "#| export\n",
    "@rt\n",
    "def edit(request:Request, session):\n",
    "    obsidian_url = session['obsidian_url']\n",
    "    resp = Response(status_code=200)\n",
    "    # print(url)\n",
    "    resp.headers[\"HX-Redirect\"] = obsidian_url\n",
    "    return resp\n",
    "    "
   ]
  },
  {
   "cell_type": "code",
   "execution_count": null,
   "metadata": {},
   "outputs": [],
   "source": [
    "#| export\n",
    "def backlinkscomp(bls):\n",
    "    if bls:\n",
    "        print(bls)\n",
    "        Lis = [Li(A(src.title, href=src.url, hx_push_url=src.url, hx_boost=True, id=f\"backlink-{uuid.uuid4()}\"\n",
    "                )) for src in bls]\n",
    "        # Lis = [Li(f\"Checking {bls}\")]\n",
    "        return Ul(\n",
    "            *Lis,\n",
    "            id='backlink_list', \n",
    "            cls='menu bg-base-200 text-base-content min-h-full w-80 p-4',\n",
    "            hx_swap_oob='outerHTML',\n",
    "        )\n",
    "\n",
    "         \n",
    "    else:\n",
    "        return Ul(Li(\"No Backlink referring to this document or not supported\"), \n",
    "            id='backlink_list', \n",
    "            cls='menu bg-base-200 text-base-content min-h-full w-80 p-4',\n",
    "            hx_swap_oob='outerHTML')"
   ]
  },
  {
   "cell_type": "code",
   "execution_count": null,
   "metadata": {},
   "outputs": [],
   "source": [
    "#| export\n",
    "def LinkCard(src):\n",
    "    card = Card(H4(src.title),\n",
    "                cls=\"p-4 flex flex-col items-center text-center\",\n",
    "                role=\"button\",\n",
    "                tabindex=\"0\",\n",
    "                style=\"cursor: pointer;\"\n",
    "            )\n",
    "    return A(card, href=src.url, cls=\"block hover:shadow-lg transition duration-300\")\n"
   ]
  },
  {
   "cell_type": "code",
   "execution_count": null,
   "metadata": {},
   "outputs": [],
   "source": [
    "#| export\n",
    "def LinksComp(links):\n",
    "    if links: cards = [LinkCard(src) for src in links]\n",
    "    else:cards = [Card(H4(\"No links found\"))]\n",
    "    return Grid(*cards, lg=3)\n",
    "    "
   ]
  },
  {
   "cell_type": "code",
   "execution_count": null,
   "metadata": {},
   "outputs": [],
   "source": [
    "#| export\n",
    "@rt\n",
    "def tags(request:Request, name:str):\n",
    "    if config.ENABLE_DB_MODE: \n",
    "        store = DBStore(config)\n",
    "        tls = store.tlinks(name)\n",
    "        # print(tls, name)\n",
    "        comp = Div(\n",
    "            H2(f\"Taglist for {name}\"), \n",
    "            LinksComp(tls)\n",
    "        )\n",
    "        return ifhtmx(request,comp)\n",
    "    else: return ifhtmx(request, Div(\"Taglist only supported in DBMODE\"))"
   ]
  },
  {
   "cell_type": "code",
   "execution_count": null,
   "metadata": {},
   "outputs": [],
   "source": [
    "#| export\n",
    "@rt\n",
    "def getbacklinks(request: Request,lockey:str):\n",
    "    store = DBStore(config) if config.ENABLE_DB_MODE else FileStore(config)\n",
    "    bls = store.backlinks(lockey) \n",
    "    return backlinkscomp(bls)"
   ]
  },
  {
   "cell_type": "code",
   "execution_count": null,
   "metadata": {},
   "outputs": [],
   "source": [
    "# getbacklinks.to(lockey='test')"
   ]
  },
  {
   "cell_type": "code",
   "execution_count": null,
   "metadata": {},
   "outputs": [],
   "source": [
    "#| export\n",
    "@rt\n",
    "def open(request: Request, session, file: str = \"\", title: Optional[str]=None):\n",
    "    # VIDEO_EXTS = (\".mp4\", \".webm\", \".ogg\", \".mov\", \".mkv\")\n",
    "    # AUDIO_EXTS = (\".mp3\", \".wav\", \".ogg\", \".m4a\", \".flac\")\n",
    "    # IMAGE_EXTS = (\".png\", \".jpg\", \".jpeg\", \".gif\", \".svg\", \".webp\")\n",
    "    # TEXTLIKE_EXTS = (\".md\", \".qmd\", \".canvas\", \".base\")\n",
    "    \n",
    "    # Simple check: if it's HTMX, return HTML; otherwise return raw file\n",
    "    is_htmx = request.headers.get('HX-Request')\n",
    "    \n",
    "    store = DBStore(config) if config.ENABLE_DB_MODE else FileStore(config)\n",
    "    out = store.query_file(file)\n",
    "    if out['content'] is None: return Div(f\"Path not found: {urllib.parse.unquote(file)}\")\n",
    "\n",
    "    # If it's a directory → list contents\n",
    "    if out['is_folder']:\n",
    "        comp = Div(\n",
    "            H2(f\"Listing for {out['title']}\"), \n",
    "            LinksComp(out['content'])\n",
    "        )\n",
    "        return ifhtmx(request, comp)\n",
    "        \n",
    "    elif out['response_type'] == ResponseTypes.html:\n",
    "        html = out['content']\n",
    "        session['obsidian_url'] = out['obsidian_url']\n",
    "        session['lockey'] = out['lockey']\n",
    "        print(out['backlinks'])\n",
    "        return ifhtmx(\n",
    "            request,\n",
    "            Fragment(\n",
    "                Container(\n",
    "                    H1(out['title'], cls='uk-h1 text-4xl font-bold mt-12 mb-6'),\n",
    "                    Card(NotStr(apply_classes(html))),\n",
    "                    Hidden(id='current-lockey', value=out['lockey'], hx_swap_oob='true', name='current-lockey'),\n",
    "                ), \n",
    "                Div(id=\"backlink_trigger\",\n",
    "                    hx_get=MountPaths.getbacklinks.to(lockey=out['lockey']),\n",
    "                    hx_target=\"#backlink_list\",\n",
    "                    hx_swap=None,\n",
    "                    hx_trigger=\"load\",\n",
    "                    style=\"display:none\")\n",
    "        # backlinkscomp(out['backlinks'])\n",
    "            )\n",
    "\n",
    "        )\n",
    "    elif out['response_type'] == ResponseTypes.file:\n",
    "        file = out['content']\n",
    "        return FileResponse(file)\n",
    "    elif out['response_type'] == ResponseTypes.blob:\n",
    "        blob_data = out['content']\n",
    "        if not isinstance(blob_data, (bytes, bytearray)):\n",
    "            blob_data = bytes(blob_data)\n",
    "\n",
    "        mime_type = guess_mime(f\"file.{out['extension']}\") or \"application/octet-stream\"\n",
    "        extension = out['extension'].lower()\n",
    "        \n",
    "        # If not HTMX, return raw file\n",
    "        if not is_htmx:\n",
    "            return StreamingResponse(\n",
    "                BytesIO(blob_data),\n",
    "                media_type=mime_type,\n",
    "                headers={\n",
    "                    \"Content-Disposition\": f'inline; filename=\"{(title or \"file\")}.{extension.lstrip(\".\")}\"',\n",
    "                    \"Cache-Control\": \"no-store\",\n",
    "                }\n",
    "            )\n",
    "        \n",
    "        # For HTMX requests, embed as base64 data URLs\n",
    "        import base64\n",
    "        b64_data = base64.b64encode(blob_data).decode('utf-8')\n",
    "        data_url = f\"data:{mime_type};base64,{b64_data}\"\n",
    "        \n",
    "        # Check file type and return appropriate HTML\n",
    "        if extension in ExtensionTypes.IMAGE_EXTS:\n",
    "            return ifhtmx(\n",
    "                request,\n",
    "                Container(\n",
    "                    H1(out['title'] or title or \"Image\", cls='uk-h1 text-4xl font-bold mt-12 mb-6'),\n",
    "                    Card(\n",
    "                        Img(src=data_url, alt=out['title'] or title or \"Image\", \n",
    "                            style=\"max-width: 100%; height: auto;\",\n",
    "                            cls=\"uk-responsive-width\")\n",
    "                    )\n",
    "                )\n",
    "            )\n",
    "        elif extension in ExtensionTypes.VIDEO_EXTS:\n",
    "            return ifhtmx(\n",
    "                request,\n",
    "                Container(\n",
    "                    H1(out['title'] or title or \"Video\", cls='uk-h1 text-4xl font-bold mt-12 mb-6'),\n",
    "                    Card(\n",
    "                        Video(\n",
    "                            src=data_url,\n",
    "                            controls=True,\n",
    "                            style=\"max-width: 100%; height: auto;\"\n",
    "                        )\n",
    "                    )\n",
    "                )\n",
    "            )\n",
    "        elif extension in ExtensionTypes.AUDIO_EXTS:\n",
    "            return ifhtmx(\n",
    "                request,\n",
    "                Container(\n",
    "                    H1(out['title'] or title or \"Audio\", cls='uk-h1 text-4xl font-bold mt-12 mb-6'),\n",
    "                    Card(\n",
    "                        Audio(\n",
    "                            src=data_url,\n",
    "                            controls=True\n",
    "                        )\n",
    "                    )\n",
    "                )\n",
    "            )\n",
    "        else:\n",
    "            # For other file types, return as download/stream\n",
    "            return StreamingResponse(\n",
    "                BytesIO(blob_data),\n",
    "                media_type=mime_type,\n",
    "                headers={\n",
    "                    \"Content-Disposition\": f'inline; filename=\"{(title or \"file\")}.{extension.lstrip(\".\")}\"',\n",
    "                    \"Cache-Control\": \"no-store\",\n",
    "                }\n",
    "            )\n",
    "    else:\n",
    "        return ifhtmx(request, Div(\"No Response\"))"
   ]
  },
  {
   "cell_type": "code",
   "execution_count": null,
   "metadata": {},
   "outputs": [],
   "source": [
    "#| export\n",
    "def iter_file(path, chunk_size=8192):\n",
    "    with open(path, \"rb\") as f:\n",
    "        while chunk := f.read(chunk_size):\n",
    "            yield chunk"
   ]
  },
  {
   "cell_type": "code",
   "execution_count": null,
   "metadata": {},
   "outputs": [
    {
     "data": {
      "text/plain": [
       "'audio/mp4'"
      ]
     },
     "execution_count": null,
     "metadata": {},
     "output_type": "execute_result"
    }
   ],
   "source": [
    "fname = 'Test.m4a'\n",
    "guess_mime(fname)\n",
    "# mime = mimetypes.guess_type(fname); mime[0]\n",
    "# FileResponse?"
   ]
  },
  {
   "cell_type": "code",
   "execution_count": null,
   "metadata": {},
   "outputs": [],
   "source": [
    "#| export\n",
    "def CollapsibleBlocks(title, comp):\n",
    "    return Div(\n",
    "            Input(type='checkbox'),\n",
    "            Div(title, cls='collapse-title font-semibold'),\n",
    "            Div(comp, cls='collapse-content text-sm'),\n",
    "            cls='collapse collapse-plus border'\n",
    "        )"
   ]
  },
  {
   "cell_type": "code",
   "execution_count": null,
   "metadata": {},
   "outputs": [
    {
     "data": {
      "text/plain": [
       "'<div class=\"collapse collapse-plus border\">\\n  <input type=\"checkbox\" class=\"uk-input \">\\n  <div class=\"collapse-title font-semibold\">T</div>\\n  <div class=\"collapse-content text-sm\">c</div>\\n</div>\\n'"
      ]
     },
     "execution_count": null,
     "metadata": {},
     "output_type": "execute_result"
    }
   ],
   "source": [
    "to_xml(CollapsibleBlocks('T', 'c'))"
   ]
  },
  {
   "cell_type": "code",
   "execution_count": null,
   "metadata": {},
   "outputs": [],
   "source": [
    "#| export\n",
    "\n",
    "@rt\n",
    "def embed(request: Request, file: str = \"\", ext: Optional[str] = None, title: Optional[str] = None):\n",
    "\n",
    "    store = DBStore(config) if config.ENABLE_DB_MODE else FileStore(config)\n",
    "    out = store.query_file(file)\n",
    "    if out[\"content\"] is None: return Div(f\"Path not found: {urllib.parse.unquote(file)}\")\n",
    "    if out[\"is_folder\"]:\n",
    "        comp = Div(\n",
    "            H2(f\"Listing for {out['title']}\"), \n",
    "            LinksComp(out['content'])\n",
    "        )\n",
    "        return ifhtmx(request, comp)\n",
    "            # items = []\n",
    "            # for p in out[\"content\"]:\n",
    "            #     name = p[\"fname\"]\n",
    "            #     href = p[\"url\"]\n",
    "            #     items.append(Li(A(name, href=href)))\n",
    "            # return ifhtmx(request, Div(f\"Listing for {out['title']}:\", Ul(*items)))\n",
    "    if ext in ExtensionTypes.IMAGE_EXTS:\n",
    "            headers = {\"Content-Type\": f\"image/{ext.lstrip('.')}\"}\n",
    "            if title: headers[\"X-Image-Title\"] = title\n",
    "            alt_text = pathlib.Path(file).stem\n",
    "            headers[\"X-Image-Alt\"] = alt_text\n",
    "            if out[\"response_type\"] == ResponseTypes.file: return FileResponse(out[\"content\"], headers=headers)\n",
    "            elif out[\"response_type\"] == ResponseTypes.blob: return StreamingResponse(BytesIO(out[\"content\"]), headers=headers)\n",
    "\n",
    "    if ext in ExtensionTypes.VIDEO_EXTS:\n",
    "            mime = guess_mime(file) or f\"video/{ext.lstrip('.')}\"\n",
    "            headers = {\"Accept-Ranges\": \"bytes\"}\n",
    "            if out[\"response_type\"] == ResponseTypes.file: return FileResponse(out[\"content\"], media_type=mime, headers=headers, filename=title or file)\n",
    "            elif out[\"response_type\"] == ResponseTypes.blob: return StreamingResponse(BytesIO(out[\"content\"]), media_type=mime, headers=headers)\n",
    "\n",
    "        # --- Audio files ---\n",
    "    if ext in ExtensionTypes.AUDIO_EXTS:\n",
    "        mime = guess_mime(file) or f\"audio/{ext.lstrip('.')}\"\n",
    "        headers = {\"Accept-Ranges\": \"bytes\"}\n",
    "        if out[\"response_type\"] == ResponseTypes.file: return FileResponse(out[\"content\"], media_type=mime, headers=headers, filename=title or file)\n",
    "        elif out[\"response_type\"] == ResponseTypes.blob: return StreamingResponse(BytesIO(out[\"content\"]), media_type=mime, headers=headers)\n",
    "\n",
    "    if out[\"response_type\"] == ResponseTypes.html:\n",
    "        return CollapsibleBlocks(\n",
    "            Div(out['title']),\n",
    "            NotStr(apply_classes(out[\"content\"])),\n",
    "        )\n",
    "\n",
    "    return ifhtmx(request, Div(\"Unsupported file type\"))"
   ]
  },
  {
   "cell_type": "code",
   "execution_count": null,
   "metadata": {},
   "outputs": [],
   "source": [
    "#| hide\n",
    "import nbdev; nbdev.nbdev_export()"
   ]
  },
  {
   "cell_type": "code",
   "execution_count": null,
   "metadata": {},
   "outputs": [],
   "source": []
  },
  {
   "cell_type": "code",
   "execution_count": null,
   "metadata": {},
   "outputs": [],
   "source": []
  },
  {
   "cell_type": "code",
   "execution_count": null,
   "metadata": {},
   "outputs": [],
   "source": []
  },
  {
   "cell_type": "code",
   "execution_count": null,
   "metadata": {},
   "outputs": [],
   "source": []
  },
  {
   "cell_type": "code",
   "execution_count": null,
   "metadata": {},
   "outputs": [],
   "source": []
  },
  {
   "cell_type": "code",
   "execution_count": null,
   "metadata": {},
   "outputs": [],
   "source": []
  },
  {
   "cell_type": "code",
   "execution_count": null,
   "metadata": {},
   "outputs": [],
   "source": []
  }
 ],
 "metadata": {
  "kernelspec": {
   "display_name": "python3",
   "language": "python",
   "name": "python3"
  }
 },
 "nbformat": 4,
 "nbformat_minor": 4
}
