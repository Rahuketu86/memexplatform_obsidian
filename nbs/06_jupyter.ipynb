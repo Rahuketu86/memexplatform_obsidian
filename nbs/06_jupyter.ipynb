{
 "cells": [
  {
   "cell_type": "markdown",
   "metadata": {},
   "source": [
    "# Jupyter\n",
    "\n",
    "> Obsidian App Jupyter Notebook Rendering support   `"
   ]
  },
  {
   "cell_type": "code",
   "execution_count": null,
   "metadata": {},
   "outputs": [],
   "source": [
    "#| default_exp jupyter"
   ]
  },
  {
   "cell_type": "code",
   "execution_count": null,
   "metadata": {},
   "outputs": [],
   "source": [
    "#| hide\n",
    "from nbdev.showdoc import *"
   ]
  },
  {
   "cell_type": "code",
   "execution_count": null,
   "metadata": {},
   "outputs": [],
   "source": [
    "#| export\n",
    "from memexplatform_obsidian.settings import ObsidianConfig\n",
    "from enum import Enum\n",
    "import urllib\n",
    "from fasthtml.common import *\n",
    "from monsterui.all import *\n",
    "from fasthtml.jupyter import *\n",
    "from collections.abc import Callable\n",
    "import json\n",
    "import pathlib\n",
    "from pathlib import Path\n",
    "from memexplatform_obsidian.commons import Page\n",
    "from datetime import datetime, timezone"
   ]
  },
  {
   "cell_type": "code",
   "execution_count": null,
   "metadata": {},
   "outputs": [],
   "source": [
    "# p = pathlib.Path(\".\")\n",
    "# p.read_json?"
   ]
  },
  {
   "cell_type": "code",
   "execution_count": null,
   "metadata": {},
   "outputs": [],
   "source": [
    "#| export\n",
    "def extract_cells(nb):\n",
    "    cells = []\n",
    "    for cell in nb.get(\"cells\", []):\n",
    "        ctype = cell.get(\"cell_type\")\n",
    "        source = \"\".join(cell.get(\"source\", []))\n",
    "        outputs = []\n",
    "        if ctype == \"code\":\n",
    "            # extract outputs already in the notebook\n",
    "            for out in cell.get(\"outputs\", []):\n",
    "                # handle different types\n",
    "                if out.get(\"output_type\") == \"stream\":\n",
    "                    outputs.append({\"type\": \"stream\", \"text\": \"\".join(out.get(\"text\", []))})\n",
    "                elif out.get(\"output_type\") == \"execute_result\":\n",
    "                    data = out.get(\"data\", {})\n",
    "                    # text/plain may be present\n",
    "                    text = data.get(\"text/plain\", \"\")\n",
    "                    outputs.append({\"type\": \"execute_result\", \"text\": text})\n",
    "                elif out.get(\"output_type\") == \"error\":\n",
    "                    tb = out.get(\"traceback\", [])\n",
    "                    outputs.append({\"type\": \"error\", \"text\": \"\\n\".join(tb)})\n",
    "        cells.append({\"cell_type\": ctype, \"source\": source, \"outputs\": outputs})\n",
    "    return cells"
   ]
  },
  {
   "cell_type": "code",
   "execution_count": null,
   "metadata": {},
   "outputs": [],
   "source": [
    "#| export\n",
    "_counter = 0\n",
    "def _gen_id(prefix=\"f\"):\n",
    "    global _counter\n",
    "    _counter += 1\n",
    "    return f\"{prefix}{_counter}\"\n",
    "\n",
    "def create_flippable_card(content, source_code, outputs=None, extra_cls=None):\n",
    "    \"\"\"\n",
    "    Create a card that shows `content` (front), `source_code` toggled on \"See Source\",\n",
    "    and optionally `outputs` toggled on \"See Output\".\n",
    "    \"\"\"\n",
    "    uid = _gen_id(\"card\")\n",
    "\n",
    "    # Button to toggle source code\n",
    "    btn_source = Button(\n",
    "        \"See Source\",\n",
    "        cls=ButtonT.primary,\n",
    "        **{\"data_uk_toggle\": f\"target: #{uid}-source\"}\n",
    "    )\n",
    "    # Hidden Div for source\n",
    "    source_div = Div(\n",
    "        Pre(Code(source_code, classes=\"hljs language-python\")),\n",
    "        id=f\"{uid}-source\",\n",
    "        hidden=True,\n",
    "        cls=\"mt-2 p-2 bg-gray-100 rounded\"\n",
    "    )\n",
    "\n",
    "    children = [btn_source, content, source_div]\n",
    "\n",
    "    if outputs:\n",
    "        btn_outputs = Button(\n",
    "            \"See Output\",\n",
    "            cls=ButtonT.secondary,\n",
    "            **{\"data_uk_toggle\": f\"target: #{uid}-output\"}\n",
    "        )\n",
    "        output_div = Div(\n",
    "            *[Pre(o) for o in outputs],\n",
    "            id=f\"{uid}-output\",\n",
    "            hidden=True,\n",
    "            cls=\"mt-2 p-2 bg-gray-100 rounded text-gray-800\"\n",
    "        )\n",
    "        children.insert(1, btn_outputs)  # place output button before content maybe\n",
    "        children.append(output_div)\n",
    "\n",
    "    card = Card(*children, cls=(\"my-6 \" + extra_cls) if extra_cls else \"my-6\")\n",
    "    return card"
   ]
  },
  {
   "cell_type": "code",
   "execution_count": null,
   "metadata": {},
   "outputs": [],
   "source": [
    "#| export\n",
    "class JupyterPage(Page):\n",
    "\n",
    "    def __init__(self, text, fpath=None, created_time=None, modified_time=None, file_size=None):\n",
    "        if isinstance(text, str):\n",
    "            try:\n",
    "                text = json.loads(text)\n",
    "            except Exception:\n",
    "                # fallback: treat it as error message\n",
    "                text = {\"cells\": [{\"cell_type\": \"markdown\", \"source\": text}]}\n",
    "        super().__init__(text, fpath, created_time, modified_time, file_size)\n",
    "\n",
    "    \n",
    "    @classmethod\n",
    "    def from_file_path(cls, file_path: Path):\n",
    "        text: str = None\n",
    "        file_path = pathlib.Path(file_path)\n",
    "        if not file_path.is_file():\n",
    "            # Handle cases where the path does not point to a regular file\n",
    "            if not file_path.exists():\n",
    "                text = f\"[Error: File not found at path: {file_path}]\"\n",
    "            else:  # Path exists but is not a file (e.g., a directory, or a special file)\n",
    "                text = f\"[Error: Path exists but is not a regular file: {file_path}]\"\n",
    "        else:\n",
    "            try:\n",
    "                text = file_path.read_json(encoding='utf-8')\n",
    "\n",
    "            except:\n",
    "                pass\n",
    "            s = file_path.stat(); s.st_size\n",
    "            created_time = datetime.fromtimestamp(s.st_ctime_ns / 1e9, tz=timezone.utc)\n",
    "            # mtime (last modification time in ns)\n",
    "            modified_time = datetime.fromtimestamp(s.st_mtime_ns / 1e9, tz=timezone.utc)\n",
    "            file_size = s.st_size\n",
    "        return cls(text=text, \n",
    "                   fpath=file_path, \n",
    "                   created_time=created_time, \n",
    "                   modified_time=modified_time, \n",
    "                   file_size=file_size)\n",
    "    @property\n",
    "    def ast(self):\n",
    "        return self._text\n",
    "\n",
    "    @property\n",
    "    def title(self):\n",
    "        return self._fpath.stem\n",
    "\n",
    "    @property\n",
    "    def links(self):\n",
    "        return []\n",
    "\n",
    "    @property\n",
    "    def html(self):\n",
    "        cells = extract_cells(self._text)\n",
    "        blocks = []\n",
    "        for cell in cells:\n",
    "            if cell[\"cell_type\"] == \"markdown\":\n",
    "                if cell[\"source\"].strip():\n",
    "                    md_html = render_md(cell[\"source\"])\n",
    "                    blocks.append(Card(\n",
    "                        Safe(md_html),\n",
    "                        cls=\"my-4 shadow\"\n",
    "                    ))\n",
    "            elif cell[\"cell_type\"] == \"code\":\n",
    "                if cell[\"source\"].strip():\n",
    "                    # content: show code front\n",
    "                    content = Pre(Code(cell[\"source\"], classes=\"hljs language-python\"))\n",
    "                    # prepare outputs list of plain strings\n",
    "                    outs = [o[\"text\"] for o in cell.get(\"outputs\", []) if o.get(\"text\")]\n",
    "                    blocks.append(\n",
    "                        create_flippable_card(\n",
    "                            content=content,\n",
    "                            source_code=cell[\"source\"],\n",
    "                            outputs=outs,           # now allowed\n",
    "                            extra_cls=\"border border-gray-300\"\n",
    "                        )\n",
    "                    )\n",
    "        ft = Container(*blocks, cls=\"p-6 space-y-6\")\n",
    "        return to_xml(ft)"
   ]
  },
  {
   "cell_type": "code",
   "execution_count": null,
   "metadata": {},
   "outputs": [
    {
     "data": {
      "text/plain": [
       "'<div class=\"uk-container p-6 space-y-6\">\\n  <div class=\"uk-card my-4 shadow\">\\n    <div class=\"uk-card-body space-y-6\"><p class=\"text-lg leading-relaxed mb-6\">Probability is defined as a fraction of a finite set. The word \"random\" in \"random probability\" means everyone has the same chance of being chosen, but the chance is probably close to 2%.</p>\\n</div>\\n  </div>\\n  <div class=\"uk-card my-6 border border-gray-300\">\\n    <div class=\"uk-card-body space-y-6\">\\n<button data-uk-toggle=\"target: #card1-source\" type=\"submit\" class=\"uk-btn uk-btn-primary\">See Source</button><pre><code classes=\"hljs language-python\">import pandas as pd\\nimport numpy as np\\nimport matplotlib.pyplot as plt\\nimport random</code></pre>      <div hidden id=\"card1-source\" class=\"mt-2 p-2 bg-gray-100 rounded\">\\n<pre><code classes=\"hljs language-python\">import pandas as pd\\nimport numpy as np\\nimport matplotlib.pyplot as plt\\nimport random</code></pre>      </div>\\n    </div>\\n  </div>\\n  <div class=\"uk-card my-6 border border-gray-300\">\\n    <div class=\"uk-card-body space-y-6\">\\n<button data-uk-toggle=\"target: #card2-source\" type=\"submit\" class=\"uk-btn uk-btn-primary\">See Source</button><button data-uk-toggle=\"target: #card2-output\" type=\"submit\" class=\"uk-btn uk-btn-secondary\">See Output</button><pre><code classes=\"hljs language-python\">df = pd.read_csv(&#x27;../_data/gss_bayes.csv&#x27;); df.head()</code></pre>      <div hidden id=\"card2-source\" class=\"mt-2 p-2 bg-gray-100 rounded\">\\n<pre><code classes=\"hljs language-python\">df = pd.read_csv(&#x27;../_data/gss_bayes.csv&#x27;); df.head()</code></pre>      </div>\\n      <div hidden id=\"card2-output\" class=\"mt-2 p-2 bg-gray-100 rounded text-gray-800\">\\n<pre>[\\'   caseid  year   age  sex  polviews  partyid  indus10\\\\n\\', \\'0       1  1974  21.0    1       4.0      2.0   4970.0\\\\n\\', \\'1       2  1974  41.0    1       5.0      0.0   9160.0\\\\n\\', \\'2       5  1974  58.0    2       6.0      1.0   2670.0\\\\n\\', \\'3       6  1974  30.0    1       5.0      4.0   6870.0\\\\n\\', \\'4       7  1974  48.0    1       5.0      4.0   7860.0\\']</pre>      </div>\\n    </div>\\n  </div>\\n  <div class=\"uk-card my-4 shadow\">\\n    <div class=\"uk-card-body space-y-6\"><div><h2 class=\"uk-h2 text-3xl font-bold mt-10 mb-5\">Data Key</h2>\\n<ul class=\"uk-list uk-list-bullet space-y-2 mb-6 ml-6 text-lg\">\\n<li class=\"leading-relaxed\">\\n<p class=\"text-lg leading-relaxed mb-6\">caseid: Respondent identifier.</p>\\n</li>\\n<li class=\"leading-relaxed\">\\n<p class=\"text-lg leading-relaxed mb-6\">year: Year when the respondent was surveyed.</p>\\n</li>\\n<li class=\"leading-relaxed\">\\n<p class=\"text-lg leading-relaxed mb-6\">age: Respondent’s age when surveyed.</p>\\n</li>\\n<li class=\"leading-relaxed\">\\n<p class=\"text-lg leading-relaxed mb-6\">sex: Male or female.</p>\\n</li>\\n<li class=\"leading-relaxed\">\\n<p class=\"text-lg leading-relaxed mb-6\">polviews: Political views on a range from liberal to conservative.</p>\\n</li>\\n<li class=\"leading-relaxed\">\\n<p class=\"text-lg leading-relaxed mb-6\">partyid: Political party affiliation, Democrat, Independent, or Republican.</p>\\n</li>\\n<li class=\"leading-relaxed\">\\n<p class=\"text-lg leading-relaxed mb-6\">indus10: Code for the industry the respondent works in</p>\\n</li>\\n</ul>\\n<p class=\"text-lg leading-relaxed mb-6\">“Banking and related activities” is 6870</p>\\n<p class=\"text-lg leading-relaxed mb-6\">Political views :-</p>\\n<ul class=\"uk-list uk-list-bullet space-y-2 mb-6 ml-6 text-lg\">\\n<li class=\"leading-relaxed\">1\\tExtremely liberal</li>\\n<li class=\"leading-relaxed\">2\\tLiberal</li>\\n<li class=\"leading-relaxed\">3\\tSlightly liberal</li>\\n<li class=\"leading-relaxed\">4\\tModerate</li>\\n<li class=\"leading-relaxed\">5\\tSlightly conservative</li>\\n<li class=\"leading-relaxed\">6\\tConservative</li>\\n<li class=\"leading-relaxed\">7\\tExtremely conservative</li>\\n</ul>\\n<p class=\"text-lg leading-relaxed mb-6\">Party id</p>\\n<ul class=\"uk-list uk-list-bullet space-y-2 mb-6 ml-6 text-lg\">\\n<li class=\"leading-relaxed\">0 Strong democrat</li>\\n<li class=\"leading-relaxed\">1 Not strong democrat</li>\\n<li class=\"leading-relaxed\">2 Independent, near democrat</li>\\n<li class=\"leading-relaxed\">3 Independent</li>\\n<li class=\"leading-relaxed\">4 Independent, near republican</li>\\n<li class=\"leading-relaxed\">5 Not strong republican</li>\\n<li class=\"leading-relaxed\">6 Strong republican</li>\\n<li class=\"leading-relaxed\">7 Other party</li>\\n</ul>\\n</div></div>\\n  </div>\\n  <div class=\"uk-card my-6 border border-gray-300\">\\n    <div class=\"uk-card-body space-y-6\">\\n<button data-uk-toggle=\"target: #card3-source\" type=\"submit\" class=\"uk-btn uk-btn-primary\">See Source</button><button data-uk-toggle=\"target: #card3-output\" type=\"submit\" class=\"uk-btn uk-btn-secondary\">See Output</button><pre><code classes=\"hljs language-python\">banker = (df.indus10 == 6870);  np.round(banker.mean()*100, 1), banker.sum() #banker,\\nfemale = (df.sex == 2); np.round(female.mean()*100, 1), female.sum() #female,\\nliberal = (df.polviews &lt;= 3); np.round(liberal.mean()*100, 1), liberal.sum() #liberal,\\nconservative = (df.polviews &gt;= 5); np.round(conservative.mean()*100, 1), conservative.sum() #conservative,\\ndemocrat = (df.partyid &lt;=1 ); np.round(democrat.mean()*100, 1), democrat.sum() #democrat,\\n\\ndef prob(A):return A.mean()\\n\\nprob(banker), prob(female), prob(liberal), prob(democrat)\\n</code></pre>      <div hidden id=\"card3-source\" class=\"mt-2 p-2 bg-gray-100 rounded\">\\n<pre><code classes=\"hljs language-python\">banker = (df.indus10 == 6870);  np.round(banker.mean()*100, 1), banker.sum() #banker,\\nfemale = (df.sex == 2); np.round(female.mean()*100, 1), female.sum() #female,\\nliberal = (df.polviews &lt;= 3); np.round(liberal.mean()*100, 1), liberal.sum() #liberal,\\nconservative = (df.polviews &gt;= 5); np.round(conservative.mean()*100, 1), conservative.sum() #conservative,\\ndemocrat = (df.partyid &lt;=1 ); np.round(democrat.mean()*100, 1), democrat.sum() #democrat,\\n\\ndef prob(A):return A.mean()\\n\\nprob(banker), prob(female), prob(liberal), prob(democrat)\\n</code></pre>      </div>\\n      <div hidden id=\"card3-output\" class=\"mt-2 p-2 bg-gray-100 rounded text-gray-800\">\\n<pre>[\\'(np.float64(0.014769730168391155),\\\\n\\', \\' np.float64(0.5378575776019476),\\\\n\\', \\' np.float64(0.27374721038750255),\\\\n\\', \\' np.float64(0.3662609048488537))\\']</pre>      </div>\\n    </div>\\n  </div>\\n  <div class=\"uk-card my-4 shadow\">\\n    <div class=\"uk-card-body space-y-6\"><div><h1 class=\"uk-h1 text-4xl font-bold mt-12 mb-6\">Conjuction</h1>\\n<blockquote class=\"uk-blockquote pl-4 border-l-4 border-primary italic mb-6\">\\n<p class=\"text-lg leading-relaxed mb-6\">“Conjunction” is another name for the logical and operation. If you have two propositions, A and B, the conjunction A and B is True if both A and B are True, and False otherwise</p>\\n</blockquote>\\n</div></div>\\n  </div>\\n  <div class=\"uk-card my-6 border border-gray-300\">\\n    <div class=\"uk-card-body space-y-6\">\\n<button data-uk-toggle=\"target: #card4-source\" type=\"submit\" class=\"uk-btn uk-btn-primary\">See Source</button><button data-uk-toggle=\"target: #card4-output\" type=\"submit\" class=\"uk-btn uk-btn-secondary\">See Output</button><pre><code classes=\"hljs language-python\">prob(banker &amp; democrat), prob(democrat &amp; banker) # Commutative</code></pre>      <div hidden id=\"card4-source\" class=\"mt-2 p-2 bg-gray-100 rounded\">\\n<pre><code classes=\"hljs language-python\">prob(banker &amp; democrat), prob(democrat &amp; banker) # Commutative</code></pre>      </div>\\n      <div hidden id=\"card4-output\" class=\"mt-2 p-2 bg-gray-100 rounded text-gray-800\">\\n<pre>[\\'(np.float64(0.004686548995739501), np.float64(0.004686548995739501))\\']</pre>      </div>\\n    </div>\\n  </div>\\n  <div class=\"uk-card my-4 shadow\">\\n    <div class=\"uk-card-body space-y-6\"><div><h1 class=\"uk-h1 text-4xl font-bold mt-12 mb-6\">Conditional Probability</h1>\\n<blockquote class=\"uk-blockquote pl-4 border-l-4 border-primary italic mb-6\">\\n<p class=\"text-lg leading-relaxed mb-6\">Probability that depends on a condition\\nIt is calculated as a 2 step process</p>\\n<ul class=\"uk-list uk-list-bullet space-y-2 mb-6 ml-6 text-lg\">\\n<li class=\"leading-relaxed\">Select all who are liberal</li>\\n<li class=\"leading-relaxed\">Compute fraction that are liberal</li>\\n</ul>\\n</blockquote>\\n</div></div>\\n  </div>\\n  <div class=\"uk-card my-6 border border-gray-300\">\\n    <div class=\"uk-card-body space-y-6\">\\n<button data-uk-toggle=\"target: #card5-source\" type=\"submit\" class=\"uk-btn uk-btn-primary\">See Source</button><button data-uk-toggle=\"target: #card5-output\" type=\"submit\" class=\"uk-btn uk-btn-secondary\">See Output</button><pre><code classes=\"hljs language-python\">selected = democrat[liberal]; prob(selected), prob(democrat &amp; liberal) # not same we are taking fraction of a subset when calculating condidtional probabilities</code></pre>      <div hidden id=\"card5-source\" class=\"mt-2 p-2 bg-gray-100 rounded\">\\n<pre><code classes=\"hljs language-python\">selected = democrat[liberal]; prob(selected), prob(democrat &amp; liberal) # not same we are taking fraction of a subset when calculating condidtional probabilities</code></pre>      </div>\\n      <div hidden id=\"card5-output\" class=\"mt-2 p-2 bg-gray-100 rounded text-gray-800\">\\n<pre>[\\'(np.float64(0.5206403320240125), np.float64(0.1425238385067965))\\']</pre>      </div>\\n    </div>\\n  </div>\\n  <div class=\"uk-card my-4 shadow\">\\n    <div class=\"uk-card-body space-y-6\"><blockquote class=\"uk-blockquote pl-4 border-l-4 border-primary italic mb-6\">\\n<p class=\"text-lg leading-relaxed mb-6\">Let’s try the second example, “What is the probability that a respondent is female, given that they are a banker?” We can interpret that to mean, “Of all respondents who are bankers, what fraction are female?”</p>\\n</blockquote>\\n</div>\\n  </div>\\n  <div class=\"uk-card my-6 border border-gray-300\">\\n    <div class=\"uk-card-body space-y-6\">\\n<button data-uk-toggle=\"target: #card6-source\" type=\"submit\" class=\"uk-btn uk-btn-primary\">See Source</button><button data-uk-toggle=\"target: #card6-output\" type=\"submit\" class=\"uk-btn uk-btn-secondary\">See Output</button><pre><code classes=\"hljs language-python\">selected = female[banker]; prob(selected), prob(female &amp; banker) # same as above</code></pre>      <div hidden id=\"card6-source\" class=\"mt-2 p-2 bg-gray-100 rounded\">\\n<pre><code classes=\"hljs language-python\">selected = female[banker]; prob(selected), prob(female &amp; banker) # same as above</code></pre>      </div>\\n      <div hidden id=\"card6-output\" class=\"mt-2 p-2 bg-gray-100 rounded text-gray-800\">\\n<pre>[\\'(np.float64(0.7706043956043956), np.float64(0.011381618989653074))\\']</pre>      </div>\\n    </div>\\n  </div>\\n  <div class=\"uk-card my-4 shadow\">\\n    <div class=\"uk-card-body space-y-6\"><blockquote class=\"uk-blockquote pl-4 border-l-4 border-primary italic mb-6\">\\n<p class=\"text-lg leading-relaxed mb-6\">Define conditional to take two Boolean series, proposition and given, and compute the conditional probability of proposition conditioned on given</p>\\n</blockquote>\\n</div>\\n  </div>\\n  <div class=\"uk-card my-6 border border-gray-300\">\\n    <div class=\"uk-card-body space-y-6\">\\n<button data-uk-toggle=\"target: #card7-source\" type=\"submit\" class=\"uk-btn uk-btn-primary\">See Source</button><pre><code classes=\"hljs language-python\">def conditional(proposition, given):\\n    &quot;&quot;&quot;Probability of A conditioned on given.&quot;&quot;&quot;\\n    return prob(proposition[given])\\n</code></pre>      <div hidden id=\"card7-source\" class=\"mt-2 p-2 bg-gray-100 rounded\">\\n<pre><code classes=\"hljs language-python\">def conditional(proposition, given):\\n    &quot;&quot;&quot;Probability of A conditioned on given.&quot;&quot;&quot;\\n    return prob(proposition[given])\\n</code></pre>      </div>\\n    </div>\\n  </div>\\n  <div class=\"uk-card my-6 border border-gray-300\">\\n    <div class=\"uk-card-body space-y-6\">\\n<button data-uk-toggle=\"target: #card8-source\" type=\"submit\" class=\"uk-btn uk-btn-primary\">See Source</button><button data-uk-toggle=\"target: #card8-output\" type=\"submit\" class=\"uk-btn uk-btn-secondary\">See Output</button><pre><code classes=\"hljs language-python\">conditional(liberal, given=female) # To be read as About 28% of female respondents are liberal.</code></pre>      <div hidden id=\"card8-source\" class=\"mt-2 p-2 bg-gray-100 rounded\">\\n<pre><code classes=\"hljs language-python\">conditional(liberal, given=female) # To be read as About 28% of female respondents are liberal.</code></pre>      </div>\\n      <div hidden id=\"card8-output\" class=\"mt-2 p-2 bg-gray-100 rounded text-gray-800\">\\n<pre>[\\'np.float64(0.27581004111500884)\\']</pre>      </div>\\n    </div>\\n  </div>\\n  <div class=\"uk-card my-4 shadow\">\\n    <div class=\"uk-card-body space-y-6\"><h2 class=\"uk-h2 text-3xl font-bold mt-10 mb-5\">Conditional probability is not commutative</h2>\\n</div>\\n  </div>\\n  <div class=\"uk-card my-6 border border-gray-300\">\\n    <div class=\"uk-card-body space-y-6\">\\n<button data-uk-toggle=\"target: #card9-source\" type=\"submit\" class=\"uk-btn uk-btn-primary\">See Source</button><button data-uk-toggle=\"target: #card9-output\" type=\"submit\" class=\"uk-btn uk-btn-secondary\">See Output</button><pre><code classes=\"hljs language-python\">conditional(female, given=banker) </code></pre>      <div hidden id=\"card9-source\" class=\"mt-2 p-2 bg-gray-100 rounded\">\\n<pre><code classes=\"hljs language-python\">conditional(female, given=banker) </code></pre>      </div>\\n      <div hidden id=\"card9-output\" class=\"mt-2 p-2 bg-gray-100 rounded text-gray-800\">\\n<pre>[\\'np.float64(0.7706043956043956)\\']</pre>      </div>\\n    </div>\\n  </div>\\n  <div class=\"uk-card my-4 shadow\">\\n    <div class=\"uk-card-body space-y-6\"><blockquote class=\"uk-blockquote pl-4 border-l-4 border-primary italic mb-6\">\\n<p class=\"text-lg leading-relaxed mb-6\">To be read as About 77% of bankers are female</p>\\n</blockquote>\\n</div>\\n  </div>\\n  <div class=\"uk-card my-6 border border-gray-300\">\\n    <div class=\"uk-card-body space-y-6\">\\n<button data-uk-toggle=\"target: #card10-source\" type=\"submit\" class=\"uk-btn uk-btn-primary\">See Source</button><button data-uk-toggle=\"target: #card10-output\" type=\"submit\" class=\"uk-btn uk-btn-secondary\">See Output</button><pre><code classes=\"hljs language-python\">conditional(banker, given=female) </code></pre>      <div hidden id=\"card10-source\" class=\"mt-2 p-2 bg-gray-100 rounded\">\\n<pre><code classes=\"hljs language-python\">conditional(banker, given=female) </code></pre>      </div>\\n      <div hidden id=\"card10-output\" class=\"mt-2 p-2 bg-gray-100 rounded text-gray-800\">\\n<pre>[\\'np.float64(0.02116102749801969)\\']</pre>      </div>\\n    </div>\\n  </div>\\n  <div class=\"uk-card my-4 shadow\">\\n    <div class=\"uk-card-body space-y-6\"><blockquote class=\"uk-blockquote pl-4 border-l-4 border-primary italic mb-6\">\\n<p class=\"text-lg leading-relaxed mb-6\">About 2% of females are banker</p>\\n</blockquote>\\n</div>\\n  </div>\\n  <div class=\"uk-card my-4 shadow\">\\n    <div class=\"uk-card-body space-y-6\"><h2 class=\"uk-h2 text-3xl font-bold mt-10 mb-5\">Condition and Conjuction</h2>\\n</div>\\n  </div>\\n  <div class=\"uk-card my-6 border border-gray-300\">\\n    <div class=\"uk-card-body space-y-6\">\\n<button data-uk-toggle=\"target: #card11-source\" type=\"submit\" class=\"uk-btn uk-btn-primary\">See Source</button><button data-uk-toggle=\"target: #card11-output\" type=\"submit\" class=\"uk-btn uk-btn-secondary\">See Output</button><pre><code classes=\"hljs language-python\">conditional(female, given=liberal &amp; democrat)</code></pre>      <div hidden id=\"card11-source\" class=\"mt-2 p-2 bg-gray-100 rounded\">\\n<pre><code classes=\"hljs language-python\">conditional(female, given=liberal &amp; democrat)</code></pre>      </div>\\n      <div hidden id=\"card11-output\" class=\"mt-2 p-2 bg-gray-100 rounded text-gray-800\">\\n<pre>[\\'np.float64(0.576085409252669)\\']</pre>      </div>\\n    </div>\\n  </div>\\n  <div class=\"uk-card my-4 shadow\">\\n    <div class=\"uk-card-body space-y-6\"><blockquote class=\"uk-blockquote pl-4 border-l-4 border-primary italic mb-6\">\\n<p class=\"text-lg leading-relaxed mb-6\">Probability a respondent is female given they are liberal and democrat</p>\\n</blockquote>\\n</div>\\n  </div>\\n  <div class=\"uk-card my-6 border border-gray-300\">\\n    <div class=\"uk-card-body space-y-6\">\\n<button data-uk-toggle=\"target: #card12-source\" type=\"submit\" class=\"uk-btn uk-btn-primary\">See Source</button><button data-uk-toggle=\"target: #card12-output\" type=\"submit\" class=\"uk-btn uk-btn-secondary\">See Output</button><pre><code classes=\"hljs language-python\">print(&quot;Hello, world&quot;)</code></pre>      <div hidden id=\"card12-source\" class=\"mt-2 p-2 bg-gray-100 rounded\">\\n<pre><code classes=\"hljs language-python\">print(&quot;Hello, world&quot;)</code></pre>      </div>\\n      <div hidden id=\"card12-output\" class=\"mt-2 p-2 bg-gray-100 rounded text-gray-800\">\\n<pre>Hello, world\\n</pre>      </div>\\n    </div>\\n  </div>\\n</div>\\n'"
      ]
     },
     "execution_count": null,
     "metadata": {},
     "output_type": "execute_result"
    }
   ],
   "source": [
    "#| notest\n",
    "path = '/Users/rahul1.saraf/rahuketu/programming/notesobs/pages/ThinkBayes.01_Probability.ipynb'\n",
    "# nb_content = json.loads(Path(path).read_text()); nb_content\n",
    "page = JupyterPage.from_file_path(path); page.html"
   ]
  },
  {
   "cell_type": "code",
   "execution_count": null,
   "metadata": {},
   "outputs": [],
   "source": [
    "# render_nb(path)"
   ]
  },
  {
   "cell_type": "code",
   "execution_count": null,
   "metadata": {},
   "outputs": [],
   "source": [
    "#| hide\n",
    "import nbdev; nbdev.nbdev_export()"
   ]
  },
  {
   "cell_type": "code",
   "execution_count": null,
   "metadata": {},
   "outputs": [],
   "source": []
  },
  {
   "cell_type": "code",
   "execution_count": null,
   "metadata": {},
   "outputs": [],
   "source": []
  },
  {
   "cell_type": "code",
   "execution_count": null,
   "metadata": {},
   "outputs": [],
   "source": [
    "\n"
   ]
  },
  {
   "cell_type": "code",
   "execution_count": null,
   "metadata": {},
   "outputs": [],
   "source": []
  }
 ],
 "metadata": {
  "kernelspec": {
   "display_name": "python3",
   "language": "python",
   "name": "python3"
  }
 },
 "nbformat": 4,
 "nbformat_minor": 4
}
