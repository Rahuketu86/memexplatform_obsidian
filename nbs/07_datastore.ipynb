{
 "cells": [
  {
   "cell_type": "markdown",
   "id": "d69fc3af",
   "metadata": {},
   "source": [
    "# datastore\n",
    "\n",
    "> Datastore for obsidian notes"
   ]
  },
  {
   "cell_type": "code",
   "execution_count": null,
   "id": "a5dcb075",
   "metadata": {},
   "outputs": [],
   "source": [
    "#| default_exp datastore"
   ]
  },
  {
   "cell_type": "code",
   "execution_count": null,
   "id": "34106961",
   "metadata": {},
   "outputs": [],
   "source": [
    "#| hide\n",
    "from nbdev.showdoc import *"
   ]
  },
  {
   "cell_type": "code",
   "execution_count": null,
   "id": "76325372",
   "metadata": {},
   "outputs": [],
   "source": [
    "\n",
    "#| export\n",
    "from dataclasses import dataclass\n",
    "from typing import List, Dict, Optional\n",
    "from fastlite import Database, diagram\n",
    "from memexplatform_obsidian.commons import config\n",
    "import pathlib\n",
    "from pathlib import Path\n",
    "from datetime import datetime, timezone\n",
    "from memexplatform_obsidian.mdmanager import ObsidianPage, resolve_note_path, Link, RawText, AnyLink, TagLink, get_subdirs\n",
    "import uuid\n",
    "from memexplatform_obsidian.commons import MountPaths"
   ]
  },
  {
   "cell_type": "code",
   "execution_count": null,
   "id": "ed88be81",
   "metadata": {},
   "outputs": [],
   "source": [
    "#| export\n",
    "@dataclass\n",
    "class Node:\n",
    "    lockey: str\n",
    "    created_time: float\n",
    "    modified_time: float\n",
    "    file_size: int\n",
    "    fname: str\n",
    "    text: str\n",
    "    blob: bytes\n",
    "    ext: str\n",
    "    is_folder: bool\n",
    "    url: str\n",
    "    obsidian_url: Optional[str]\n",
    "    checksum: bytes\n",
    "\n",
    "@dataclass\n",
    "class Links:\n",
    "    id: str\n",
    "    lockey: str\n",
    "    link: str\n",
    "    linked_lockey: str\n",
    "    link_type: str\n",
    "    title: str\n",
    "    is_internal: bool\n",
    "\n",
    "@dataclass\n",
    "class Properties:\n",
    "    id: str\n",
    "    lockey: str\n",
    "    name: str\n",
    "    type: str\n",
    "    value: str\n"
   ]
  },
  {
   "cell_type": "code",
   "execution_count": null,
   "id": "56f72bd5",
   "metadata": {},
   "outputs": [],
   "source": [
    "#| export\n",
    "def update_node(page, file_path):\n",
    "    node_text_content = \"\"\n",
    "    node_blob_content = b\"\"\n",
    "    if file_path.is_file():\n",
    "        node_text_content = page.text\n",
    "        node_blob_content = page._fpath.read_bytes()\n",
    "    \n",
    "    # Get stat info if not already populated by ObsidianPage (due to its internal logic\n",
    "    # where created_time, modified_time, file_size are set to None for regular files).\n",
    "    current_created_time = page.created_time\n",
    "    current_modified_time = page.modified_time\n",
    "    current_file_size = page.file_size\n",
    "    # print(node_text_content, node_blob_content)\n",
    "    # print(node_text_content)\n",
    "    if page._fpath.is_file():\n",
    "        try:\n",
    "            s = page._fpath.stat()\n",
    "            if current_created_time is None:\n",
    "                current_created_time = datetime.fromtimestamp(s.st_ctime_ns / 1e9, tz=timezone.utc)\n",
    "            if current_modified_time is None:\n",
    "                current_modified_time = datetime.fromtimestamp(s.st_mtime_ns / 1e9, tz=timezone.utc)\n",
    "            if current_file_size is None:\n",
    "                current_file_size = s.st_size\n",
    "        except Exception as e:\n",
    "            print(f\"Warning: Could not get stat info for {file_path}: {e}\")\n",
    "            pass # Keep as None or default if stat fails\n",
    "\n",
    "    # Convert datetime objects to float timestamps, providing default 0.0 if None\n",
    "    created_time_ts = current_created_time.timestamp() if current_created_time else 0.0\n",
    "    modified_time_ts = current_modified_time.timestamp() if current_modified_time else 0.0\n",
    "    file_size_val = current_file_size if current_file_size is not None else 0\n",
    "\n",
    "    # Ensure extension is a string, default to empty string if None\n",
    "    node_ext = page.file_extension if page.file_extension else \"\"\n",
    "\n",
    "    # Construct the Node object\n",
    "    node = Node(\n",
    "        lockey=page.lockey,\n",
    "        created_time=created_time_ts,\n",
    "        modified_time=modified_time_ts,\n",
    "        file_size=file_size_val,\n",
    "        fname=file_path.name,\n",
    "        text=node_text_content,\n",
    "        blob=node_blob_content,\n",
    "        ext=node_ext,\n",
    "        is_folder=file_path.is_dir(), # True if it's a directory, False otherwise\n",
    "        url=page.app_url,\n",
    "        obsidian_url=str(page.obsidian_url) if page.obsidian_url else None,\n",
    "        checksum=page.checksum\n",
    "    )\n",
    "\n",
    "    return node"
   ]
  },
  {
   "cell_type": "code",
   "execution_count": null,
   "id": "bd284649",
   "metadata": {},
   "outputs": [
    {
     "name": "stdout",
     "output_type": "stream",
     "text": [
      "\u001b[0;31mSignature:\u001b[0m \u001b[0mresolve_note_path\u001b[0m\u001b[0;34m(\u001b[0m\u001b[0mvault\u001b[0m\u001b[0;34m:\u001b[0m \u001b[0mpathlib\u001b[0m\u001b[0;34m.\u001b[0m\u001b[0mPath\u001b[0m\u001b[0;34m,\u001b[0m \u001b[0mfile\u001b[0m\u001b[0;34m:\u001b[0m \u001b[0mstr\u001b[0m\u001b[0;34m)\u001b[0m \u001b[0;34m->\u001b[0m \u001b[0mpathlib\u001b[0m\u001b[0;34m.\u001b[0m\u001b[0mPath\u001b[0m \u001b[0;34m|\u001b[0m \u001b[0;32mNone\u001b[0m\u001b[0;34m\u001b[0m\u001b[0;34m\u001b[0m\u001b[0m\n",
      "\u001b[0;31mDocstring:\u001b[0m <no docstring>\n",
      "\u001b[0;31mFile:\u001b[0m      ~/rahuketu/programming/gitea/memexplatform_obsidian/memexplatform_obsidian/mdmanager.py\n",
      "\u001b[0;31mType:\u001b[0m      function"
     ]
    }
   ],
   "source": [
    "resolve_note_path?"
   ]
  },
  {
   "cell_type": "code",
   "execution_count": null,
   "id": "6300a81a",
   "metadata": {},
   "outputs": [],
   "source": [
    "#| export\n",
    "def get_properties(page):\n",
    "    fm = page.frontmatter\n",
    "    plist = []\n",
    "    if fm:\n",
    "        for p in fm.children:\n",
    "            for c in p.children:\n",
    "                if isinstance(c,RawText):\n",
    "                    if c.content:\n",
    "                        plist.append(Properties(\n",
    "                            id=str(uuid.uuid4()),\n",
    "                            lockey=page.lockey,\n",
    "                            name=p.key,\n",
    "                            type=type(c).__name__,\n",
    "                            value=c.content\n",
    "                        ))\n",
    "                elif isinstance(c,(Link, AnyLink)):\n",
    "                    name = p.key\n",
    "                    if isinstance(c, TagLink): name = \"file_tags\"\n",
    "                    if getattr(c, 'fname', None):\n",
    "                        plist.append(Properties(\n",
    "                            id=str(uuid.uuid4()),\n",
    "                            lockey=page.lockey,\n",
    "                            name=name,\n",
    "                            type=type(c).__name__,\n",
    "                            value=getattr(c, 'fname')\n",
    "                        ))\n",
    "\n",
    "                    else:\n",
    "                        plist.append(Properties(\n",
    "                            id=str(uuid.uuid4()),\n",
    "                            lockey=page.lockey,\n",
    "                            name=name,\n",
    "                            type=type(c).__name__,\n",
    "                            value=getattr(c, 'target')\n",
    "                        ))\n",
    "\n",
    "    for c in page.tags:\n",
    "        plist.append(Properties(\n",
    "            id=str(uuid.uuid4()),\n",
    "            lockey=page.lockey,\n",
    "            name='tags',\n",
    "            type=type(c).__name__,\n",
    "            value=c.title\n",
    "        ))\n",
    "\n",
    "    return plist"
   ]
  },
  {
   "cell_type": "code",
   "execution_count": null,
   "id": "ff2bdc6d",
   "metadata": {},
   "outputs": [
    {
     "name": "stdout",
     "output_type": "stream",
     "text": [
      "title [<mistletoe.span_token.RawText content='Fuck You, Show Me The Prompt. '...+1>]\n",
      "source [<memexplatform_obsidian.mdmanager.AnyLink with 1 child title='https://hamel.dev/blog/posts/p'...+6 target='https://hamel.dev/blog/posts/p'...+6 children=(<mistletoe.span_token.RawText content='https://hamel.dev/blog/posts/p'...+6>,)>]\n",
      "author [<memexplatform_obsidian.mdmanager.WikiLink with 1 child ext='.md' fname='@HamelHusain' children=[<mistletoe.span_token.RawText content='@HamelHusain'>] title='@HamelHusain' label=None dest_type='wikilink' title_delimiter=None label=None src='/obsidian/open?file=%40HamelHu'...+4>]\n",
      "published [<mistletoe.span_token.RawText content='None'>]\n",
      "created [<mistletoe.span_token.RawText content='2025-08-30'>]\n",
      "description [<mistletoe.span_token.RawText content='Quickly understand inscrutable'...+42>]\n",
      "tags [<memexplatform_obsidian.mdmanager.TagLink with 1 child fname='#clippings' children=[<mistletoe.span_token.RawText content='#clippings'>] title='#clippings' label=None dest_type='taglink' title_delimiter=None label=None>, <memexplatform_obsidian.mdmanager.TagLink with 1 child fname='#inbox' children=[<mistletoe.span_token.RawText content='#inbox'>] title='#inbox' label=None dest_type='taglink' title_delimiter=None label=None>]\n"
     ]
    },
    {
     "data": {
      "text/plain": [
       "[Properties(id='6c139794-2f99-4748-a48b-ba4f8e7805f4', lockey='Clippings/Fuck You, Show Me The Prompt. – 2.md', name='title', type='RawText', value='Fuck You, Show Me The Prompt. –'),\n",
       " Properties(id='5773d693-c251-405e-b2a1-acb8f2e01358', lockey='Clippings/Fuck You, Show Me The Prompt. – 2.md', name='source', type='AnyLink', value='https://hamel.dev/blog/posts/prompt/'),\n",
       " Properties(id='47b8b584-ffbf-4263-8925-78a0bfd06dbe', lockey='Clippings/Fuck You, Show Me The Prompt. – 2.md', name='author', type='WikiLink', value='@HamelHusain'),\n",
       " Properties(id='10f00b5f-5c75-489d-bfc2-16a1fd130e8a', lockey='Clippings/Fuck You, Show Me The Prompt. – 2.md', name='published', type='RawText', value='None'),\n",
       " Properties(id='1e1ebe7c-4b6b-4a54-8010-c0960fecc392', lockey='Clippings/Fuck You, Show Me The Prompt. – 2.md', name='created', type='RawText', value='2025-08-30'),\n",
       " Properties(id='5701a0f6-529c-4e48-8dde-8281c7208c25', lockey='Clippings/Fuck You, Show Me The Prompt. – 2.md', name='description', type='RawText', value='Quickly understand inscrutable LLM frameworks by intercepting API calls.'),\n",
       " Properties(id='cf6aa2d4-ce8a-48eb-af16-1f36ae315d43', lockey='Clippings/Fuck You, Show Me The Prompt. – 2.md', name='file_tags', type='TagLink', value='#clippings'),\n",
       " Properties(id='58ad43d4-c7c4-4de3-9802-bb04a0aeefcb', lockey='Clippings/Fuck You, Show Me The Prompt. – 2.md', name='file_tags', type='TagLink', value='#inbox'),\n",
       " Properties(id='ba784dad-dab2-4b89-a30a-5eea161a1d58', lockey='Clippings/Fuck You, Show Me The Prompt. – 2.md', name='tags', type='TagLink', value='#clippings'),\n",
       " Properties(id='b464462b-998e-4c80-8a67-8059a4996397', lockey='Clippings/Fuck You, Show Me The Prompt. – 2.md', name='tags', type='TagLink', value='#inbox')]"
      ]
     },
     "execution_count": null,
     "metadata": {},
     "output_type": "execute_result"
    }
   ],
   "source": [
    "\n",
    "fpath = \"/Users/rahul1.saraf/rahuketu/programming/notesobs/pages/@RahulSaraf.md\"\n",
    "fpath = \"/Users/rahul1.saraf/rahuketu/programming/notesobs/Clippings/Fuck You, Show Me The Prompt. – 2.md\"\n",
    "# fpath = \"/Users/rahul1.saraf/rahuketu/programming/notesobs/pages/Product Mindset for RAG.md\"\n",
    "op = ObsidianPage.from_file_path(fpath)\n",
    "link = op.links[0]; link\n",
    "# link.fname\n",
    "vault = config.OBSIDIAN_VAULT\n",
    "linked_path = resolve_note_path(vault, link.fname) if getattr(link, \"fname\", None) else None\n",
    "linked_lockey = str(linked_path.relative_to(vault)) if linked_path else None; linked_lockey\n",
    "op.lockey\n",
    "\n",
    "link.target, link.title\n",
    "fm = op.frontmatter\n",
    "for p in fm.children:\n",
    "    print(p.key, p.children)\n",
    "op = ObsidianPage.from_file_path(fpath)\n",
    "get_properties(op)\n",
    "# op.tags"
   ]
  },
  {
   "cell_type": "code",
   "execution_count": null,
   "id": "59db3c5a",
   "metadata": {},
   "outputs": [],
   "source": [
    "#| export\n",
    "def get_pagelinks(page:ObsidianPage, vault:Path):\n",
    "    link_rows = []\n",
    "    for link in page.links:\n",
    "        # Try to resolve linked file path inside vault\n",
    "        linked_path = resolve_note_path(vault, link.fname) if getattr(link, \"fname\", None) else None\n",
    "        linked_lockey = str(linked_path.relative_to(vault)) if linked_path else None; linked_lockey\n",
    "\n",
    "        link_rows.append(\n",
    "            Links(\n",
    "                id=str(uuid.uuid4()),\n",
    "                lockey=page.lockey,       # source file\n",
    "                link=link.target,           # raw link text\n",
    "                linked_lockey=linked_lockey,\n",
    "                link_type=type(link).__name__,\n",
    "                title=link.title,\n",
    "                is_internal=bool(linked_lockey or type(link).__name__ == 'TagLink'),\n",
    "            )\n",
    "        )\n",
    "    return link_rows"
   ]
  },
  {
   "cell_type": "code",
   "execution_count": null,
   "id": "f818c3d8",
   "metadata": {},
   "outputs": [],
   "source": [
    "#| export\n",
    "def update_folder_node(folder_path: Path) -> Node:\n",
    "    \"\"\"Create a Node entry for a folder.\"\"\"\n",
    "    try:\n",
    "        s = folder_path.stat()\n",
    "        created_time = datetime.fromtimestamp(s.st_ctime_ns / 1e9, tz=timezone.utc).timestamp()\n",
    "        modified_time = datetime.fromtimestamp(s.st_mtime_ns / 1e9, tz=timezone.utc).timestamp()\n",
    "    except Exception:\n",
    "        created_time, modified_time = 0.0, 0.0\n",
    "\n",
    "    return Node(\n",
    "        lockey=str(folder_path.relative_to(config.OBSIDIAN_VAULT)),\n",
    "        created_time=created_time,\n",
    "        modified_time=modified_time,\n",
    "        file_size=0,\n",
    "        fname=folder_path.name,\n",
    "        text=\"\",\n",
    "        blob=b\"\",\n",
    "        ext=\"\",\n",
    "        is_folder=True,\n",
    "        url=MountPaths.open.to(file=folder_path.relative_to(config.OBSIDIAN_VAULT)),\n",
    "        obsidian_url=None,\n",
    "        checksum=b\"\",\n",
    "    )"
   ]
  },
  {
   "cell_type": "code",
   "execution_count": null,
   "id": "77126251",
   "metadata": {},
   "outputs": [],
   "source": [
    "#| export\n",
    "def iter_files(dirs):\n",
    "    for d in dirs:\n",
    "        yield from (f for f in d.rglob(\"*\") if f.is_file())\n"
   ]
  },
  {
   "cell_type": "code",
   "execution_count": null,
   "id": "eb93bfdd",
   "metadata": {},
   "outputs": [
    {
     "data": {
      "text/plain": [
       "[Path('/Users/rahul1.saraf/rahuketu/programming/notesobs/Clippings/Frequently Asked Questions (And Answers) About AI Evals – Hamel’s Blog.md'),\n",
       " Path('/Users/rahul1.saraf/rahuketu/programming/notesobs/Clippings/Learn In Public.md'),\n",
       " Path('/Users/rahul1.saraf/rahuketu/programming/notesobs/Clippings/How I Built a Learning Machine.md'),\n",
       " Path('/Users/rahul1.saraf/rahuketu/programming/notesobs/Clippings/ContextCite Attributing Model Generation to Context.md'),\n",
       " Path('/Users/rahul1.saraf/rahuketu/programming/notesobs/Clippings/Apertus a fully open, transparent, multilingual language model.md'),\n",
       " Path('/Users/rahul1.saraf/rahuketu/programming/notesobs/Clippings/How to solve any problem? - supermemo.guru.md'),\n",
       " Path('/Users/rahul1.saraf/rahuketu/programming/notesobs/Clippings/From GPT-2 to gpt-oss Analyzing the Architectural Advances.md'),\n",
       " Path('/Users/rahul1.saraf/rahuketu/programming/notesobs/Clippings/Fuck You, Show Me The Prompt. – 2.md'),\n",
       " Path('/Users/rahul1.saraf/rahuketu/programming/notesobs/journals/2025_08_31.md'),\n",
       " Path('/Users/rahul1.saraf/rahuketu/programming/notesobs/journals/2025_08_30.md'),\n",
       " Path('/Users/rahul1.saraf/rahuketu/programming/notesobs/journals/2025_09_01.md'),\n",
       " Path('/Users/rahul1.saraf/rahuketu/programming/notesobs/journals/2025_09_11.md'),\n",
       " Path('/Users/rahul1.saraf/rahuketu/programming/notesobs/journals/2025_09_15.md'),\n",
       " Path('/Users/rahul1.saraf/rahuketu/programming/notesobs/journals/2025_09_04.md'),\n",
       " Path('/Users/rahul1.saraf/rahuketu/programming/notesobs/journals/2025_09_10.md'),\n",
       " Path('/Users/rahul1.saraf/rahuketu/programming/notesobs/journals/2025_09_03.md'),\n",
       " Path('/Users/rahul1.saraf/rahuketu/programming/notesobs/journals/2025_09_13.md'),\n",
       " Path('/Users/rahul1.saraf/rahuketu/programming/notesobs/journals/2025_09_02.md'),\n",
       " Path('/Users/rahul1.saraf/rahuketu/programming/notesobs/journals/2025_09_12.md'),\n",
       " Path('/Users/rahul1.saraf/rahuketu/programming/notesobs/journals/2025_09_06.md'),\n",
       " Path('/Users/rahul1.saraf/rahuketu/programming/notesobs/journals/2025_09_09.md'),\n",
       " Path('/Users/rahul1.saraf/rahuketu/programming/notesobs/lifeos/RAG.md'),\n",
       " Path('/Users/rahul1.saraf/rahuketu/programming/notesobs/lifeos/Vaults.base'),\n",
       " Path('/Users/rahul1.saraf/rahuketu/programming/notesobs/lifeos/.DS_Store'),\n",
       " Path('/Users/rahul1.saraf/rahuketu/programming/notesobs/lifeos/.DS_Store.md'),\n",
       " Path('/Users/rahul1.saraf/rahuketu/programming/notesobs/lifeos/Pillars.base'),\n",
       " Path('/Users/rahul1.saraf/rahuketu/programming/notesobs/lifeos/Test.md'),\n",
       " Path('/Users/rahul1.saraf/rahuketu/programming/notesobs/lifeos/Projects.base'),\n",
       " Path('/Users/rahul1.saraf/rahuketu/programming/notesobs/lifeos/notes.base'),\n",
       " Path('/Users/rahul1.saraf/rahuketu/programming/notesobs/lifeos/journals.base'),\n",
       " Path('/Users/rahul1.saraf/rahuketu/programming/notesobs/lifeos/00_PPV.canvas'),\n",
       " Path('/Users/rahul1.saraf/rahuketu/programming/notesobs/lifeos/Reviews/Tasks.md'),\n",
       " Path('/Users/rahul1.saraf/rahuketu/programming/notesobs/lifeos/Reviews/Meetings Summary.md'),\n",
       " Path('/Users/rahul1.saraf/rahuketu/programming/notesobs/templates/PersonNote.md'),\n",
       " Path('/Users/rahul1.saraf/rahuketu/programming/notesobs/templates/.DS_Store'),\n",
       " Path('/Users/rahul1.saraf/rahuketu/programming/notesobs/templates/DailyNote.md'),\n",
       " Path('/Users/rahul1.saraf/rahuketu/programming/notesobs/templates/Note.md'),\n",
       " Path('/Users/rahul1.saraf/rahuketu/programming/notesobs/templates/PillarNote.md'),\n",
       " Path('/Users/rahul1.saraf/rahuketu/programming/notesobs/templates/Anki.md'),\n",
       " Path('/Users/rahul1.saraf/rahuketu/programming/notesobs/templates/VaultNote.md'),\n",
       " Path('/Users/rahul1.saraf/rahuketu/programming/notesobs/templates/ProjectNote.md'),\n",
       " Path('/Users/rahul1.saraf/rahuketu/programming/notesobs/templates/MeetingNote.md'),\n",
       " Path('/Users/rahul1.saraf/rahuketu/programming/notesobs/assets/Pasted Image 20250825234205_516.png'),\n",
       " Path('/Users/rahul1.saraf/rahuketu/programming/notesobs/assets/03_DriveTrain.png'),\n",
       " Path('/Users/rahul1.saraf/rahuketu/programming/notesobs/assets/09_PR.jpeg'),\n",
       " Path('/Users/rahul1.saraf/rahuketu/programming/notesobs/assets/Stanford-NLP-icon-144x72.gif'),\n",
       " Path('/Users/rahul1.saraf/rahuketu/programming/notesobs/assets/.DS_Store'),\n",
       " Path('/Users/rahul1.saraf/rahuketu/programming/notesobs/assets/Pasted image 20250902145849.png'),\n",
       " Path('/Users/rahul1.saraf/rahuketu/programming/notesobs/assets/04_ModelAssemblyLine.png'),\n",
       " Path('/Users/rahul1.saraf/rahuketu/programming/notesobs/assets/08_ModellingConcepts.png'),\n",
       " Path('/Users/rahul1.saraf/rahuketu/programming/notesobs/assets/Pasted Image 20250825234001_271.png'),\n",
       " Path('/Users/rahul1.saraf/rahuketu/programming/notesobs/assets/Pasted Image 20250908094332_487.png'),\n",
       " Path('/Users/rahul1.saraf/rahuketu/programming/notesobs/assets/Pasted image 20250903005129.png'),\n",
       " Path('/Users/rahul1.saraf/rahuketu/programming/notesobs/assets/Pasted image 20250902145802.png'),\n",
       " Path('/Users/rahul1.saraf/rahuketu/programming/notesobs/assets/Pasted Image 20250908095642_732.png'),\n",
       " Path('/Users/rahul1.saraf/rahuketu/programming/notesobs/assets/06_DataTransmissionTracker.png'),\n",
       " Path('/Users/rahul1.saraf/rahuketu/programming/notesobs/assets/07_DataSeasonality.png'),\n",
       " Path('/Users/rahul1.saraf/rahuketu/programming/notesobs/assets/01_KeyChallenges.png'),\n",
       " Path('/Users/rahul1.saraf/rahuketu/programming/notesobs/assets/Pasted image 20250905105453.png'),\n",
       " Path('/Users/rahul1.saraf/rahuketu/programming/notesobs/assets/Pasted image 20250904221300.png'),\n",
       " Path('/Users/rahul1.saraf/rahuketu/programming/notesobs/assets/LLMCreationStages.png'),\n",
       " Path('/Users/rahul1.saraf/rahuketu/programming/notesobs/assets/Pasted Image 20250818111741_997.png'),\n",
       " Path('/Users/rahul1.saraf/rahuketu/programming/notesobs/assets/Pasted image 20250902153059.png'),\n",
       " Path('/Users/rahul1.saraf/rahuketu/programming/notesobs/assets/download.html'),\n",
       " Path('/Users/rahul1.saraf/rahuketu/programming/notesobs/assets/05_DataCoverageActivity.png'),\n",
       " Path('/Users/rahul1.saraf/rahuketu/programming/notesobs/assets/02_AnalyticsPipeline.png'),\n",
       " Path('/Users/rahul1.saraf/rahuketu/programming/notesobs/assets/Pasted image 20250905100202.png'),\n",
       " Path('/Users/rahul1.saraf/rahuketu/programming/notesobs/assets/Project.svg'),\n",
       " Path('/Users/rahul1.saraf/rahuketu/programming/notesobs/assets/Pasted image 20250905100413.png'),\n",
       " Path('/Users/rahul1.saraf/rahuketu/programming/notesobs/assets/Recording 20250830192122.m4a'),\n",
       " Path('/Users/rahul1.saraf/rahuketu/programming/notesobs/pages/RAG.md'),\n",
       " Path('/Users/rahul1.saraf/rahuketu/programming/notesobs/pages/Infra.excalidraw.md'),\n",
       " Path('/Users/rahul1.saraf/rahuketu/programming/notesobs/pages/Pillars.md'),\n",
       " Path('/Users/rahul1.saraf/rahuketu/programming/notesobs/pages/Network.md'),\n",
       " Path('/Users/rahul1.saraf/rahuketu/programming/notesobs/pages/ThinkBayes.00_Preface.md'),\n",
       " Path('/Users/rahul1.saraf/rahuketu/programming/notesobs/pages/@HamelHusain.md'),\n",
       " Path('/Users/rahul1.saraf/rahuketu/programming/notesobs/pages/.DS_Store'),\n",
       " Path('/Users/rahul1.saraf/rahuketu/programming/notesobs/pages/LLMScratch.preface.md'),\n",
       " Path('/Users/rahul1.saraf/rahuketu/programming/notesobs/pages/Health Alert observations.md'),\n",
       " Path('/Users/rahul1.saraf/rahuketu/programming/notesobs/pages/W_JIO_Gausamriddhi.md'),\n",
       " Path('/Users/rahul1.saraf/rahuketu/programming/notesobs/pages/ChatSystem.excalidraw.md'),\n",
       " Path('/Users/rahul1.saraf/rahuketu/programming/notesobs/pages/.DS_Store.md'),\n",
       " Path('/Users/rahul1.saraf/rahuketu/programming/notesobs/pages/S_PersonalStudy.md'),\n",
       " Path('/Users/rahul1.saraf/rahuketu/programming/notesobs/pages/AnkiDeck.md'),\n",
       " Path('/Users/rahul1.saraf/rahuketu/programming/notesobs/pages/PPV.md'),\n",
       " Path('/Users/rahul1.saraf/rahuketu/programming/notesobs/pages/Think Bayes.md'),\n",
       " Path('/Users/rahul1.saraf/rahuketu/programming/notesobs/pages/GauSamriddhi Planning.md'),\n",
       " Path('/Users/rahul1.saraf/rahuketu/programming/notesobs/pages/What should I do?.md'),\n",
       " Path('/Users/rahul1.saraf/rahuketu/programming/notesobs/pages/Project.excalidraw.md'),\n",
       " Path('/Users/rahul1.saraf/rahuketu/programming/notesobs/pages/ThinkBayes.01_Probability.ipynb'),\n",
       " Path('/Users/rahul1.saraf/rahuketu/programming/notesobs/pages/T2.md'),\n",
       " Path('/Users/rahul1.saraf/rahuketu/programming/notesobs/pages/Product Vision.md'),\n",
       " Path('/Users/rahul1.saraf/rahuketu/programming/notesobs/pages/Product Mindset for RAG.md'),\n",
       " Path('/Users/rahul1.saraf/rahuketu/programming/notesobs/pages/Presentations using Slides.md'),\n",
       " Path('/Users/rahul1.saraf/rahuketu/programming/notesobs/pages/Projects.md'),\n",
       " Path('/Users/rahul1.saraf/rahuketu/programming/notesobs/pages/CS336 Lecture 1.md'),\n",
       " Path('/Users/rahul1.saraf/rahuketu/programming/notesobs/pages/Youtube.md'),\n",
       " Path('/Users/rahul1.saraf/rahuketu/programming/notesobs/pages/contents.md'),\n",
       " Path('/Users/rahul1.saraf/rahuketu/programming/notesobs/pages/ProductReviews.excalidraw.md'),\n",
       " Path('/Users/rahul1.saraf/rahuketu/programming/notesobs/pages/Vaults.md'),\n",
       " Path('/Users/rahul1.saraf/rahuketu/programming/notesobs/pages/Bayesian Statistics.md'),\n",
       " Path('/Users/rahul1.saraf/rahuketu/programming/notesobs/pages/Productivity.md'),\n",
       " Path('/Users/rahul1.saraf/rahuketu/programming/notesobs/pages/Trial by Fire.md'),\n",
       " Path('/Users/rahul1.saraf/rahuketu/programming/notesobs/pages/TestCanvas.canvas'),\n",
       " Path('/Users/rahul1.saraf/rahuketu/programming/notesobs/pages/@RahulSaraf.md'),\n",
       " Path('/Users/rahul1.saraf/rahuketu/programming/notesobs/pages/CS336.md'),\n",
       " Path('/Users/rahul1.saraf/rahuketu/programming/notesobs/pages/Musings.md'),\n",
       " Path('/Users/rahul1.saraf/rahuketu/programming/notesobs/pages/LLMScratch.md'),\n",
       " Path('/Users/rahul1.saraf/rahuketu/programming/notesobs/pages/ThinkBayes.01_Probability.md'),\n",
       " Path('/Users/rahul1.saraf/rahuketu/programming/notesobs/pages/Test.md'),\n",
       " Path('/Users/rahul1.saraf/rahuketu/programming/notesobs/pages/@SebastianRashka.md'),\n",
       " Path('/Users/rahul1.saraf/rahuketu/programming/notesobs/pages/Meetings.md'),\n",
       " Path('/Users/rahul1.saraf/rahuketu/programming/notesobs/pages/LLMScratch.ch01.md'),\n",
       " Path('/Users/rahul1.saraf/rahuketu/programming/notesobs/pages/Books.md'),\n",
       " Path('/Users/rahul1.saraf/rahuketu/programming/notesobs/pages/What is a Grand Strategy?.md'),\n",
       " Path('/Users/rahul1.saraf/rahuketu/programming/notesobs/pages/LifeOS.md'),\n",
       " Path('/Users/rahul1.saraf/rahuketu/programming/notesobs/lifeos/Reviews/Tasks.md'),\n",
       " Path('/Users/rahul1.saraf/rahuketu/programming/notesobs/lifeos/Reviews/Meetings Summary.md')]"
      ]
     },
     "execution_count": null,
     "metadata": {},
     "output_type": "execute_result"
    }
   ],
   "source": [
    "\n",
    "vault_path = pathlib.Path(config.OBSIDIAN_VAULT)\n",
    "dirs = get_subdirs(config.OBSIDIAN_VAULT) ; dirs\n",
    "list(iter_files(dirs))"
   ]
  },
  {
   "cell_type": "code",
   "execution_count": null,
   "id": "0c598787",
   "metadata": {},
   "outputs": [],
   "source": [
    "#| export\n",
    "class ObsidianDB:\n",
    "    def __init__(self, config):\n",
    "        self.config = config\n",
    "        self.db = Database(config.OBSIDIAN_DB); self.db\n",
    "        self.vault = config.OBSIDIAN_VAULT; self.vault\n",
    "\n",
    "    def initdb(self, replace=False) -> Database:\n",
    "        self.db.create(Node, pk='lockey', replace=replace)\n",
    "        self.db.create(Links, pk='id', replace=replace, foreign_keys=[\n",
    "            ('lockey', 'node'),\n",
    "            # ('linked_lockey', 'node') # Dropping this constraints for efficiency as I want to avoid rereading db twice\n",
    "        ])\n",
    "        self.db.create(Properties, pk='id', replace=replace, foreign_keys=[\n",
    "            ('lockey', 'node')\n",
    "        ])\n",
    "        return self.db\n",
    "\n",
    "    def upsert(self, file_path: Path): # Assuming Path is available from pathlib\n",
    "        # Assuming ObsidianPage, datetime, and timezone are available in the scope.\n",
    "        # For example, they might be imported at the top of the file as:\n",
    "        # from pathlib import Path\n",
    "        # from datetime import datetime, timezone\n",
    "        # from .mdmanager import ObsidianPage\n",
    "        \n",
    "        file_path = pathlib.Path(file_path)\n",
    "        page = ObsidianPage.from_file_path(file_path)\n",
    "\n",
    "        if page.lockey is None:\n",
    "            # This file path is not relative to the vault, which is required for 'lockey'.\n",
    "            # Log a warning and skip upserting this file.\n",
    "            print(f\"Warning: File path {file_path} is not relative to vault {self.vault}. Skipping upsert.\")\n",
    "            return\n",
    "\n",
    "        # Check if ObsidianPage's text content is an error message (based on its implementation)\n",
    "        is_error_text_from_page = page.text and page.text.startswith(\"[Error:\")\n",
    "        \n",
    "        node = update_node(page, file_path)\n",
    "        self.db['node'].upsert(node)\n",
    "        self.db[\"links\"].delete_where(\"lockey = ?\", (page.lockey,))\n",
    "        links = get_pagelinks(page, self.vault)\n",
    "        self.db[\"links\"].insert_all(links)\n",
    "        self.db[\"properties\"].delete_where(\"lockey = ?\", (page.lockey,))\n",
    "        self.db[\"properties\"].insert_all(get_properties(page))\n",
    "\n",
    "    def sync_vault(self, reindex=False):\n",
    "        dirs = get_subdirs(self.vault); dirs\n",
    "        for d in dirs: self.db['node'].upsert(update_folder_node(d))\n",
    "        for f in iter_files(dirs): \n",
    "            # check for entry and metadata\n",
    "            if reindex: self.upsert(f)\n",
    "            \n",
    "            lockey = str(f.relative_to(config.OBSIDIAN_VAULT)); lockey\n",
    "            # print(lockey)\n",
    "            # print(list(self.db['node'].rows_where(\"lockey = ?\", (lockey,), select='lockey,modified_time,file_size,checksum'))[0])\n",
    "            infos = list(self.db['node'].rows_where(\"lockey = ?\", (lockey,), select='lockey,modified_time,file_size,checksum'))\n",
    "            if infos:\n",
    "                info = infos[0]; info\n",
    "                details = f.stat()\n",
    "                same_size = details.st_size == info['file_size'] \n",
    "                similar_time = details.st_mtime-info['modified_time'] < 1e-6\n",
    "                if same_size and similar_time: continue\n",
    "                else:\n",
    "                    if ObsidianPage.from_file_path(f).checksum == info['checksum']: continue\n",
    "                    else: self.upsert(f)\n",
    "            else:\n",
    "                self.upsert(f)\n"
   ]
  },
  {
   "cell_type": "code",
   "execution_count": null,
   "id": "ee143410",
   "metadata": {},
   "outputs": [],
   "source": []
  },
  {
   "cell_type": "code",
   "execution_count": null,
   "id": "a6a48a38",
   "metadata": {},
   "outputs": [
    {
     "data": {
      "text/plain": [
       "<Database <apsw.Connection object \"/Users/rahul1.saraf/rahuketu/programming/gitea/memexplatform_obsidian/data/memexplatform_obsidian.db\">>"
      ]
     },
     "execution_count": null,
     "metadata": {},
     "output_type": "execute_result"
    }
   ],
   "source": [
    "#| notest\n",
    "config.OBSIDIAN_DB\n",
    "obs = ObsidianDB(config)\n",
    "obs.initdb()"
   ]
  },
  {
   "cell_type": "code",
   "execution_count": null,
   "id": "bc3feb27",
   "metadata": {},
   "outputs": [
    {
     "data": {
      "text/plain": [
       "[]"
      ]
     },
     "execution_count": null,
     "metadata": {},
     "output_type": "execute_result"
    }
   ],
   "source": [
    "lockey = 'pages/Checkoslovakia.md'\n",
    "list(obs.db['node'].rows_where(\"lockey = ?\", (lockey,), \n",
    "select='lockey,modified_time,file_size,checksum'))"
   ]
  },
  {
   "cell_type": "code",
   "execution_count": null,
   "id": "53a01a31",
   "metadata": {},
   "outputs": [],
   "source": [
    "obs.sync_vault()"
   ]
  },
  {
   "cell_type": "code",
   "execution_count": null,
   "id": "04fe14b0",
   "metadata": {},
   "outputs": [],
   "source": [
    "dirs = get_subdirs(config.OBSIDIAN_VAULT); dirs\n",
    "fname = None\n",
    "for f in iter_files(dirs):\n",
    "    fname = f\n",
    "    break\n",
    "\n",
    "lockey = str(fname.relative_to(config.OBSIDIAN_VAULT)); lockey\n",
    "info = list(obs.db['node'].rows_where(\"lockey = ?\", (lockey,), select='lockey,modified_time,file_size,checksum'))[0]\n",
    "info, \n",
    "details = fname.stat()\n",
    "same_size = details.st_size == info['file_size'] \n",
    "similar_time = details.st_mtime-info['modified_time'] < 1e-6\n"
   ]
  },
  {
   "cell_type": "code",
   "execution_count": null,
   "id": "10776e07",
   "metadata": {},
   "outputs": [
    {
     "data": {
      "text/plain": [
       "['node', 'links', 'properties', 'sqlite_stat1', 'sqlite_stat4']"
      ]
     },
     "execution_count": null,
     "metadata": {},
     "output_type": "execute_result"
    }
   ],
   "source": [
    "obs.db.table_names()"
   ]
  },
  {
   "cell_type": "code",
   "execution_count": null,
   "id": "675491bb",
   "metadata": {},
   "outputs": [],
   "source": [
    "fpath = \"/Users/rahul1.saraf/rahuketu/programming/notesobs/pages/Product Mindset for RAG.md\"\n",
    "# fpath = \"/Users/rahul1.saraf/rahuketu/programming/notesobs/pages/@RahulSaraf.md\"\n",
    "# fpath = \"/Users/rahul1.sarasf/rahuketu/programming/notesobs/Clippings/Fuck You, Show Me The Prompt. – 2.md\"\n",
    "obs.upsert(fpath)\n",
    "# page = ObsidianPage.from_file_path(fpath)\n",
    "# page.text"
   ]
  },
  {
   "cell_type": "code",
   "execution_count": null,
   "id": "4c52d225",
   "metadata": {},
   "outputs": [],
   "source": [
    "#| hide\n",
    "import nbdev; nbdev.nbdev_export()"
   ]
  },
  {
   "cell_type": "code",
   "execution_count": null,
   "id": "165ea66b",
   "metadata": {},
   "outputs": [],
   "source": []
  },
  {
   "cell_type": "code",
   "execution_count": null,
   "id": "555fe6a6",
   "metadata": {},
   "outputs": [],
   "source": []
  },
  {
   "cell_type": "code",
   "execution_count": null,
   "id": "e3f4202c",
   "metadata": {},
   "outputs": [],
   "source": []
  },
  {
   "cell_type": "code",
   "execution_count": null,
   "id": "fc4328e9",
   "metadata": {},
   "outputs": [],
   "source": []
  }
 ],
 "metadata": {
  "kernelspec": {
   "display_name": "python3",
   "language": "python",
   "name": "python3"
  }
 },
 "nbformat": 4,
 "nbformat_minor": 5
}
