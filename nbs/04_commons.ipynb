{
 "cells": [
  {
   "cell_type": "markdown",
   "metadata": {},
   "source": [
    "# commons\n",
    "\n",
    "> Obsidian App configuration"
   ]
  },
  {
   "cell_type": "code",
   "execution_count": null,
   "metadata": {},
   "outputs": [],
   "source": [
    "#| default_exp commons"
   ]
  },
  {
   "cell_type": "code",
   "execution_count": null,
   "metadata": {},
   "outputs": [],
   "source": [
    "#| hide\n",
    "from nbdev.showdoc import *"
   ]
  },
  {
   "cell_type": "code",
   "execution_count": null,
   "metadata": {},
   "outputs": [],
   "source": [
    "#| export\n",
    "from memexplatform_obsidian.settings import ObsidianConfig\n",
    "from enum import Enum\n",
    "import urllib\n",
    "from dataclasses import dataclass\n",
    "from abc import ABC, abstractmethod\n",
    "import pathlib\n",
    "from pathlib import Path\n",
    "import hashlib"
   ]
  },
  {
   "cell_type": "code",
   "execution_count": null,
   "metadata": {},
   "outputs": [
    {
     "data": {
      "text/plain": [
       "ObsidianConfig(PREFIX='/obsidian', OBSIDIAN_VAULT=Path('/Users/rahul1.saraf/rahuketu/programming/notesobs'), OBSIDIAN_DB=Path('/Users/rahul1.saraf/rahuketu/programming/gitea/memexplatform_obsidian/data/memexplatform_obsidian.db'), ENABLE_DB_MODE=False)"
      ]
     },
     "execution_count": null,
     "metadata": {},
     "output_type": "execute_result"
    }
   ],
   "source": [
    "#| export\n",
    "config = ObsidianConfig(); config\n",
    "# (config.PORTAL/'index.qmd').exists()"
   ]
  },
  {
   "cell_type": "code",
   "execution_count": null,
   "metadata": {},
   "outputs": [
    {
     "ename": "NameError",
     "evalue": "name 'Enum' is not defined",
     "output_type": "error",
     "traceback": [
      "\u001b[0;31m---------------------------------------------------------------------------\u001b[0m",
      "\u001b[0;31mNameError\u001b[0m                                 Traceback (most recent call last)",
      "Cell \u001b[0;32mIn[1], line 2\u001b[0m\n\u001b[1;32m      1\u001b[0m \u001b[38;5;66;03m#| export\u001b[39;00m\n\u001b[0;32m----> 2\u001b[0m \u001b[38;5;28;01mclass\u001b[39;00m\u001b[38;5;250m \u001b[39m\u001b[38;5;21;01mMountPaths\u001b[39;00m(Enum):\n\u001b[1;32m      3\u001b[0m     gradio_url \u001b[38;5;241m=\u001b[39m config\u001b[38;5;241m.\u001b[39mPREFIX \u001b[38;5;241m+\u001b[39m \u001b[38;5;124m\"\u001b[39m\u001b[38;5;124m_gradio\u001b[39m\u001b[38;5;124m\"\u001b[39m\n\u001b[1;32m      4\u001b[0m     \u001b[38;5;28mopen\u001b[39m \u001b[38;5;241m=\u001b[39m \u001b[38;5;124m\"\u001b[39m\u001b[38;5;124m/open\u001b[39m\u001b[38;5;124m\"\u001b[39m\n",
      "\u001b[0;31mNameError\u001b[0m: name 'Enum' is not defined"
     ]
    }
   ],
   "source": [
    "#| export\n",
    "class MountPaths(Enum):\n",
    "    gradio_url = config.PREFIX + \"_gradio\"\n",
    "    open = \"/open\"\n",
    "    tag = \"/tag\"\n",
    "    embed=\"/embed\"\n",
    "    obsidian_url = \"obsidian://open\"\n",
    "    edit = \"/edit\"\n",
    "    backlinks = \"/backlinks\"\n",
    "    getbacklinks = \"/getbacklinks\"\n",
    "\n",
    "    def get_mount_name(self):\n",
    "        return self.value.rsplit(\"/\")[-1]\n",
    "\n",
    "    def get_app_url(self):\n",
    "        return f\"{config.PREFIX}{self.value}\"\n",
    "\n",
    "    def to(self, **kwargs):\n",
    "        if kwargs: return self.get_app_url().rstrip(\"/\")+\"?\"+\"&\".join([ f\"{k}={urllib.parse.quote(str(v))}\" for k,v in kwargs.items()])\n",
    "        else: return self.get_app_url()\n",
    "\n",
    "    def with_qparams(self, **kwargs):\n",
    "        if kwargs: return self.value.rstrip(\"/\")+\"?\"+\"&\".join([ f\"{k}={urllib.parse.quote(str(v))}\" for k,v in kwargs.items()])\n",
    "        else: return self.value"
   ]
  },
  {
   "cell_type": "code",
   "execution_count": null,
   "metadata": {},
   "outputs": [],
   "source": [
    "#| export\n",
    "class ResponseTypes(Enum):\n",
    "    file = 'file'\n",
    "    blob = 'blob'\n",
    "    html = 'html'\n",
    "    pygen = 'pygen'"
   ]
  },
  {
   "cell_type": "code",
   "execution_count": null,
   "metadata": {},
   "outputs": [],
   "source": [
    "#| export\n",
    "@dataclass\n",
    "class ExtensionTypes:\n",
    "    VIDEO_EXTS = (\".mp4\", \".webm\", \".ogg\", \".mov\", \".mkv\")\n",
    "    AUDIO_EXTS = (\".mp3\", \".wav\", \".ogg\", \".m4a\", \".flac\")\n",
    "    IMAGE_EXTS = (\".png\", \".jpg\", \".jpeg\", \".gif\", \".svg\", \".webp\")\n",
    "    TEXTLIKE_EXTS = (\".md\", \".qmd\", \".canvas\", \".base\", \".ipynb\")\n",
    "\n",
    "    @classmethod\n",
    "    def all(cls):\n",
    "        return cls.VIDEO_EXTS + cls.AUDIO_EXTS + cls.IMAGE_EXTS + cls.TEXTLIKE_EXTS"
   ]
  },
  {
   "cell_type": "code",
   "execution_count": null,
   "metadata": {},
   "outputs": [
    {
     "ename": "NameError",
     "evalue": "name 'ExtensionTypes' is not defined",
     "output_type": "error",
     "traceback": [
      "\u001b[0;31m---------------------------------------------------------------------------\u001b[0m",
      "\u001b[0;31mNameError\u001b[0m                                 Traceback (most recent call last)",
      "Cell \u001b[0;32mIn[2], line 1\u001b[0m\n\u001b[0;32m----> 1\u001b[0m ExtensionTypes\u001b[38;5;241m.\u001b[39mall()\n",
      "\u001b[0;31mNameError\u001b[0m: name 'ExtensionTypes' is not defined"
     ]
    }
   ],
   "source": [
    "ExtensionTypes.all()"
   ]
  },
  {
   "cell_type": "code",
   "execution_count": null,
   "metadata": {},
   "outputs": [
    {
     "ename": "NameError",
     "evalue": "name 'ABC' is not defined",
     "output_type": "error",
     "traceback": [
      "\u001b[0;31m---------------------------------------------------------------------------\u001b[0m",
      "\u001b[0;31mNameError\u001b[0m                                 Traceback (most recent call last)",
      "Cell \u001b[0;32mIn[3], line 3\u001b[0m\n\u001b[1;32m      1\u001b[0m \u001b[38;5;66;03m#| export\u001b[39;00m\n\u001b[0;32m----> 3\u001b[0m \u001b[38;5;28;01mclass\u001b[39;00m\u001b[38;5;250m \u001b[39m\u001b[38;5;21;01mPage\u001b[39;00m(ABC):\n\u001b[1;32m      5\u001b[0m     \u001b[38;5;28;01mdef\u001b[39;00m\u001b[38;5;250m \u001b[39m\u001b[38;5;21m__init__\u001b[39m(\u001b[38;5;28mself\u001b[39m, text, fpath\u001b[38;5;241m=\u001b[39m\u001b[38;5;28;01mNone\u001b[39;00m, created_time\u001b[38;5;241m=\u001b[39m\u001b[38;5;28;01mNone\u001b[39;00m, modified_time\u001b[38;5;241m=\u001b[39m\u001b[38;5;28;01mNone\u001b[39;00m, file_size\u001b[38;5;241m=\u001b[39m\u001b[38;5;28;01mNone\u001b[39;00m):\n\u001b[1;32m      6\u001b[0m         \u001b[38;5;28mself\u001b[39m\u001b[38;5;241m.\u001b[39m_text \u001b[38;5;241m=\u001b[39m text\n",
      "\u001b[0;31mNameError\u001b[0m: name 'ABC' is not defined"
     ]
    }
   ],
   "source": [
    "#| export\n",
    "\n",
    "class Page(ABC):\n",
    "\n",
    "    def __init__(self, text, fpath=None, created_time=None, modified_time=None, file_size=None):\n",
    "        self._text = text\n",
    "        # self._vault= vault if vault else pathlib.Path(\".\")\n",
    "        self._fpath = pathlib.Path(fpath) if fpath else None\n",
    "\n",
    "        self.created_time = created_time\n",
    "        self.modified_time = modified_time\n",
    "        self.file_size = file_size\n",
    "\n",
    "    \n",
    "    @property\n",
    "    def file_extension(self):\n",
    "        ext = self._fpath.suffix\n",
    "        if ext in ExtensionTypes.all():\n",
    "            return ext[1:]\n",
    "        return None\n",
    "\n",
    "    @classmethod\n",
    "    @abstractmethod\n",
    "    def from_file_path(cls, file_path: Path):\n",
    "        ...\n",
    "\n",
    "    @property\n",
    "    def lockey(self):\n",
    "        return str(self._fpath.relative_to(config.OBSIDIAN_VAULT)) if self._fpath else None\n",
    "\n",
    "    @property\n",
    "    def obsidian_url(self):\n",
    "        return MountPaths.obsidian_url.with_qparams(vault=config.OBSIDIAN_VAULT.name, file=self.lockey)\n",
    "\n",
    "    @property\n",
    "    def parent(self):\n",
    "        return self._fpath.parent.name\n",
    "\n",
    "\n",
    "    @property\n",
    "    def app_url(self):\n",
    "        return MountPaths.open.to(file=self.lockey, title=self.title)\n",
    "\n",
    "    @property\n",
    "    @abstractmethod\n",
    "    def links(self):\n",
    "        ...\n",
    "\n",
    "    @property\n",
    "    @abstractmethod\n",
    "    def title(self):\n",
    "        ...\n",
    "\n",
    "    @property\n",
    "    @abstractmethod\n",
    "    def html(self):\n",
    "        ...\n",
    "\n",
    "    @property\n",
    "    @abstractmethod\n",
    "    def ast(self):\n",
    "        ...\n",
    "\n",
    "    @property\n",
    "    def text(self):\n",
    "        return self._text\n",
    "\n",
    "    @property\n",
    "    def checksum(self):\n",
    "        return hashlib.md5(self._text.encode('utf-8')).hexdigest()"
   ]
  },
  {
   "cell_type": "code",
   "execution_count": null,
   "metadata": {},
   "outputs": [
    {
     "ename": "NameError",
     "evalue": "name 'MountPaths' is not defined",
     "output_type": "error",
     "traceback": [
      "\u001b[0;31m---------------------------------------------------------------------------\u001b[0m",
      "\u001b[0;31mNameError\u001b[0m                                 Traceback (most recent call last)",
      "Cell \u001b[0;32mIn[4], line 1\u001b[0m\n\u001b[0;32m----> 1\u001b[0m MountPaths\u001b[38;5;241m.\u001b[39mgradio_url\u001b[38;5;241m.\u001b[39mget_mount_name()\n\u001b[1;32m      3\u001b[0m MountPaths\u001b[38;5;241m.\u001b[39mopen\u001b[38;5;241m.\u001b[39mget_app_url()\n\u001b[1;32m      4\u001b[0m MountPaths\u001b[38;5;241m.\u001b[39mopen\u001b[38;5;241m.\u001b[39mto(vault\u001b[38;5;241m=\u001b[39m\u001b[38;5;124m'\u001b[39m\u001b[38;5;124mtest\u001b[39m\u001b[38;5;124m'\u001b[39m, file\u001b[38;5;241m=\u001b[39m\u001b[38;5;124m'\u001b[39m\u001b[38;5;124mpages/Name of the game\u001b[39m\u001b[38;5;124m'\u001b[39m)\n",
      "\u001b[0;31mNameError\u001b[0m: name 'MountPaths' is not defined"
     ]
    }
   ],
   "source": [
    "MountPaths.gradio_url.get_mount_name()\n",
    "\n",
    "MountPaths.open.get_app_url()\n",
    "MountPaths.open.to(vault='test', file='pages/Name of the game')"
   ]
  },
  {
   "cell_type": "code",
   "execution_count": null,
   "metadata": {},
   "outputs": [],
   "source": [
    "#| hide\n",
    "import nbdev; nbdev.nbdev_export()"
   ]
  },
  {
   "cell_type": "code",
   "execution_count": null,
   "metadata": {},
   "outputs": [],
   "source": []
  },
  {
   "cell_type": "code",
   "execution_count": null,
   "metadata": {},
   "outputs": [],
   "source": []
  },
  {
   "cell_type": "code",
   "execution_count": null,
   "metadata": {},
   "outputs": [],
   "source": []
  },
  {
   "cell_type": "code",
   "execution_count": null,
   "metadata": {},
   "outputs": [],
   "source": []
  }
 ],
 "metadata": {
  "kernelspec": {
   "display_name": "python3",
   "language": "python",
   "name": "python3"
  }
 },
 "nbformat": 4,
 "nbformat_minor": 4
}
