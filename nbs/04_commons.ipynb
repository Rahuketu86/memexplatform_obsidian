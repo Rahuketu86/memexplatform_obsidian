{
 "cells": [
  {
   "cell_type": "markdown",
   "metadata": {},
   "source": [
    "# commons\n",
    "\n",
    "> Obsidian App configuration"
   ]
  },
  {
   "cell_type": "code",
   "execution_count": null,
   "metadata": {},
   "outputs": [],
   "source": [
    "#| default_exp commons"
   ]
  },
  {
   "cell_type": "code",
   "execution_count": null,
   "metadata": {},
   "outputs": [],
   "source": [
    "#| hide\n",
    "from nbdev.showdoc import *"
   ]
  },
  {
   "cell_type": "code",
   "execution_count": null,
   "metadata": {},
   "outputs": [],
   "source": [
    "#| export\n",
    "from memexplatform_obsidian.settings import ObsidianConfig\n",
    "from enum import Enum\n",
    "import urllib"
   ]
  },
  {
   "cell_type": "code",
   "execution_count": null,
   "metadata": {},
   "outputs": [
    {
     "data": {
      "text/plain": [
       "ObsidianConfig(PREFIX='/obsidian', OBSIDIAN_VAULT=Path('/Users/rahul1.saraf/rahuketu/programming/notesobs'), OBSIDIAN_DB=Path('/Users/rahul1.saraf/rahuketu/programming/gitea/memexplatform_obsidian/data/memexplatform_obsidian.db'), ENABLE_DB_MODE=False)"
      ]
     },
     "execution_count": null,
     "metadata": {},
     "output_type": "execute_result"
    }
   ],
   "source": [
    "#| export\n",
    "config = ObsidianConfig(); config\n",
    "# (config.PORTAL/'index.qmd').exists()"
   ]
  },
  {
   "cell_type": "code",
   "execution_count": null,
   "metadata": {},
   "outputs": [],
   "source": [
    "#| export\n",
    "class MountPaths(Enum):\n",
    "    gradio_url = config.PREFIX + \"_gradio\"\n",
    "    open = \"/open\"\n",
    "    tag = \"/tag\"\n",
    "    embed=\"/embed\"\n",
    "    obsidian_url = \"obsidian://open\"\n",
    "    edit = \"/edit\"\n",
    "\n",
    "    def get_mount_name(self):\n",
    "        return self.value.rsplit(\"/\")[-1]\n",
    "\n",
    "    def get_app_url(self):\n",
    "        return f\"{config.PREFIX}{self.value}\"\n",
    "\n",
    "    def to(self, **kwargs):\n",
    "        if kwargs: return self.get_app_url().rstrip(\"/\")+\"?\"+\"&\".join([ f\"{k}={urllib.parse.quote(str(v))}\" for k,v in kwargs.items()])\n",
    "        else: return self.get_app_url()\n",
    "\n",
    "    def with_qparams(self, **kwargs):\n",
    "        if kwargs: return self.value.rstrip(\"/\")+\"?\"+\"&\".join([ f\"{k}={urllib.parse.quote(str(v))}\" for k,v in kwargs.items()])\n",
    "        else: return self.value"
   ]
  },
  {
   "cell_type": "code",
   "execution_count": null,
   "metadata": {},
   "outputs": [],
   "source": [
    "#| export\n",
    "class ResponseTypes(Enum):\n",
    "    file = 'file'\n",
    "    blob = 'blob'\n",
    "    html = 'html'\n",
    "    pygen = 'pygen'\n"
   ]
  },
  {
   "cell_type": "code",
   "execution_count": null,
   "metadata": {},
   "outputs": [
    {
     "data": {
      "text/plain": [
       "'/obsidian/open?vault=test&file=pages/Name%20of%20the%20game'"
      ]
     },
     "execution_count": null,
     "metadata": {},
     "output_type": "execute_result"
    }
   ],
   "source": [
    "MountPaths.gradio_url.get_mount_name()\n",
    "\n",
    "MountPaths.open.get_app_url()\n",
    "MountPaths.open.to(vault='test', file='pages/Name of the game')"
   ]
  },
  {
   "cell_type": "code",
   "execution_count": null,
   "metadata": {},
   "outputs": [],
   "source": [
    "#| hide\n",
    "import nbdev; nbdev.nbdev_export()"
   ]
  },
  {
   "cell_type": "code",
   "execution_count": null,
   "metadata": {},
   "outputs": [],
   "source": []
  },
  {
   "cell_type": "code",
   "execution_count": null,
   "metadata": {},
   "outputs": [],
   "source": []
  },
  {
   "cell_type": "code",
   "execution_count": null,
   "metadata": {},
   "outputs": [],
   "source": []
  }
 ],
 "metadata": {
  "kernelspec": {
   "display_name": "python3",
   "language": "python",
   "name": "python3"
  }
 },
 "nbformat": 4,
 "nbformat_minor": 4
}
